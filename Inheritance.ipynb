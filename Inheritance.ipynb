{
 "cells": [
  {
   "cell_type": "markdown",
   "id": "5bf4f398",
   "metadata": {},
   "source": [
    "## Single Inheritance "
   ]
  },
  {
   "cell_type": "code",
   "execution_count": 3,
   "id": "bf6bf4cc",
   "metadata": {},
   "outputs": [
    {
     "name": "stdout",
     "output_type": "stream",
     "text": [
      "Enter Employee's name: Shuja Ali\n",
      "Enter Department name:Accountancy\n",
      "Bonus:  35000\n",
      "Deduction:  4500\n",
      "GST:  500\n",
      "The monthly deduction/ addition to   Shuja Ali 's income is as follows:\n",
      "Bonus:  35000\n",
      "Deduction:  4500\n",
      "GST:  500\n",
      "Total income after deduction/addiction:  31000\n"
     ]
    }
   ],
   "source": [
    "class employee():\n",
    "    def getemployeedetails(self,):\n",
    "        self.sname = input(\"Enter Employee's name: \")\n",
    "        self.department = input(\"Enter Department name:\")\n",
    "    def displayemployeedetails(self,):\n",
    "        print(\"Employee name is: \",self.sname)\n",
    "        print(\"Department name is: \",self.course)\n",
    "###Child class\n",
    "class income (employee): ###single inheritance\n",
    "    avg_salary = 35000 ###static variable\n",
    "    def __init__(self,sub1,sub2,sub3):\n",
    "        self.bonus = sub1\n",
    "        self.deduction = sub2\n",
    "        self.GST = sub3\n",
    "    def displayemployeedetails(self,):\n",
    "        print(\"Bonus: \",self.bonus)\n",
    "        print(\"Deduction: \",self.deduction)\n",
    "        print(\"GST: \",self.GST)\n",
    "    def displayincome(self,):\n",
    "        print(\"Total income after deduction/addiction: \",self.bonus-self.deduction+self.GST)\n",
    "\n",
    "        \n",
    "s1 = employee() ###it is redundant\n",
    "ex1 = income(35000,4500,500)\n",
    "ex1.getemployeedetails()\n",
    "ex1.displayemployeedetails()\n",
    "print(\"The monthly deduction/ addition to  \", ex1.sname,\"'s income is as follows:\")\n",
    "ex1.displayemployeedetails()\n",
    "ex1.displayincome()\n"
   ]
  },
  {
   "cell_type": "markdown",
   "id": "f9927d7f",
   "metadata": {},
   "source": [
    "## Multi level Inheritance"
   ]
  },
  {
   "cell_type": "code",
   "execution_count": 18,
   "id": "c7f2ff05",
   "metadata": {},
   "outputs": [
    {
     "name": "stdout",
     "output_type": "stream",
     "text": [
      "Name of the Employee : Siddhant Lama\n",
      "Name of the Department : Accountancy\n",
      "The category of the Employee is:  General\n",
      "Income of the Employee : 222000\n"
     ]
    }
   ],
   "source": [
    "class employee:\n",
    "    empname = \"\"\n",
    "    def show_employee_details(self):\n",
    "        print(\"Name of the Employee :\", self.empname)\n",
    "\n",
    "\n",
    "class department:\n",
    "    deptname = \"\"\n",
    "    def show_department_details(self):\n",
    "        print(\"Name of the Department :\",self.deptname)\n",
    "\n",
    "\n",
    "class income(employee,department):\n",
    "    income = \"\"\n",
    "    def show_income_details(self):\n",
    "        print(\"The category of the Employee is: \",self.category)\n",
    "        print(\"Income of the Employee :\",self.income)\n",
    "\n",
    "\n",
    "s1 = income() # Object of Son class\n",
    "s1.empname = \"Siddhant Lama\"\n",
    "s1.deptname = \"Accountancy\"\n",
    "s1.category=\"General\"\n",
    "s1.income = 222000\n",
    "s1.msg = \"We are implementing Multilevel Inheritance\"\n",
    "s1.show_employee_details()\n",
    "s1.show_department_details()\n",
    "s1.show_income_details()"
   ]
  },
  {
   "cell_type": "markdown",
   "id": "8610833a",
   "metadata": {},
   "source": [
    "# Multiple Inheritance"
   ]
  },
  {
   "cell_type": "code",
   "execution_count": 23,
   "id": "e4dd94fa",
   "metadata": {},
   "outputs": [
    {
     "name": "stdout",
     "output_type": "stream",
     "text": [
      "Employee's name:  Siddhant\n",
      "Employee's age:  18\n",
      "Employee's category:  SC\n",
      "Bank's name: HDFC\n",
      "IFSC Code of the bank:  HDFC209865\n",
      "Income of the Employee:  55500\n",
      "Bank's GST Rate:  500\n",
      "Employee's total income after deduction : 55000\n"
     ]
    }
   ],
   "source": [
    "class emp:\n",
    "    empname = \"\"\n",
    "    empage= \"\"\n",
    "    empcateg= \"\"\n",
    "    def emp_details(self):\n",
    "        print(\"Employee's name: \",self.empname)\n",
    "        print(\"Employee's age: \",self.empage)\n",
    "        print(\"Employee's category: \",self.empcateg)\n",
    " \n",
    "\n",
    "class bank:\n",
    "    bankname = \"\"\n",
    "    IFSC_Code= \"\"\n",
    "    income= \"\"\n",
    "    GST= \"\"\n",
    "\n",
    "    def bank_details(self):\n",
    "        print(\"Bank's name:\",self.bankname)\n",
    "        print(\"IFSC Code of the bank: \",self.IFSC_Code)\n",
    "        print(\"Income of the Employee: \",self.income)\n",
    "        print(\"Bank's GST Rate: \",self.GST)\n",
    "       \n",
    " \n",
    "\n",
    "class finalincome(emp, bank):\n",
    "    def final_details(self):\n",
    "        print(\"Employee's total income after deduction :\", (self.income-self.GST))\n",
    "      \n",
    " \n",
    " \n",
    "s1 = finalincome()\n",
    "s1.empname = \"Siddhant\"\n",
    "s1.empage = \"18\"\n",
    "s1.empcateg = \"SC\"\n",
    "s1.bankname = \"HDFC\"\n",
    "s1.IFSC_Code = \"HDFC209865\"\n",
    "s1.income = 55500\n",
    "s1.GST = 500\n",
    "\n",
    "s1.emp_details()\n",
    "s1.bank_details()\n",
    "s1.final_details()"
   ]
  },
  {
   "cell_type": "markdown",
   "id": "88f73730",
   "metadata": {},
   "source": [
    "## Hierarchical Inheritance."
   ]
  },
  {
   "cell_type": "code",
   "execution_count": 28,
   "id": "de758a6d",
   "metadata": {},
   "outputs": [
    {
     "name": "stdout",
     "output_type": "stream",
     "text": [
      "Enter name of the Employee: Siddhant\n",
      "Enter the age of the Employee: 34\n",
      "Employee's name: Siddhant\n",
      "Employee's age: 34\n",
      "Enter the Account Number: 432562524\n",
      "Enter the Account Type: Savings\n",
      "Employee's Account Number:  432562524\n",
      "Employee's Account Type:  Savings\n",
      "Enter the original income: 55500\n",
      "Enter the GST: 500\n",
      "Enter the Service Tax: 100\n",
      "Total Income of the Employee:  55100\n"
     ]
    }
   ],
   "source": [
    "class emp():\n",
    "    def details(self):\n",
    "        self.name=input(\"Enter name of the Employee: \")\n",
    "        self.age=int(input(\"Enter the age of the Employee: \"))\n",
    "    def display(self):\n",
    "        print(\"Employee's name:\",self.name)\n",
    "        print(\"Employee's age:\",self.age)\n",
    "       \n",
    "class accdetails(emp):\n",
    "    def enter(self):\n",
    "        self.accno=input(\"Enter the Account Number: \")\n",
    "        self.acctype=input(\"Enter the Account Type: \")\n",
    "    def display1(self):\n",
    "        print(\"Employee's Account Number: \",self.accno)\n",
    "        print(\"Employee's Account Type: \",self.acctype)\n",
    "\n",
    "class finaldetails(emp):\n",
    "    def calculate(self):\n",
    "        self.income=int(input(\"Enter the original income: \"))\n",
    "        self.gst=int(input(\"Enter the GST: \"))\n",
    "        self.service_tax=int(input(\"Enter the Service Tax: \"))\n",
    "    \n",
    "        q=0\n",
    "        q=self.income-self.gst+self.service_tax\n",
    "        print(\"Total Income of the Employee: \",q)\n",
    "     \n",
    "       \n",
    "object=accdetails()\n",
    "object.details()\n",
    "object.display()\n",
    "object.enter()\n",
    "object.display1()\n",
    "\n",
    "p = finaldetails()\n",
    "p.calculate()"
   ]
  }
 ],
 "metadata": {
  "kernelspec": {
   "display_name": "Python 3 (ipykernel)",
   "language": "python",
   "name": "python3"
  },
  "language_info": {
   "codemirror_mode": {
    "name": "ipython",
    "version": 3
   },
   "file_extension": ".py",
   "mimetype": "text/x-python",
   "name": "python",
   "nbconvert_exporter": "python",
   "pygments_lexer": "ipython3",
   "version": "3.9.7"
  }
 },
 "nbformat": 4,
 "nbformat_minor": 5
}
