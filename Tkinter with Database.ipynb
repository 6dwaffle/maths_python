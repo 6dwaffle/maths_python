{
 "cells": [
  {
   "cell_type": "code",
   "execution_count": 1,
   "id": "9190b7d0",
   "metadata": {},
   "outputs": [
    {
     "name": "stdout",
     "output_type": "stream",
     "text": [
      "Database created successfully\n"
     ]
    }
   ],
   "source": [
    "#STEP1\n",
    "import sqlite3\n",
    "conn=sqlite3.connect(\"money.db\")\n",
    "print(\"Database created successfully\")"
   ]
  },
  {
   "cell_type": "code",
   "execution_count": 2,
   "id": "26bd72ef",
   "metadata": {},
   "outputs": [
    {
     "name": "stdout",
     "output_type": "stream",
     "text": [
      "Database Opened successfully\n",
      "Table ADMIN created successfully\n"
     ]
    }
   ],
   "source": [
    "#STEP 2\n",
    "import sqlite3\n",
    "conn=sqlite3.connect(\"money.db\")\n",
    "print(\"Database Opened successfully\")\n",
    "conn.execute(\"\"\"\n",
    "CREATE TABLE ADMIN(\n",
    "BANK_ID INTEGER PRIMARY KEY AUTOINCREMENT NOT NULL ,\n",
    "BANKNAME TEXT NOT NULL,\n",
    "UPIPIN TEXT NOT NULL)\n",
    "\"\"\")\n",
    "print (\"Table ADMIN created successfully\")"
   ]
  },
  {
   "cell_type": "code",
   "execution_count": 3,
   "id": "8c71269a",
   "metadata": {},
   "outputs": [
    {
     "name": "stdout",
     "output_type": "stream",
     "text": [
      "Database Opened successfully\n",
      "Records inserted successfully\n"
     ]
    }
   ],
   "source": [
    "#STEP 3\n",
    "import sqlite3\n",
    "conn=sqlite3.connect(\"money.db\")\n",
    "print(\"Database Opened successfully\")\n",
    "conn.execute(\"INSERT INTO ADMIN(BANKNAME,UPIPIN) VALUES ('hdfc', '1234')\");\n",
    "conn.execute(\"INSERT INTO ADMIN(BANKNAME,UPIPIN) VALUES ('sbi', '7860')\");\n",
    "conn.commit()\n",
    "print (\"Records inserted successfully\")\n",
    "conn.close()"
   ]
  },
  {
   "cell_type": "code",
   "execution_count": 4,
   "id": "c5dc2920",
   "metadata": {},
   "outputs": [
    {
     "name": "stdout",
     "output_type": "stream",
     "text": [
      "ID\tBANKNAME\tUPIPPIN\n",
      "1\thdfc\t\t1234\n",
      "2\tsbi\t\t7860\n"
     ]
    }
   ],
   "source": [
    "#STEP 4\n",
    "#import library\n",
    "import sqlite3\n",
    "#open database\n",
    "conn = sqlite3.connect('money.db')\n",
    "#display recrod\n",
    "cursor = conn.execute(\"SELECT * from ADMIN\")\n",
    "print(\"ID\\tBANKNAME\\tUPIPPIN\")\n",
    "for row in cursor:\n",
    "    print (\"{}\\t{}\\t\\t{}\".format(row[0],row[1],row[2]))\n",
    "conn.close()"
   ]
  },
  {
   "cell_type": "code",
   "execution_count": 10,
   "id": "124e5cec",
   "metadata": {},
   "outputs": [],
   "source": [
    "#STEP 5:\n",
    "from tkinter import *\n",
    "#import library\n",
    "import sqlite3\n",
    "#open databse\n",
    "#defining login function\n",
    "def login():\n",
    "    #getting form data\n",
    "    bname=bankname.get()\n",
    "    upi_pin=pin.get()\n",
    "    #applying empty validation\n",
    "    if bname=='' or pin=='':\n",
    "        message.set(\"fill the empty field!!!\")\n",
    "    else:\n",
    "        #open database\n",
    "        conn = sqlite3.connect('money.db')\n",
    "        #select query\n",
    "        cursor = conn.execute('SELECT * from ADMIN where BANKNAME=\"%s\" and UPIPIN=\"%s\"'%(bname,upi_pin))\n",
    "        #fetch data\n",
    "        if cursor.fetchone():\n",
    "            message.set(\"Money Debited\")\n",
    "        else:\n",
    "            message.set(\"Wrong Bankname or Upi Pin!!!\")"
   ]
  },
  {
   "cell_type": "code",
   "execution_count": null,
   "id": "6b39d9ad",
   "metadata": {},
   "outputs": [],
   "source": [
    "##Step 6\n",
    "from tkinter import *\n",
    "#import library\n",
    "import sqlite3\n",
    "#defining loginform function\n",
    "def Loginform():\n",
    "    global login_screen\n",
    "    login_screen = Tk()\n",
    "    #Setting title of screen\n",
    "    login_screen.title(\"www.googlepay.com\")\n",
    "    #setting height and width of screen\n",
    "    login_screen.geometry(\"350x250\")\n",
    "    login_screen[\"bg\"]=\"#1C2833\"\n",
    "    #declaring variable\n",
    "    global message;\n",
    "    global bankname\n",
    "    global pin\n",
    "    bankname = StringVar()\n",
    "    pin = IntVar()\n",
    "    message=StringVar()\n",
    "    #Creating layout of login form\n",
    "    Label(login_screen,width=\"300\", text=\"Money Debit\", bg=\"#0E6655\",fg=\"white\",font=(\"Arial\",12,\"bold\")).pack()\n",
    "    #Bankname Label\n",
    "    Label(login_screen, text=\"Bankname \",bg=\"#1C2833\",fg=\"white\",font=(\"Arial\",12,\"bold\")).place(x=20,y=40)\n",
    "    #Bankname textbox\n",
    "    Entry(login_screen, textvariable=bankname,bg=\"#1C2833\",fg=\"white\",font=(\"Arial\",12,\"bold\")).place(x=120,y=42)\n",
    "    #Pin Label\n",
    "    Label(login_screen, text=\"Pin \",bg=\"#1C2833\",fg=\"white\",font=(\"Arial\",12,\"bold\")).place(x=20,y=80)\n",
    "    #Pin textbox\n",
    "    Entry(login_screen, textvariable=pin ,show=\"*\",bg=\"#1C2833\",fg=\"white\",font=(\"Arial\",12,\"bold\")).place(x=120,y=82)\n",
    "    #Label for displaying login status[success/failed]\n",
    "    Label(login_screen, text=\"\",textvariable=message,bg=\"#1C2833\",fg=\"white\",font=(\"Arial\",12,\"bold\")).place(x=95,y=120)\n",
    "    #Login button\n",
    "    Button(login_screen, text=\"Enter\", width=10, height=1, command=login, bg=\"#0E6655\",fg=\"white\",font=(\"Arial\",12,\"bold\")).place(x=125,y=170)\n",
    "    login_screen.mainloop()\n",
    "#calling function Loginform\n",
    "Loginform()"
   ]
  },
  {
   "cell_type": "code",
   "execution_count": null,
   "id": "cb27868f",
   "metadata": {},
   "outputs": [],
   "source": []
  },
  {
   "cell_type": "code",
   "execution_count": null,
   "id": "12ce7383",
   "metadata": {},
   "outputs": [],
   "source": []
  },
  {
   "cell_type": "code",
   "execution_count": null,
   "id": "87e73657",
   "metadata": {},
   "outputs": [],
   "source": []
  }
 ],
 "metadata": {
  "kernelspec": {
   "display_name": "Python 3 (ipykernel)",
   "language": "python",
   "name": "python3"
  },
  "language_info": {
   "codemirror_mode": {
    "name": "ipython",
    "version": 3
   },
   "file_extension": ".py",
   "mimetype": "text/x-python",
   "name": "python",
   "nbconvert_exporter": "python",
   "pygments_lexer": "ipython3",
   "version": "3.9.7"
  }
 },
 "nbformat": 4,
 "nbformat_minor": 5
}
