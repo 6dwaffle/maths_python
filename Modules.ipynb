{
 "cells": [
  {
   "cell_type": "code",
   "execution_count": 7,
   "id": "885f6e57",
   "metadata": {},
   "outputs": [],
   "source": [
    "s1={\"name\": \"Shifa\", \"age\": 19, \"Country\":\"India\"}\n",
    "def welcome(name):\n",
    "    print(\"Hello\",  name,\"Welcome to hell\")"
   ]
  },
  {
   "cell_type": "code",
   "execution_count": 12,
   "id": "7b466e1e",
   "metadata": {},
   "outputs": [
    {
     "name": "stdout",
     "output_type": "stream",
     "text": [
      "('Computer Science', 'Math', 'Statistics')\n",
      "[98, 78, 99]\n"
     ]
    }
   ],
   "source": [
    "import mymodule1\n",
    "a=mymodule1.sub1\n",
    "print(a)\n",
    "a=mymodule1.score1\n",
    "print(a)"
   ]
  },
  {
   "cell_type": "code",
   "execution_count": 1,
   "id": "7c043ea0",
   "metadata": {},
   "outputs": [
    {
     "name": "stdout",
     "output_type": "stream",
     "text": [
      "Hello Shifa\n",
      "19\n"
     ]
    }
   ],
   "source": [
    "import mymodule1 as m1\n",
    "m1.welcome(\"Shifa\")\n",
    "a=m1.s1[\"age\"]\n",
    "print(a)"
   ]
  },
  {
   "cell_type": "code",
   "execution_count": 6,
   "id": "5d975524",
   "metadata": {},
   "outputs": [
    {
     "name": "stdout",
     "output_type": "stream",
     "text": [
      "yo Shifa\n",
      "Secondary\n"
     ]
    }
   ],
   "source": [
    "import my as m\n",
    "m.q(\"Shifa\")\n",
    "edu=m.empedu[1]\n",
    "print(edu)"
   ]
  },
  {
   "cell_type": "code",
   "execution_count": 2,
   "id": "ceb68fd7",
   "metadata": {},
   "outputs": [
    {
     "ename": "SyntaxError",
     "evalue": "EOL while scanning string literal (Temp/ipykernel_15664/83379540.py, line 33)",
     "output_type": "error",
     "traceback": [
      "\u001b[1;36m  File \u001b[1;32m\"C:\\Users\\Dell\\AppData\\Local\\Temp/ipykernel_15664/83379540.py\"\u001b[1;36m, line \u001b[1;32m33\u001b[0m\n\u001b[1;33m    print(\"The marks scored by \", ex1.sname,\" in 3 major subjects are as follows\u001b[0m\n\u001b[1;37m                                                                                ^\u001b[0m\n\u001b[1;31mSyntaxError\u001b[0m\u001b[1;31m:\u001b[0m EOL while scanning string literal\n"
     ]
    }
   ],
   "source": [
    "class emp():\n",
    "    def __init__(self,):\n",
    "        pass\n",
    "    def getempdetails(self,):\n",
    "        self.sname = input(\"enter Employee name\")\n",
    "        self.edu = input(\"enter course name\")\n",
    "    def displayempdetails(self,):\n",
    "        print(\"Employee name is: \",self.sname)\n",
    "        print(\"Education: \",self.edu)\n",
    "###Child class\n",
    "class exam (emp): ###single inheritance\n",
    "    passing_marks = 35 ###static variable\n",
    "    def __init__(self,sub1,sub2,sub3):\n",
    "        self.sub1 = sub1\n",
    "        self.sub2 = sub2\n",
    "        self.sub3 = sub3\n",
    "    def displayexamdetails(self,):\n",
    "        print(\"subject1 marks: \",self.sub1)\n",
    "        print(\"subject2 marks: \",self.sub2)\n",
    "        print(\"subject3 marks: \",self.sub3)\n",
    "    def displayresult(self,):\n",
    "        print(\"3 subjects Total: \",self.sub1+self.sub2+self.sub3)\n",
    "#print(\"subject2 marks: \",self.sub2)\n",
    "#print(\"subject3 marks: \",self.sub3)\n",
    "        if (self.sub1>34 and self.sub2>34 and self.sub3>34 ):\n",
    "            print(\"pass\")\n",
    "        else:\n",
    "            print(\"fail\")\n",
    "s1 = student() ###it is redundant\n",
    "ex1 = exam(35,45,50)\n",
    "ex1.getstudentdetails()\n",
    "ex1.displaystudentdetails()\n",
    "print(\"The marks scored by \", ex1.sname,\" in 3 major subjects are as follows\n",
    "ex1.displayexamdetails()\n",
    "ex1.displayresult()\n",
    "print(\"passing marks is: \",ex1.passing_marks)"
   ]
  },
  {
   "cell_type": "code",
   "execution_count": 24,
   "id": "ddf8872d",
   "metadata": {},
   "outputs": [
    {
     "name": "stdout",
     "output_type": "stream",
     "text": [
      "Name of Employee: Akil\n"
     ]
    },
    {
     "ename": "AttributeError",
     "evalue": "'emp' object has no attribute 'show_empage_details'",
     "output_type": "error",
     "traceback": [
      "\u001b[1;31m---------------------------------------------------------------------------\u001b[0m",
      "\u001b[1;31mAttributeError\u001b[0m                            Traceback (most recent call last)",
      "\u001b[1;32m~\\AppData\\Local\\Temp/ipykernel_15664/1002428491.py\u001b[0m in \u001b[0;36m<module>\u001b[1;34m\u001b[0m\n\u001b[0;32m     30\u001b[0m \u001b[0ms1\u001b[0m\u001b[1;33m.\u001b[0m\u001b[0mmsg\u001b[0m \u001b[1;33m=\u001b[0m \u001b[1;34m\"we are implementing multilevel inheritance\"\u001b[0m\u001b[1;33m\u001b[0m\u001b[1;33m\u001b[0m\u001b[0m\n\u001b[0;32m     31\u001b[0m \u001b[0ms1\u001b[0m\u001b[1;33m.\u001b[0m\u001b[0mshow_emp_details\u001b[0m\u001b[1;33m(\u001b[0m\u001b[1;33m)\u001b[0m\u001b[1;33m\u001b[0m\u001b[1;33m\u001b[0m\u001b[0m\n\u001b[1;32m---> 32\u001b[1;33m \u001b[0ms1\u001b[0m\u001b[1;33m.\u001b[0m\u001b[0mshow_empage_details\u001b[0m\u001b[1;33m(\u001b[0m\u001b[1;33m)\u001b[0m\u001b[1;33m\u001b[0m\u001b[1;33m\u001b[0m\u001b[0m\n\u001b[0m\u001b[0;32m     33\u001b[0m \u001b[0ms1\u001b[0m\u001b[1;33m.\u001b[0m\u001b[0mshow_occ_details\u001b[0m\u001b[1;33m(\u001b[0m\u001b[1;33m)\u001b[0m\u001b[1;33m\u001b[0m\u001b[1;33m\u001b[0m\u001b[0m\n",
      "\u001b[1;31mAttributeError\u001b[0m: 'emp' object has no attribute 'show_empage_details'"
     ]
    }
   ],
   "source": [
    "class emp():\n",
    "    def __init__(self):\n",
    "        pass\n",
    "    empname= \"\"\n",
    "    def show_emp_details(self):\n",
    "         print(\"Name of Employee:\", self.empname)\n",
    "\n",
    "# Education class inherited from Employee-Name\n",
    "class edu(emp):\n",
    "    def __init__(self):\n",
    "        pass\n",
    "    age = \"\"\n",
    "    def show_empage_details(self):\n",
    "        print(\"Age:\", self.age)\n",
    "\n",
    "# Occupation class inherited from Education\n",
    "class occ (edu):\n",
    "    msg=\"\"\n",
    "    occ=\"\"\n",
    "    def __init__(self):\n",
    "        pass\n",
    "    def show_occ_details(self):\n",
    "        print(\"Occupation is:\",self.occ)\n",
    "        print(self.msg)\n",
    "\n",
    "s1 = emp() # Object of Son class\n",
    "s1.empname = \"Akil\"\n",
    "s1.age = \"45\"\n",
    "s1.occ = \"Business \"\n",
    "s1.msg = \"we are implementing multilevel inheritance\"\n",
    "s1.show_emp_details()\n",
    "s1.show_empage_details()\n",
    "s1.show_occ_details()"
   ]
  },
  {
   "cell_type": "code",
   "execution_count": null,
   "id": "a7079d7e",
   "metadata": {},
   "outputs": [],
   "source": []
  },
  {
   "cell_type": "code",
   "execution_count": null,
   "id": "efb0d9c9",
   "metadata": {},
   "outputs": [],
   "source": []
  }
 ],
 "metadata": {
  "kernelspec": {
   "display_name": "Python 3 (ipykernel)",
   "language": "python",
   "name": "python3"
  },
  "language_info": {
   "codemirror_mode": {
    "name": "ipython",
    "version": 3
   },
   "file_extension": ".py",
   "mimetype": "text/x-python",
   "name": "python",
   "nbconvert_exporter": "python",
   "pygments_lexer": "ipython3",
   "version": "3.9.7"
  }
 },
 "nbformat": 4,
 "nbformat_minor": 5
}
