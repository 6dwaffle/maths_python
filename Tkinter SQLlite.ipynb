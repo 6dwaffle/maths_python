{
 "cells": [
  {
   "cell_type": "code",
   "execution_count": 3,
   "id": "2576a9e1",
   "metadata": {},
   "outputs": [
    {
     "name": "stdout",
     "output_type": "stream",
     "text": [
      "Database created successfully\n"
     ]
    }
   ],
   "source": [
    "#STEP 1\n",
    "import sqlite3\n",
    "conn=sqlite3.connect(\"student.db\")\n",
    "print(\"Database created successfully\")"
   ]
  },
  {
   "cell_type": "code",
   "execution_count": 7,
   "id": "d53469c6",
   "metadata": {},
   "outputs": [
    {
     "name": "stdout",
     "output_type": "stream",
     "text": [
      "Database Opened Successfully\n"
     ]
    },
    {
     "data": {
      "text/plain": [
       "<sqlite3.Cursor at 0x1da8e1dad50>"
      ]
     },
     "execution_count": 7,
     "metadata": {},
     "output_type": "execute_result"
    }
   ],
   "source": [
    "#STEP 2\n",
    "import sqlite3\n",
    "conn=sqlite3.connect(\"student.db\")\n",
    "print(\"Database Opened Successfully\")\n",
    "conn.execute(\"\"\"\n",
    "CREATE TABLE ADMIN(\n",
    "ADMIN_ID INTEGER PRIMARY KEY AUTOINCREMENT NOT NULL,\n",
    "USERNAME TEXT NOT NULL,\n",
    "PASSWORD TEXT NOT NULL)\n",
    "\"\"\")"
   ]
  },
  {
   "cell_type": "code",
   "execution_count": 10,
   "id": "1c74b461",
   "metadata": {},
   "outputs": [
    {
     "name": "stdout",
     "output_type": "stream",
     "text": [
      "Database Opened Successfully\n",
      "Database Inserted Successfully\n"
     ]
    }
   ],
   "source": [
    "#STEP 3\n",
    "import sqlite3\n",
    "conn=sqlite3.connect(\"student.db\")\n",
    "print(\"Database Opened Successfully\")\n",
    "conn.execute(\"INSERT INTO ADMIN(USERNAME,PASSWORD) VALUES ('Shifa', 'admin1')\")\n",
    "conn.execute(\"INSERT INTO ADMIN(USERNAME,PASSWORD) VALUES ('Shuja', 'admin2')\")\n",
    "conn.commit()\n",
    "print(\"Database Inserted Successfully\")\n",
    "conn.close()"
   ]
  },
  {
   "cell_type": "code",
   "execution_count": 12,
   "id": "ffbb0b9e",
   "metadata": {},
   "outputs": [
    {
     "name": "stdout",
     "output_type": "stream",
     "text": [
      "ID\tUSERNAME\tPASSWORD\n",
      "1\tShifa\t\tadmin1\n",
      "2\tShuja\t\tadmin2\n"
     ]
    }
   ],
   "source": [
    "#STEP 4\n",
    "#import library\n",
    "import sqlite3\n",
    "#open database\n",
    "conn=sqlite3.connect(\"student.db\")\n",
    "#display record\n",
    "cursor=conn.execute(\"SELECT * FROM ADMIN\")\n",
    "print(\"ID\\tUSERNAME\\tPASSWORD\")\n",
    "for row in cursor:\n",
    "    print(\"{}\\t{}\\t\\t{}\".format(row[0],row[1],row[2]))\n",
    "conn.close()"
   ]
  },
  {
   "cell_type": "code",
   "execution_count": 1,
   "id": "e6aa63dd",
   "metadata": {},
   "outputs": [],
   "source": [
    "#STEP 5\n",
    "from tkinter import *\n",
    "#import library\n",
    "import sqlite3\n",
    "#defining login function:\n",
    "def login():\n",
    "    uname=username.get()\n",
    "    pwd=password.get()\n",
    "    if uname==' ' or pwd==' ':\n",
    "        message.set(\"Fill the empty Field\")\n",
    "    else:\n",
    "     #open database\n",
    "        conn=sqlite3.connect('student.db')\n",
    "        #select query\n",
    "        cursor=conn.execute('SELECT * FROM ADMIN where USERNAME=\"%s\" and PASSWORD=\"%s\"'%(uname,pwd))\n",
    "        #fetch data\n",
    "        if cursor.fetchone():\n",
    "            message.set(\"Login Success\")\n",
    "        else:\n",
    "            message.set(\"Wrong Username or Password\")"
   ]
  },
  {
   "cell_type": "code",
   "execution_count": 2,
   "id": "dc9780f7",
   "metadata": {},
   "outputs": [],
   "source": [
    "##Step 6\n",
    "from tkinter import *\n",
    "#import library\n",
    "import sqlite3\n",
    "#defining loginform function\n",
    "def Loginform():\n",
    "    global login_screen\n",
    "    login_screen = Tk()\n",
    "    #Setting title of screen\n",
    "    login_screen.title(\"www.Ummesalmam.com\")\n",
    "    #setting height and width of screen\n",
    "    login_screen.geometry(\"350x250\")\n",
    "    login_screen[\"bg\"]=\"#1C2833\"\n",
    "    #declaring variable\n",
    "    global message;\n",
    "    global username\n",
    "    global password\n",
    "    username = StringVar()\n",
    "    password = StringVar()\n",
    "    message=StringVar()\n",
    "#Creating layout of login form\n",
    "    Label(login_screen,width=\"300\", text=\"Login From\", bg=\"#0E6655\",fg=\"white\",font=(\"Arial\",12,\"bold\")).pack()\n",
    "#Username Label\n",
    "    Label(login_screen, text=\"Username * \",bg=\"#1C2833\",fg=\"white\",font=(\"Arial\",12,\"bold\")).place(x=20,y=40)\n",
    "#Username textbox\n",
    "    Entry(login_screen, textvariable=username,bg=\"#1C2833\",fg=\"white\",font=(\"Arial\",12,\"bold\")).place(x=120,y=42)\n",
    "#Password Label\n",
    "    Label(login_screen, text=\"Password * \",bg=\"#1C2833\",fg=\"white\",font=(\"Arial\",12,\"bold\")).place(x=20,y=80)\n",
    "#Password textbox\n",
    "    Entry(login_screen, textvariable=password ,show=\"*\",bg=\"#1C2833\",fg=\"white\",font=(\"Arial\",12,\"bold\")).place(x=120,y=82)\n",
    "#Label for displaying login status[success/failed]\n",
    "    Label(login_screen, text=\"\",textvariable=message,bg=\"#1C2833\",fg=\"white\",font=(\"Arial\",12,\"bold\")).place(x=95,y=120)\n",
    "#Login button\n",
    "    Button(login_screen, text=\"Login\", width=10, height=1, command=login, bg=\"#0E6655\",fg=\"white\",font=(\"Arial\",12,\"bold\")).place(x=125,y=170)\n",
    "    login_screen.mainloop()\n",
    "#calling function Loginform\n",
    "Loginform()"
   ]
  },
  {
   "cell_type": "code",
   "execution_count": null,
   "id": "28b6eef9",
   "metadata": {},
   "outputs": [],
   "source": []
  },
  {
   "cell_type": "code",
   "execution_count": null,
   "id": "e539ca61",
   "metadata": {},
   "outputs": [],
   "source": []
  },
  {
   "cell_type": "code",
   "execution_count": null,
   "id": "1a0af8de",
   "metadata": {},
   "outputs": [],
   "source": []
  },
  {
   "cell_type": "code",
   "execution_count": null,
   "id": "626f38bf",
   "metadata": {},
   "outputs": [],
   "source": []
  }
 ],
 "metadata": {
  "kernelspec": {
   "display_name": "Python 3 (ipykernel)",
   "language": "python",
   "name": "python3"
  },
  "language_info": {
   "codemirror_mode": {
    "name": "ipython",
    "version": 3
   },
   "file_extension": ".py",
   "mimetype": "text/x-python",
   "name": "python",
   "nbconvert_exporter": "python",
   "pygments_lexer": "ipython3",
   "version": "3.9.7"
  }
 },
 "nbformat": 4,
 "nbformat_minor": 5
}
