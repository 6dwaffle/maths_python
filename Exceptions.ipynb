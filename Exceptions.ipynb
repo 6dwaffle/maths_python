{
 "cells": [
  {
   "cell_type": "code",
   "execution_count": 3,
   "id": "eb883acb",
   "metadata": {},
   "outputs": [
    {
     "name": "stdout",
     "output_type": "stream",
     "text": [
      "Hurray! My rank is 1\n"
     ]
    }
   ],
   "source": [
    "Rank='1st'\n",
    "Rank=1\n",
    "if not type(Rank) is int:\n",
    "    raise TypeError(\"Datatype Mismatch Error: Only integers are allowed\")\n",
    "else:\n",
    "    print(\"Hurray! My rank is\", Rank)"
   ]
  },
  {
   "cell_type": "code",
   "execution_count": 5,
   "id": "3dce2ecf",
   "metadata": {},
   "outputs": [
    {
     "name": "stdout",
     "output_type": "stream",
     "text": [
      "Income is 156000\n"
     ]
    }
   ],
   "source": [
    "\n",
    "Income=156000\n",
    "if not type(Income) is int:\n",
    "    raise TypeError(\"Datatype Mismatch Error: Only integers are allowed\")\n",
    "else:\n",
    "    print(\"Income is\", Income)"
   ]
  },
  {
   "cell_type": "code",
   "execution_count": null,
   "id": "6c8be570",
   "metadata": {},
   "outputs": [],
   "source": []
  },
  {
   "cell_type": "code",
   "execution_count": null,
   "id": "67327586",
   "metadata": {},
   "outputs": [],
   "source": []
  },
  {
   "cell_type": "code",
   "execution_count": null,
   "id": "67c5937c",
   "metadata": {},
   "outputs": [],
   "source": []
  },
  {
   "cell_type": "code",
   "execution_count": null,
   "id": "38eac4cc",
   "metadata": {},
   "outputs": [],
   "source": []
  },
  {
   "cell_type": "code",
   "execution_count": null,
   "id": "a0580743",
   "metadata": {},
   "outputs": [],
   "source": []
  },
  {
   "cell_type": "code",
   "execution_count": null,
   "id": "c853e23c",
   "metadata": {},
   "outputs": [],
   "source": []
  },
  {
   "cell_type": "code",
   "execution_count": null,
   "id": "099e9cd5",
   "metadata": {},
   "outputs": [],
   "source": []
  },
  {
   "cell_type": "code",
   "execution_count": null,
   "id": "5f23e480",
   "metadata": {},
   "outputs": [],
   "source": []
  },
  {
   "cell_type": "code",
   "execution_count": null,
   "id": "0f2e5736",
   "metadata": {},
   "outputs": [],
   "source": []
  }
 ],
 "metadata": {
  "kernelspec": {
   "display_name": "Python 3 (ipykernel)",
   "language": "python",
   "name": "python3"
  },
  "language_info": {
   "codemirror_mode": {
    "name": "ipython",
    "version": 3
   },
   "file_extension": ".py",
   "mimetype": "text/x-python",
   "name": "python",
   "nbconvert_exporter": "python",
   "pygments_lexer": "ipython3",
   "version": "3.9.7"
  }
 },
 "nbformat": 4,
 "nbformat_minor": 5
}
