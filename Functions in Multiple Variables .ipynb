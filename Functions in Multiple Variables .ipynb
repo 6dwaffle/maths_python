{
 "cells": [
  {
   "cell_type": "markdown",
   "id": "c0661900",
   "metadata": {},
   "source": [
    "### Function in Multiple Variables"
   ]
  },
  {
   "cell_type": "code",
   "execution_count": 6,
   "id": "3fc2b150",
   "metadata": {},
   "outputs": [],
   "source": [
    "import numpy as np\n",
    "import matplotlib.pyplot as plt\n",
    "%matplotlib inline\n",
    "from scipy.optimize import fsolve"
   ]
  },
  {
   "cell_type": "markdown",
   "id": "bcde844e",
   "metadata": {},
   "source": [
    "#### Q2. Solve the function $x^{2} + y^{2} = 16$ "
   ]
  },
  {
   "cell_type": "code",
   "execution_count": 24,
   "id": "5de3dd11",
   "metadata": {},
   "outputs": [
    {
     "name": "stdout",
     "output_type": "stream",
     "text": [
      "[3. 2.]\n"
     ]
    }
   ],
   "source": [
    "def myfunction(z):\n",
    "    x=z[0]\n",
    "    y=z[1]\n",
    "    F=np.empty((2))\n",
    "    F[0]=x**2+y**2 -16\n",
    "    return F\n",
    "zGuess=np.array([3,2])\n",
    "z=fsolve(myfunction,zGuess)\n",
    "print(z)"
   ]
  },
  {
   "cell_type": "code",
   "execution_count": 13,
   "id": "18f35af2",
   "metadata": {},
   "outputs": [
    {
     "name": "stdout",
     "output_type": "stream",
     "text": [
      "[3. 4. 2.]\n"
     ]
    }
   ],
   "source": [
    "def myfunction(z):\n",
    "    x=z[0]\n",
    "    y=z[1]\n",
    "    w=z[2]\n",
    "    F=np.empty((3))\n",
    "    F[0]=x**2+y**2 + w**2\n",
    "    return F\n",
    "zGuess=np.array([3,4,2])\n",
    "z=fsolve(myfunction,zGuess)\n",
    "print(z)"
   ]
  },
  {
   "cell_type": "code",
   "execution_count": 25,
   "id": "b179b4fe",
   "metadata": {},
   "outputs": [
    {
     "name": "stdout",
     "output_type": "stream",
     "text": [
      "[2. 4. 3.]\n"
     ]
    }
   ],
   "source": [
    "def myfunction(z):\n",
    "    x=z[0]\n",
    "    y=z[1]\n",
    "    w=z[2]\n",
    "    F=np.empty((3))\n",
    "    F[0]=x**2+y**2 -20\n",
    "    F[1]=y - x**2\n",
    "    F[2]=w+5 -x*y\n",
    "    return F\n",
    "zGuess=np.array([1,1,1])\n",
    "z=fsolve(myfunction,zGuess)\n",
    "print(z)"
   ]
  },
  {
   "cell_type": "code",
   "execution_count": 26,
   "id": "c2c951dd",
   "metadata": {},
   "outputs": [
    {
     "name": "stdout",
     "output_type": "stream",
     "text": [
      "The solution to the set of equations are: x=0.620345, y=1.838384\n",
      "x+y**2 -4 = 0\n",
      "exp(x) + x*y -3 =0\n"
     ]
    }
   ],
   "source": [
    "from math import exp\n",
    "def equations(vars):\n",
    "    x,y=vars\n",
    "    eq1 = x+y**2 -4\n",
    "    eq2= exp(x) + x*y -3\n",
    "    return [eq1, eq2]\n",
    "\n",
    "x,y= fsolve(equations, (1,1))\n",
    "print(\"The solution to the set of equations are: x=%f, y=%f\"%(x,y))\n",
    "eq1 = x+y**2 -4\n",
    "eq2= exp(x) + x*y -3\n",
    "print('x+y**2 -4 = %d'%(eq1))\n",
    "print('exp(x) + x*y -3 =%d' %(eq2))\n"
   ]
  },
  {
   "cell_type": "markdown",
   "id": "6c985426",
   "metadata": {},
   "source": [
    "### Multiple Equations in mutiple unkowns"
   ]
  },
  {
   "cell_type": "markdown",
   "id": "cdfce071",
   "metadata": {},
   "source": [
    "### Sympy is a package for symbolic solutions in Python that can be usd to solve systems of equations\n",
    "\n",
    "### Q3. Solve the following two equations in two unknowns.\n",
    "$h(y,z)=y+2z,\n",
    "g(y,z)=\\frac{sin(y)}{z}$\n",
    "Use $y_{0}=1$, and $zy_{0}=2$ as an initial guess.\n"
   ]
  },
  {
   "cell_type": "code",
   "execution_count": 27,
   "id": "c1947380",
   "metadata": {},
   "outputs": [
    {
     "data": {
      "text/plain": [
       "array([ 9.42477796, -4.71238898])"
      ]
     },
     "execution_count": 27,
     "metadata": {},
     "output_type": "execute_result"
    }
   ],
   "source": [
    "def hg(yz):\n",
    "    y=yz[0]\n",
    "    z=yz[1]\n",
    "    \n",
    "    h=y+2*z\n",
    "    g=np.sin(y)/z\n",
    "    \n",
    "    return np.array([h,g])\n",
    "\n",
    "yz0= np.array([1,2])\n",
    "yz=fsolve(hg,yz0)\n",
    "yz"
   ]
  },
  {
   "cell_type": "markdown",
   "id": "6b666d04",
   "metadata": {},
   "source": [
    "### Q4. Solve the following system of three equations in three unknowns:\n",
    "$x^{2} + y^{2} =1$ <br>\n",
    "$xy + yz =-1.1$ <br>\n",
    "$y^{2} + z^{2} =2$ <br>\n",
    "A reasonable guess for all variables is $x=y=z=2$"
   ]
  },
  {
   "cell_type": "code",
   "execution_count": 29,
   "id": "3a72c81c",
   "metadata": {},
   "outputs": [
    {
     "name": "stdout",
     "output_type": "stream",
     "text": [
      "0.5627316351525624 130055.85554248655 187461.64644362385 [-0.36666621  1.73333379 -1.36666621]\n"
     ]
    }
   ],
   "source": [
    "def f(xyz):\n",
    "    x=xyz[0]\n",
    "    y=xyz[0]\n",
    "    z=xyz[0]\n",
    "    f0= x**2 + y**2 -1\n",
    "    f1= x*y + y*z +1.1\n",
    "    f2= y**2 + z**2 -2\n",
    "    \n",
    "    return np.array([f0,f1,f2])\n",
    "xyz0=np.array([2.0,2,2])\n",
    "\n",
    "xyz=fsolve(f,xyz0)\n",
    "x=xyz[0]\n",
    "y=xyz[1]\n",
    "z=xyz[2]\n",
    "\n",
    "print(x,y,z, f(xyz))"
   ]
  }
 ],
 "metadata": {
  "kernelspec": {
   "display_name": "Python 3 (ipykernel)",
   "language": "python",
   "name": "python3"
  },
  "language_info": {
   "codemirror_mode": {
    "name": "ipython",
    "version": 3
   },
   "file_extension": ".py",
   "mimetype": "text/x-python",
   "name": "python",
   "nbconvert_exporter": "python",
   "pygments_lexer": "ipython3",
   "version": "3.9.7"
  }
 },
 "nbformat": 4,
 "nbformat_minor": 5
}
