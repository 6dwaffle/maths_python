{
 "cells": [
  {
   "cell_type": "markdown",
   "id": "c80a1d6b",
   "metadata": {},
   "source": [
    "### Find the sum of the series 1+2+3+...+N"
   ]
  },
  {
   "cell_type": "code",
   "execution_count": 6,
   "id": "fb86182d",
   "metadata": {},
   "outputs": [
    {
     "name": "stdout",
     "output_type": "stream",
     "text": [
      "Enter the range of the number: \n",
      "10\n",
      "The sum of the series 55\n"
     ]
    }
   ],
   "source": [
    "print(\"Enter the range of the number: \")\n",
    "n=int(input())\n",
    "sum=0\n",
    "for i in range(1,n+1):\n",
    "    sum+=i\n",
    "print(\"The sum of the series\", sum)"
   ]
  },
  {
   "cell_type": "markdown",
   "id": "580873a6",
   "metadata": {},
   "source": [
    "### Find the sum of the series $1^3$+$2^3$+$3^3$...+$N^3$"
   ]
  },
  {
   "cell_type": "code",
   "execution_count": 10,
   "id": "63f234c2",
   "metadata": {},
   "outputs": [
    {
     "name": "stdout",
     "output_type": "stream",
     "text": [
      "Enter the range of the number: \n",
      "6\n",
      "The sum of the series 441\n"
     ]
    }
   ],
   "source": [
    "print(\"Enter the range of the number: \")\n",
    "n=int(input())\n",
    "sum=0\n",
    "for i in range(1,n+1):\n",
    "    sum+=i**3\n",
    "print(\"The sum of the series\", sum)"
   ]
  },
  {
   "cell_type": "markdown",
   "id": "c4e27555",
   "metadata": {},
   "source": [
    "### Find the sum of the series 1-2+3-4...+N\n"
   ]
  },
  {
   "cell_type": "code",
   "execution_count": 8,
   "id": "6221b117",
   "metadata": {},
   "outputs": [
    {
     "name": "stdout",
     "output_type": "stream",
     "text": [
      "Enter the range of the number: \n",
      "10\n",
      "-5\n"
     ]
    }
   ],
   "source": [
    "# Function to calculate sum\n",
    "def solve_sum(n):\n",
    "    # when n is odd\n",
    "    if(n % 2 == 1):\n",
    "        return (n + 1)/2\n",
    " \n",
    "    # when n is not odd\n",
    "    return -n / 2\n",
    " \n",
    "print(\"Enter the range of the number: \")\n",
    "n=int(input())\n",
    " \n",
    "print(int(solve_sum(n)))"
   ]
  },
  {
   "cell_type": "code",
   "execution_count": null,
   "id": "219e2bcb",
   "metadata": {},
   "outputs": [],
   "source": []
  },
  {
   "cell_type": "code",
   "execution_count": 11,
   "id": "b72888ab",
   "metadata": {},
   "outputs": [
    {
     "name": "stdout",
     "output_type": "stream",
     "text": [
      "Enter the number of terms: 10\n",
      "Enter the values of x: 1\n",
      "1.0\n",
      "1.5\n",
      "1.8333333333333333\n",
      "2.083333333333333\n",
      "2.283333333333333\n",
      "2.4499999999999997\n",
      "2.5928571428571425\n",
      "2.7178571428571425\n",
      "2.8289682539682537\n",
      "2.9289682539682538\n",
      "The sum of series is 2.93\n"
     ]
    }
   ],
   "source": [
    "n=int(input(\"Enter the number of terms: \"))\n",
    "x=int(input(\"Enter the values of x: \"))\n",
    "sum1=0\n",
    "for i in range(1,n+1):\n",
    "    sum1=sum1+((x**i)/i)\n",
    "    print(sum1)\n",
    "print(\"The sum of series is\", round(sum1,2))"
   ]
  },
  {
   "cell_type": "code",
   "execution_count": null,
   "id": "dc346345",
   "metadata": {},
   "outputs": [],
   "source": []
  },
  {
   "cell_type": "code",
   "execution_count": 4,
   "id": "0411990f",
   "metadata": {},
   "outputs": [
    {
     "name": "stdout",
     "output_type": "stream",
     "text": [
      "Enter the number of terms you want in the series: 4\n",
      " 4    3    2    \n",
      "x    x    x     \n",
      "── + ── + ── + x\n",
      "4    3    2     \n"
     ]
    }
   ],
   "source": [
    "import sympy as sp\n",
    "from sympy import pprint\n",
    "x=sp.Symbol('x')\n",
    "series=x\n",
    "\n",
    "n=int(input('Enter the number of terms you want in the series: '))\n",
    "\n",
    "\n",
    "for i in range(2,n+1):\n",
    "    series=series+(x**i)/i\n",
    "pprint(series)"
   ]
  },
  {
   "cell_type": "code",
   "execution_count": 4,
   "id": "ea70b29c",
   "metadata": {},
   "outputs": [
    {
     "name": "stdout",
     "output_type": "stream",
     "text": [
      "Enter the number of terms you want in the series: 5\n",
      "     2    3    4    5\n",
      "    x    x    x    x \n",
      "x + ── + ── + ── + ──\n",
      "    2    3    4    5 \n"
     ]
    }
   ],
   "source": [
    "from sympy import Symbol,pprint,init_printing\n",
    "def print_series(n):\n",
    "    init_printing(order='rev-lex')\n",
    "    x=Symbol('x')\n",
    "    series=x\n",
    "    for i in range(2,n+1):\n",
    "        series=series+(x**i)/i\n",
    "    pprint(series)\n",
    "n=int(input('Enter the number of terms you want in the series: '))\n",
    "print_series(int(n))"
   ]
  },
  {
   "cell_type": "markdown",
   "id": "1fb792cc",
   "metadata": {},
   "source": [
    "### Calculate the Value of Series"
   ]
  },
  {
   "cell_type": "markdown",
   "id": "7b661252",
   "metadata": {},
   "source": [
    "In addition to printing the series, we want our program to be able to find the value of the series for a particular value"
   ]
  },
  {
   "cell_type": "code",
   "execution_count": 11,
   "id": "6e8b5333",
   "metadata": {},
   "outputs": [
    {
     "name": "stdout",
     "output_type": "stream",
     "text": [
      "Enter the number of terms you want in the series: 5\n",
      "Enter the value of x at which  you want to evaluate the series: 2\n",
      "     2    3    4    5\n",
      "    x    x    x    x \n",
      "x + ── + ── + ── + ──\n",
      "    2    3    4    5 \n",
      "Value of the series at 2.0:17.0666666666667 \n"
     ]
    }
   ],
   "source": [
    "from sympy import Symbol,pprint,init_printing\n",
    "def print_series(n,x_value):\n",
    "    init_printing(order='rev-lex')\n",
    "    x=Symbol('x')\n",
    "    series=x\n",
    "    for i in range(2,n+1):\n",
    "        series=series+(x**i)/i\n",
    "    pprint(series)\n",
    "    series_value=series.subs({x:x_value})\n",
    "    print('Value of the series at {0}:{1} '.format(x_value,series_value))\n",
    "n=int(input('Enter the number of terms you want in the series: '))\n",
    "x_value=int(input('Enter the value of x at which  you want to evaluate the series: '))\n",
    "print_series(int(n), float(x_value))"
   ]
  },
  {
   "cell_type": "markdown",
   "id": "5bae1f62",
   "metadata": {},
   "source": [
    "### Fibonacci Series"
   ]
  },
  {
   "cell_type": "markdown",
   "id": "1a23a5bd",
   "metadata": {},
   "source": [
    "### 0 1 1 2 3 5 8 13 ..."
   ]
  },
  {
   "cell_type": "code",
   "execution_count": 7,
   "id": "b32c82b7",
   "metadata": {},
   "outputs": [
    {
     "name": "stdout",
     "output_type": "stream",
     "text": [
      "Enter thr value of n4\n",
      "Fibonacci sequence:\n",
      "0\n",
      "1\n",
      "1\n",
      "2\n"
     ]
    }
   ],
   "source": [
    "nterms=int(input(\"Enter thr value of n\"))\n",
    "n1, n2 = 0, 1\n",
    "count = 0\n",
    "\n",
    "# check if the number of terms is valid\n",
    "if nterms <= 0:\n",
    "   print(\"Please enter a positive integer\")\n",
    "# if there is only one term, return n1\n",
    "elif nterms == 1:\n",
    "   print(\"Fibonacci sequence upto\",nterms,\":\")\n",
    "   print(n1)\n",
    "# generate fibonacci sequence\n",
    "else:\n",
    "   print(\"Fibonacci sequence:\")\n",
    "   while count < nterms:\n",
    "       print(n1)\n",
    "       nth = n1 + n2\n",
    "       # update values\n",
    "       n1 = n2\n",
    "       n2 = nth\n",
    "       count += 1\n"
   ]
  },
  {
   "cell_type": "markdown",
   "id": "a90c3453",
   "metadata": {},
   "source": [
    "### Find the sum of the series 2+4+6+8+...+N"
   ]
  },
  {
   "cell_type": "code",
   "execution_count": 16,
   "id": "df7439b7",
   "metadata": {},
   "outputs": [
    {
     "name": "stdout",
     "output_type": "stream",
     "text": [
      "Enter the range of the number: 24\n",
      "The sum of the Series= 156\n"
     ]
    }
   ],
   "source": [
    "n=int(input('Enter the range of the number: '))\n",
    "sum=0\n",
    "i=0\n",
    "while i<=n:\n",
    "    sum+=i\n",
    "    i+=2\n",
    "print(\"The sum of the Series=\", sum)"
   ]
  },
  {
   "cell_type": "markdown",
   "id": "0e6a62b9",
   "metadata": {},
   "source": [
    "### Find the sum of the series 9+99+999+9999+...+N"
   ]
  },
  {
   "cell_type": "code",
   "execution_count": 23,
   "id": "e2996371",
   "metadata": {},
   "outputs": [
    {
     "name": "stdout",
     "output_type": "stream",
     "text": [
      "Enter the range of the number: 2\n",
      "The sum of the Series= 108\n"
     ]
    }
   ],
   "source": [
    "n=int(input('Enter the range of the number: '))\n",
    "sum=0\n",
    "p=9\n",
    "for i in range(1,n+1):\n",
    "    sum+=p\n",
    "    p=(p*10)+9\n",
    "print(\"The sum of the Series=\", sum)"
   ]
  },
  {
   "cell_type": "markdown",
   "id": "7efee455",
   "metadata": {},
   "source": [
    "### Find the sum of the series 1+(1+3)+(1+3+5)+...+N"
   ]
  },
  {
   "cell_type": "code",
   "execution_count": 26,
   "id": "c00f758e",
   "metadata": {},
   "outputs": [
    {
     "name": "stdout",
     "output_type": "stream",
     "text": [
      "Enter the range of the number: 6\n",
      "The sum of the Series= 14\n"
     ]
    }
   ],
   "source": [
    "n=int(input('Enter the range of the number: '))\n",
    "sum=0\n",
    "i=1\n",
    "sum=0\n",
    "while(i<=n):\n",
    "    for j in range(1,i+1,2):\n",
    "        sum+=j\n",
    "    i+=2\n",
    "print(\"The sum of the Series=\", sum)"
   ]
  },
  {
   "cell_type": "markdown",
   "id": "46dea1d0",
   "metadata": {},
   "source": [
    "### Find the sum of the series 1!+2!+3!+4!+...+N!"
   ]
  },
  {
   "cell_type": "code",
   "execution_count": 29,
   "id": "dc974502",
   "metadata": {},
   "outputs": [
    {
     "name": "stdout",
     "output_type": "stream",
     "text": [
      "Enter the range of the number: 5\n",
      "The sum of the Series= 153\n"
     ]
    }
   ],
   "source": [
    "n=int(input('Enter the range of the number: '))\n",
    "sum=0\n",
    "fact=1\n",
    "for i in range(1,n+1):\n",
    "    fact*=i\n",
    "    sum+=fact\n",
    "print(\"The sum of the Series=\", sum)"
   ]
  },
  {
   "cell_type": "code",
   "execution_count": null,
   "id": "776aa679",
   "metadata": {},
   "outputs": [],
   "source": []
  }
 ],
 "metadata": {
  "kernelspec": {
   "display_name": "Python 3 (ipykernel)",
   "language": "python",
   "name": "python3"
  },
  "language_info": {
   "codemirror_mode": {
    "name": "ipython",
    "version": 3
   },
   "file_extension": ".py",
   "mimetype": "text/x-python",
   "name": "python",
   "nbconvert_exporter": "python",
   "pygments_lexer": "ipython3",
   "version": "3.9.7"
  }
 },
 "nbformat": 4,
 "nbformat_minor": 5
}
