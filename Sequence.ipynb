{
 "cells": [
  {
   "cell_type": "markdown",
   "id": "ca3927ea",
   "metadata": {},
   "source": [
    "### What is a Sequence"
   ]
  },
  {
   "cell_type": "markdown",
   "id": "24da85d8",
   "metadata": {},
   "source": [
    "#### A sequence is a generic term for an ordered set"
   ]
  },
  {
   "cell_type": "code",
   "execution_count": 1,
   "id": "a599ef5e",
   "metadata": {},
   "outputs": [
    {
     "data": {
      "text/latex": [
       "$\\displaystyle n^{2}$"
      ],
      "text/plain": [
       "n**2"
      ]
     },
     "execution_count": 1,
     "metadata": {},
     "output_type": "execute_result"
    }
   ],
   "source": [
    "from sympy import SeqFormula, Symbol\n",
    "n=Symbol('n')\n",
    "s=SeqFormula(n**2, (n,0,5))\n",
    "s.formula"
   ]
  },
  {
   "cell_type": "markdown",
   "id": "09604a93",
   "metadata": {},
   "source": [
    "<b> For value at a particular point"
   ]
  },
  {
   "cell_type": "code",
   "execution_count": 2,
   "id": "ce0e41b4",
   "metadata": {},
   "outputs": [
    {
     "data": {
      "text/latex": [
       "$\\displaystyle 9$"
      ],
      "text/plain": [
       "9"
      ]
     },
     "execution_count": 2,
     "metadata": {},
     "output_type": "execute_result"
    }
   ],
   "source": [
    "s.coeff(3)"
   ]
  },
  {
   "cell_type": "markdown",
   "id": "a8fab756",
   "metadata": {},
   "source": [
    "### supports slicing"
   ]
  },
  {
   "cell_type": "code",
   "execution_count": 3,
   "id": "0af176dd",
   "metadata": {},
   "outputs": [
    {
     "data": {
      "text/plain": [
       "[0, 1, 4, 9, 16, 25]"
      ]
     },
     "execution_count": 3,
     "metadata": {},
     "output_type": "execute_result"
    }
   ],
   "source": [
    "s[:]"
   ]
  },
  {
   "cell_type": "code",
   "execution_count": 4,
   "id": "7e5ac339",
   "metadata": {},
   "outputs": [
    {
     "data": {
      "text/plain": [
       "[1, 4, 9]"
      ]
     },
     "execution_count": 4,
     "metadata": {},
     "output_type": "execute_result"
    }
   ],
   "source": [
    "s[1:4]"
   ]
  },
  {
   "cell_type": "code",
   "execution_count": 5,
   "id": "8993d993",
   "metadata": {},
   "outputs": [
    {
     "data": {
      "text/plain": [
       "[0, 1, 4]"
      ]
     },
     "execution_count": 5,
     "metadata": {},
     "output_type": "execute_result"
    }
   ],
   "source": [
    "s[:3]"
   ]
  },
  {
   "cell_type": "markdown",
   "id": "4a28e3c9",
   "metadata": {},
   "source": [
    "### Sequence elements are displayed using list() command"
   ]
  },
  {
   "cell_type": "code",
   "execution_count": 6,
   "id": "66e47862",
   "metadata": {},
   "outputs": [
    {
     "data": {
      "text/plain": [
       "[0, 1, 4, 9, 16, 25]"
      ]
     },
     "execution_count": 6,
     "metadata": {},
     "output_type": "execute_result"
    }
   ],
   "source": [
    "list(s)"
   ]
  },
  {
   "cell_type": "markdown",
   "id": "90f511a7",
   "metadata": {},
   "source": [
    "#### Let's discuss on few types of Sequence in python"
   ]
  },
  {
   "cell_type": "markdown",
   "id": "5795fb63",
   "metadata": {},
   "source": [
    "<b> 1)Strings <br>\n",
    "A String is a group of characters"
   ]
  },
  {
   "cell_type": "markdown",
   "id": "9fcba29d",
   "metadata": {},
   "source": [
    "<b> To declare an empty string, we may use the function str()"
   ]
  },
  {
   "cell_type": "code",
   "execution_count": 9,
   "id": "60a5f2dc",
   "metadata": {},
   "outputs": [
    {
     "data": {
      "text/plain": [
       "''"
      ]
     },
     "execution_count": 9,
     "metadata": {},
     "output_type": "execute_result"
    }
   ],
   "source": [
    "name = str()\n",
    "name"
   ]
  },
  {
   "cell_type": "markdown",
   "id": "2d9ded81",
   "metadata": {},
   "source": [
    "<b> Declare a String"
   ]
  },
  {
   "cell_type": "code",
   "execution_count": 10,
   "id": "61495a78",
   "metadata": {},
   "outputs": [
    {
     "data": {
      "text/plain": [
       "'Shifa'"
      ]
     },
     "execution_count": 10,
     "metadata": {},
     "output_type": "execute_result"
    }
   ],
   "source": [
    "name= str('Shifa')\n",
    "name"
   ]
  },
  {
   "cell_type": "markdown",
   "id": "0ced5391",
   "metadata": {},
   "source": [
    "<b> Access a letter from the string"
   ]
  },
  {
   "cell_type": "code",
   "execution_count": 12,
   "id": "00bf506a",
   "metadata": {},
   "outputs": [
    {
     "data": {
      "text/plain": [
       "'i'"
      ]
     },
     "execution_count": 12,
     "metadata": {},
     "output_type": "execute_result"
    }
   ],
   "source": [
    "name[2]"
   ]
  },
  {
   "cell_type": "markdown",
   "id": "dde4c57b",
   "metadata": {},
   "source": [
    "<b>  2)Lists <br>\n",
    "A list is an ordered group of items.To declare it, we use square brackets"
   ]
  },
  {
   "cell_type": "markdown",
   "id": "6314de92",
   "metadata": {},
   "source": [
    "<b> Declare a list"
   ]
  },
  {
   "cell_type": "code",
   "execution_count": 13,
   "id": "cc5bc7b3",
   "metadata": {},
   "outputs": [
    {
     "data": {
      "text/plain": [
       "['milk', 'bread', 'eggs']"
      ]
     },
     "execution_count": 13,
     "metadata": {},
     "output_type": "execute_result"
    }
   ],
   "source": [
    "groceries=['milk', 'bread', 'eggs']\n",
    "groceries"
   ]
  },
  {
   "cell_type": "code",
   "execution_count": 14,
   "id": "26ba3849",
   "metadata": {},
   "outputs": [
    {
     "data": {
      "text/plain": [
       "'eggs'"
      ]
     },
     "execution_count": 14,
     "metadata": {},
     "output_type": "execute_result"
    }
   ],
   "source": [
    "groceries[2]"
   ]
  },
  {
   "cell_type": "markdown",
   "id": "4b0f7899",
   "metadata": {},
   "source": [
    "<b> Slicing is possible"
   ]
  },
  {
   "cell_type": "code",
   "execution_count": 15,
   "id": "957ad716",
   "metadata": {},
   "outputs": [
    {
     "data": {
      "text/plain": [
       "['milk', 'bread']"
      ]
     },
     "execution_count": 15,
     "metadata": {},
     "output_type": "execute_result"
    }
   ],
   "source": [
    "groceries[:2]"
   ]
  },
  {
   "cell_type": "markdown",
   "id": "3532e8a7",
   "metadata": {},
   "source": [
    "<b> A python list can hold all kinds of items, this is what makes it heterogenous."
   ]
  },
  {
   "cell_type": "code",
   "execution_count": 16,
   "id": "8efc0ba2",
   "metadata": {},
   "outputs": [],
   "source": [
    "mylist=[1,'2',3.0,False]\n"
   ]
  },
  {
   "cell_type": "markdown",
   "id": "89da9b5a",
   "metadata": {},
   "source": [
    "<b> Also, a list is mutable. This means we can change a value."
   ]
  },
  {
   "cell_type": "code",
   "execution_count": 17,
   "id": "645bd675",
   "metadata": {},
   "outputs": [
    {
     "data": {
      "text/plain": [
       "['cheese', 'bread', 'eggs']"
      ]
     },
     "execution_count": 17,
     "metadata": {},
     "output_type": "execute_result"
    }
   ],
   "source": [
    "groceries[0]='cheese'\n",
    "groceries"
   ]
  },
  {
   "cell_type": "markdown",
   "id": "1951cebb",
   "metadata": {},
   "source": [
    "<b> 3) Tuples <br>\n",
    "A tuple, in effect, is an immutable group of items. When we say immutable, we mean we cannot change a single value once we declare it"
   ]
  },
  {
   "cell_type": "markdown",
   "id": "401290c3",
   "metadata": {},
   "source": [
    "<b> Declare a tuple"
   ]
  },
  {
   "cell_type": "code",
   "execution_count": 18,
   "id": "1707fa4c",
   "metadata": {},
   "outputs": [
    {
     "data": {
      "text/plain": [
       "('shifa', 'shuja')"
      ]
     },
     "execution_count": 18,
     "metadata": {},
     "output_type": "execute_result"
    }
   ],
   "source": [
    "name=('shifa', 'shuja')\n",
    "name"
   ]
  },
  {
   "cell_type": "markdown",
   "id": "516a94ae",
   "metadata": {},
   "source": [
    "<b> We can also use the function tuple()"
   ]
  },
  {
   "cell_type": "code",
   "execution_count": 20,
   "id": "98c77fc9",
   "metadata": {},
   "outputs": [
    {
     "data": {
      "text/plain": [
       "('Shifa', 'Shuja')"
      ]
     },
     "execution_count": 20,
     "metadata": {},
     "output_type": "execute_result"
    }
   ],
   "source": [
    "name=tuple(['Shifa', 'Shuja'])\n",
    "name"
   ]
  },
  {
   "cell_type": "markdown",
   "id": "7e0f7279",
   "metadata": {},
   "source": [
    "<b> Like we said, a tuple is immutable. Let's try changing a value"
   ]
  },
  {
   "cell_type": "code",
   "execution_count": 21,
   "id": "0d21f711",
   "metadata": {},
   "outputs": [
    {
     "ename": "TypeError",
     "evalue": "'tuple' object does not support item assignment",
     "output_type": "error",
     "traceback": [
      "\u001b[1;31m---------------------------------------------------------------------------\u001b[0m",
      "\u001b[1;31mTypeError\u001b[0m                                 Traceback (most recent call last)",
      "\u001b[1;32m~\\AppData\\Local\\Temp/ipykernel_14964/2179515235.py\u001b[0m in \u001b[0;36m<module>\u001b[1;34m\u001b[0m\n\u001b[1;32m----> 1\u001b[1;33m \u001b[0mname\u001b[0m\u001b[1;33m[\u001b[0m\u001b[1;36m0\u001b[0m\u001b[1;33m]\u001b[0m\u001b[1;33m=\u001b[0m\u001b[1;34m'Harry Potter'\u001b[0m\u001b[1;33m\u001b[0m\u001b[1;33m\u001b[0m\u001b[0m\n\u001b[0m\u001b[0;32m      2\u001b[0m \u001b[0mname\u001b[0m\u001b[1;33m\u001b[0m\u001b[1;33m\u001b[0m\u001b[0m\n",
      "\u001b[1;31mTypeError\u001b[0m: 'tuple' object does not support item assignment"
     ]
    }
   ],
   "source": [
    "name[0]='Harry Potter'\n",
    "name"
   ]
  },
  {
   "cell_type": "markdown",
   "id": "0688be55",
   "metadata": {},
   "source": [
    "<b> 4) Range <br>"
   ]
  },
  {
   "cell_type": "markdown",
   "id": "8f6bb76c",
   "metadata": {},
   "source": [
    "<b> The range() function returns a sequence of numbers, starting from 0 by default, and increments by 1 and stops before a specified number.\n",
    "    "
   ]
  },
  {
   "cell_type": "markdown",
   "id": "be1f9197",
   "metadata": {},
   "source": [
    "<b> A range() object lends us a range to iterate on; it gives us a list of numbers."
   ]
  },
  {
   "cell_type": "markdown",
   "id": "76f417b0",
   "metadata": {},
   "source": [
    "<b> Syntax: range(start,stop,step)"
   ]
  },
  {
   "cell_type": "code",
   "execution_count": 1,
   "id": "f618c2af",
   "metadata": {},
   "outputs": [
    {
     "name": "stdout",
     "output_type": "stream",
     "text": [
      "10\n",
      "7\n",
      "4\n",
      "1\n"
     ]
    }
   ],
   "source": [
    "for i in range(10,0,-3):\n",
    "    print(i)"
   ]
  },
  {
   "cell_type": "markdown",
   "id": "9302f3b8",
   "metadata": {},
   "source": [
    "<b> Program to generate sequence 3,5,7,9,11...19 using range() command"
   ]
  },
  {
   "cell_type": "code",
   "execution_count": 3,
   "id": "1e42a335",
   "metadata": {},
   "outputs": [
    {
     "name": "stdout",
     "output_type": "stream",
     "text": [
      "3\n",
      "5\n",
      "7\n",
      "9\n",
      "11\n",
      "13\n",
      "15\n",
      "17\n",
      "19\n"
     ]
    }
   ],
   "source": [
    "for i in range(1,10):\n",
    "    print(2*i+1)\n",
    "    "
   ]
  },
  {
   "cell_type": "markdown",
   "id": "4aed9c6f",
   "metadata": {},
   "source": [
    "<b> Sequence Operations"
   ]
  },
  {
   "cell_type": "markdown",
   "id": "e9f247ab",
   "metadata": {},
   "source": [
    "<b> 1. Concatenation <br>\n",
    "The operator + is used to concatenate the second element to the first."
   ]
  },
  {
   "cell_type": "code",
   "execution_count": 4,
   "id": "3d193624",
   "metadata": {},
   "outputs": [
    {
     "data": {
      "text/plain": [
       "[1, 3, 4, 1, 1, 1]"
      ]
     },
     "execution_count": 4,
     "metadata": {},
     "output_type": "execute_result"
    }
   ],
   "source": [
    "[1,3,4]+[1,1,1]"
   ]
  },
  {
   "cell_type": "code",
   "execution_count": 5,
   "id": "99a96eb0",
   "metadata": {},
   "outputs": [
    {
     "data": {
      "text/plain": [
       "['a', 'e', 'r', 'xd']"
      ]
     },
     "execution_count": 5,
     "metadata": {},
     "output_type": "execute_result"
    }
   ],
   "source": [
    "['a','e','r']+ ['xd']"
   ]
  },
  {
   "cell_type": "markdown",
   "id": "c0b6eb51",
   "metadata": {},
   "source": [
    "<b> Cannot concatenate a list with a string, but concatenation possible only between same type of Sequences. Eg: list+list"
   ]
  },
  {
   "cell_type": "code",
   "execution_count": 6,
   "id": "141e6f89",
   "metadata": {},
   "outputs": [
    {
     "ename": "TypeError",
     "evalue": "can only concatenate list (not \"str\") to list",
     "output_type": "error",
     "traceback": [
      "\u001b[1;31m---------------------------------------------------------------------------\u001b[0m",
      "\u001b[1;31mTypeError\u001b[0m                                 Traceback (most recent call last)",
      "\u001b[1;32m~\\AppData\\Local\\Temp/ipykernel_17632/1243775087.py\u001b[0m in \u001b[0;36m<module>\u001b[1;34m\u001b[0m\n\u001b[1;32m----> 1\u001b[1;33m \u001b[1;33m[\u001b[0m\u001b[1;34m'a'\u001b[0m\u001b[1;33m,\u001b[0m\u001b[1;34m'e'\u001b[0m\u001b[1;33m,\u001b[0m\u001b[1;34m'r'\u001b[0m\u001b[1;33m]\u001b[0m\u001b[1;33m+\u001b[0m \u001b[1;34m'xd'\u001b[0m\u001b[1;33m\u001b[0m\u001b[1;33m\u001b[0m\u001b[0m\n\u001b[0m",
      "\u001b[1;31mTypeError\u001b[0m: can only concatenate list (not \"str\") to list"
     ]
    }
   ],
   "source": [
    "['a','e','r']+ 'xd'"
   ]
  },
  {
   "cell_type": "code",
   "execution_count": 9,
   "id": "bcf5042b",
   "metadata": {},
   "outputs": [
    {
     "data": {
      "text/plain": [
       "'Siddhant Lama'"
      ]
     },
     "execution_count": 9,
     "metadata": {},
     "output_type": "execute_result"
    }
   ],
   "source": [
    "'Siddh'+'ant' +' ' + 'La'+ 'ma'"
   ]
  },
  {
   "cell_type": "code",
   "execution_count": 10,
   "id": "1fca79e7",
   "metadata": {},
   "outputs": [
    {
     "ename": "TypeError",
     "evalue": "can only concatenate tuple (not \"int\") to tuple",
     "output_type": "error",
     "traceback": [
      "\u001b[1;31m---------------------------------------------------------------------------\u001b[0m",
      "\u001b[1;31mTypeError\u001b[0m                                 Traceback (most recent call last)",
      "\u001b[1;32m~\\AppData\\Local\\Temp/ipykernel_17632/1916649784.py\u001b[0m in \u001b[0;36m<module>\u001b[1;34m\u001b[0m\n\u001b[1;32m----> 1\u001b[1;33m \u001b[1;33m(\u001b[0m\u001b[1;36m1\u001b[0m\u001b[1;33m,\u001b[0m\u001b[1;36m2\u001b[0m\u001b[1;33m,\u001b[0m\u001b[1;36m3\u001b[0m\u001b[1;33m)\u001b[0m\u001b[1;33m+\u001b[0m\u001b[1;33m(\u001b[0m\u001b[1;36m4\u001b[0m\u001b[1;33m)\u001b[0m\u001b[1;33m\u001b[0m\u001b[1;33m\u001b[0m\u001b[0m\n\u001b[0m",
      "\u001b[1;31mTypeError\u001b[0m: can only concatenate tuple (not \"int\") to tuple"
     ]
    }
   ],
   "source": [
    "(1,2,3)+(4)"
   ]
  },
  {
   "cell_type": "code",
   "execution_count": 11,
   "id": "3683399d",
   "metadata": {},
   "outputs": [
    {
     "data": {
      "text/plain": [
       "(1, 2, 3, 4, 5)"
      ]
     },
     "execution_count": 11,
     "metadata": {},
     "output_type": "execute_result"
    }
   ],
   "source": [
    "(1,2,3)+(4,5)"
   ]
  },
  {
   "cell_type": "markdown",
   "id": "82aff42c",
   "metadata": {},
   "source": [
    "<b> 2. Repeat <br>\n",
    "    The operator * is used to repeat a sequence n number of times."
   ]
  },
  {
   "cell_type": "code",
   "execution_count": 12,
   "id": "cc1536dd",
   "metadata": {},
   "outputs": [
    {
     "data": {
      "text/plain": [
       "(1, 2, 3, 1, 2, 3, 1, 2, 3)"
      ]
     },
     "execution_count": 12,
     "metadata": {},
     "output_type": "execute_result"
    }
   ],
   "source": [
    "(1,2,3)*3\n"
   ]
  },
  {
   "cell_type": "code",
   "execution_count": 13,
   "id": "179a3d84",
   "metadata": {},
   "outputs": [
    {
     "data": {
      "text/plain": [
       "'sss'"
      ]
     },
     "execution_count": 13,
     "metadata": {},
     "output_type": "execute_result"
    }
   ],
   "source": [
    "'s'*3"
   ]
  },
  {
   "cell_type": "code",
   "execution_count": 14,
   "id": "8e910330",
   "metadata": {},
   "outputs": [
    {
     "data": {
      "text/plain": [
       "[3, 'a', 3, 'a']"
      ]
     },
     "execution_count": 14,
     "metadata": {},
     "output_type": "execute_result"
    }
   ],
   "source": [
    "[3,'a']*2"
   ]
  },
  {
   "cell_type": "markdown",
   "id": "5a81baf9",
   "metadata": {},
   "source": [
    "<b> 3. Membership <br>\n",
    "Membership Operators in and not in are used to check whether an item is present in the sequence or not.\n",
    "<br>They return True or False."
   ]
  },
  {
   "cell_type": "code",
   "execution_count": 15,
   "id": "f4a6371d",
   "metadata": {},
   "outputs": [
    {
     "data": {
      "text/plain": [
       "True"
      ]
     },
     "execution_count": 15,
     "metadata": {},
     "output_type": "execute_result"
    }
   ],
   "source": [
    "var=str('Daisy')\n",
    "'Da' in var"
   ]
  },
  {
   "cell_type": "code",
   "execution_count": 16,
   "id": "88aee2c7",
   "metadata": {},
   "outputs": [
    {
     "data": {
      "text/plain": [
       "False"
      ]
     },
     "execution_count": 16,
     "metadata": {},
     "output_type": "execute_result"
    }
   ],
   "source": [
    "Var=str('Dance')\n",
    "'a' not in Var"
   ]
  },
  {
   "cell_type": "code",
   "execution_count": 17,
   "id": "9b55f965",
   "metadata": {},
   "outputs": [
    {
     "data": {
      "text/plain": [
       "False"
      ]
     },
     "execution_count": 17,
     "metadata": {},
     "output_type": "execute_result"
    }
   ],
   "source": [
    "d=[2,4,'s','r']\n",
    "'z' in d"
   ]
  },
  {
   "cell_type": "markdown",
   "id": "9042a75f",
   "metadata": {},
   "source": [
    "<b> Sequence Functions"
   ]
  },
  {
   "cell_type": "markdown",
   "id": "9a2b632e",
   "metadata": {},
   "source": [
    "<b> 1. len() <br>\n",
    "The len() function is very handy when you want to know the length of the sequence."
   ]
  },
  {
   "cell_type": "code",
   "execution_count": 20,
   "id": "381e154d",
   "metadata": {},
   "outputs": [
    {
     "data": {
      "text/plain": [
       "5"
      ]
     },
     "execution_count": 20,
     "metadata": {},
     "output_type": "execute_result"
    }
   ],
   "source": [
    "d=[25,4,5,'f','abcd']\n",
    "len(d)"
   ]
  },
  {
   "cell_type": "code",
   "execution_count": 23,
   "id": "7a7746a8",
   "metadata": {},
   "outputs": [
    {
     "data": {
      "text/plain": [
       "9"
      ]
     },
     "execution_count": 23,
     "metadata": {},
     "output_type": "execute_result"
    }
   ],
   "source": [
    "d='2645fabcd'\n",
    "len(d)"
   ]
  },
  {
   "cell_type": "code",
   "execution_count": 22,
   "id": "98a98d6c",
   "metadata": {},
   "outputs": [
    {
     "data": {
      "text/plain": [
       "15"
      ]
     },
     "execution_count": 22,
     "metadata": {},
     "output_type": "execute_result"
    }
   ],
   "source": [
    "var=str('Have a nice day')\n",
    "len(var)"
   ]
  },
  {
   "cell_type": "code",
   "execution_count": 24,
   "id": "9aab5bff",
   "metadata": {},
   "outputs": [
    {
     "data": {
      "text/plain": [
       "1"
      ]
     },
     "execution_count": 24,
     "metadata": {},
     "output_type": "execute_result"
    }
   ],
   "source": [
    "g=' '\n",
    "len(g)"
   ]
  },
  {
   "cell_type": "markdown",
   "id": "964b4e8c",
   "metadata": {},
   "source": [
    "<b> 2. min() and max()\n",
    "<br>    The min() and max() functions are used to get the minimum value and the maximum value from the sequences respectively."
   ]
  },
  {
   "cell_type": "code",
   "execution_count": 25,
   "id": "49e0a936",
   "metadata": {},
   "outputs": [
    {
     "name": "stdout",
     "output_type": "stream",
     "text": [
      "1\n",
      "5\n"
     ]
    }
   ],
   "source": [
    "print(min([5,3,2,1]))\n",
    "print(max([5,3,2,1]))"
   ]
  },
  {
   "cell_type": "markdown",
   "id": "22787562",
   "metadata": {},
   "source": [
    "<b> 3. Index() <br>\n",
    "The index() method searches an element in the sequence and returns the index of the first occurence "
   ]
  },
  {
   "cell_type": "code",
   "execution_count": 27,
   "id": "4f4d4dec",
   "metadata": {},
   "outputs": [
    {
     "data": {
      "text/plain": [
       "2"
      ]
     },
     "execution_count": 27,
     "metadata": {},
     "output_type": "execute_result"
    }
   ],
   "source": [
    "var=str('athlete')\n",
    "var.index('h')"
   ]
  },
  {
   "cell_type": "code",
   "execution_count": 29,
   "id": "84080313",
   "metadata": {},
   "outputs": [
    {
     "data": {
      "text/plain": [
       "4"
      ]
     },
     "execution_count": 29,
     "metadata": {},
     "output_type": "execute_result"
    }
   ],
   "source": [
    "var.index('e') #e occurs twice but only first occurence is obtained"
   ]
  },
  {
   "cell_type": "markdown",
   "id": "04c94f67",
   "metadata": {},
   "source": [
    "<b> 4. count() <br>\n",
    "The count() method counts the number of times an element has occured in the sequence"
   ]
  },
  {
   "cell_type": "code",
   "execution_count": 31,
   "id": "1eea614c",
   "metadata": {},
   "outputs": [
    {
     "data": {
      "text/plain": [
       "2"
      ]
     },
     "execution_count": 31,
     "metadata": {},
     "output_type": "execute_result"
    }
   ],
   "source": [
    "var=str('athlete')\n",
    "var.count('e')"
   ]
  },
  {
   "cell_type": "code",
   "execution_count": 33,
   "id": "d5e390d5",
   "metadata": {},
   "outputs": [
    {
     "data": {
      "text/plain": [
       "2"
      ]
     },
     "execution_count": 33,
     "metadata": {},
     "output_type": "execute_result"
    }
   ],
   "source": [
    "d=[1,2,3,1]\n",
    "d.count(1)"
   ]
  }
 ],
 "metadata": {
  "kernelspec": {
   "display_name": "Python 3 (ipykernel)",
   "language": "python",
   "name": "python3"
  },
  "language_info": {
   "codemirror_mode": {
    "name": "ipython",
    "version": 3
   },
   "file_extension": ".py",
   "mimetype": "text/x-python",
   "name": "python",
   "nbconvert_exporter": "python",
   "pygments_lexer": "ipython3",
   "version": "3.9.7"
  }
 },
 "nbformat": 4,
 "nbformat_minor": 5
}
