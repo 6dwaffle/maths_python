{
 "cells": [
  {
   "cell_type": "markdown",
   "id": "1a708887",
   "metadata": {},
   "source": [
    "## MATRICES"
   ]
  },
  {
   "cell_type": "markdown",
   "id": "a889fddc",
   "metadata": {},
   "source": [
    "Matrix is a 2-D array where numbers, symbols or expressions are arranged into rows and columns. Using the concept of lists , one can easily define a matrix in Python. <br> We define two matrices A and B"
   ]
  },
  {
   "cell_type": "code",
   "execution_count": 24,
   "id": "d2947bb8",
   "metadata": {},
   "outputs": [
    {
     "name": "stdout",
     "output_type": "stream",
     "text": [
      "[[1, 2, 3], [4, 5, 6], [7, 8, 9]]\n",
      "[[9, 8, 7], [6, 5, 4], [3, 2, 1]]\n"
     ]
    }
   ],
   "source": [
    "A = [[1,2,3],[4,5,6],[7,8,9]]\n",
    "B = [[9,8,7],[6,5,4],[3,2,1]]\n",
    "print(A)\n",
    "print(B)"
   ]
  },
  {
   "cell_type": "code",
   "execution_count": 25,
   "id": "4b1b9ed9",
   "metadata": {},
   "outputs": [
    {
     "data": {
      "text/plain": [
       "1"
      ]
     },
     "execution_count": 25,
     "metadata": {},
     "output_type": "execute_result"
    }
   ],
   "source": [
    "A[0][0] # A single element is called"
   ]
  },
  {
   "cell_type": "code",
   "execution_count": 26,
   "id": "79be9031",
   "metadata": {},
   "outputs": [
    {
     "data": {
      "text/plain": [
       "[[1, 2, 3], [4, 5, 6], [7, 8, 9], [9, 8, 7], [6, 5, 4], [3, 2, 1]]"
      ]
     },
     "execution_count": 26,
     "metadata": {},
     "output_type": "execute_result"
    }
   ],
   "source": [
    "A+B"
   ]
  },
  {
   "cell_type": "code",
   "execution_count": 27,
   "id": "7806dd1c",
   "metadata": {},
   "outputs": [
    {
     "data": {
      "text/plain": [
       "[[1, 2, 3], [4, 5, 6], [7, 8, 9], [1, 2, 3], [4, 5, 6], [7, 8, 9]]"
      ]
     },
     "execution_count": 27,
     "metadata": {},
     "output_type": "execute_result"
    }
   ],
   "source": [
    "2*A"
   ]
  },
  {
   "cell_type": "code",
   "execution_count": 28,
   "id": "32fd49ae",
   "metadata": {},
   "outputs": [
    {
     "ename": "TypeError",
     "evalue": "can't multiply sequence by non-int of type 'list'",
     "output_type": "error",
     "traceback": [
      "\u001b[1;31m---------------------------------------------------------------------------\u001b[0m",
      "\u001b[1;31mTypeError\u001b[0m                                 Traceback (most recent call last)",
      "\u001b[1;32m<ipython-input-28-9e0e628c1437>\u001b[0m in \u001b[0;36m<module>\u001b[1;34m\u001b[0m\n\u001b[1;32m----> 1\u001b[1;33m \u001b[0mA\u001b[0m\u001b[1;33m*\u001b[0m\u001b[0mB\u001b[0m \u001b[1;31m# The multiplication operator does not work when the matrix is defined as list of lists\u001b[0m\u001b[1;33m\u001b[0m\u001b[1;33m\u001b[0m\u001b[0m\n\u001b[0m",
      "\u001b[1;31mTypeError\u001b[0m: can't multiply sequence by non-int of type 'list'"
     ]
    }
   ],
   "source": [
    "A*B # The multiplication operator does not work when the matrix is defined as list of lists "
   ]
  },
  {
   "cell_type": "code",
   "execution_count": 29,
   "id": "b7d51f6d",
   "metadata": {},
   "outputs": [
    {
     "ename": "TypeError",
     "evalue": "unsupported operand type(s) for ** or pow(): 'list' and 'int'",
     "output_type": "error",
     "traceback": [
      "\u001b[1;31m---------------------------------------------------------------------------\u001b[0m",
      "\u001b[1;31mTypeError\u001b[0m                                 Traceback (most recent call last)",
      "\u001b[1;32m<ipython-input-29-4615466d1ed5>\u001b[0m in \u001b[0;36m<module>\u001b[1;34m\u001b[0m\n\u001b[1;32m----> 1\u001b[1;33m \u001b[0mA\u001b[0m\u001b[1;33m**\u001b[0m\u001b[1;36m2\u001b[0m \u001b[1;31m# The ** operator or pow() does not work when the matrix is defined as list of lists\u001b[0m\u001b[1;33m\u001b[0m\u001b[1;33m\u001b[0m\u001b[0m\n\u001b[0m",
      "\u001b[1;31mTypeError\u001b[0m: unsupported operand type(s) for ** or pow(): 'list' and 'int'"
     ]
    }
   ],
   "source": [
    "A**2 # The ** operator or pow() does not work when the matrix is defined as list of lists"
   ]
  },
  {
   "cell_type": "code",
   "execution_count": 30,
   "id": "a267dea2",
   "metadata": {},
   "outputs": [
    {
     "name": "stdout",
     "output_type": "stream",
     "text": [
      "[[1, 2, 3, 10], [4, 5, 6], [7, 8, 9]]\n"
     ]
    }
   ],
   "source": [
    "A[0].append(10)\n",
    "print(A)"
   ]
  },
  {
   "cell_type": "markdown",
   "id": "91b85dc1",
   "metadata": {},
   "source": [
    "The matrix A being defined as a list of lists, Python supports adding a element to a row or column, which falsifies the very definition of a matrix"
   ]
  },
  {
   "cell_type": "markdown",
   "id": "1b976405",
   "metadata": {},
   "source": [
    "Through the above commands, we can see that even though it is possible to define matrix as a list of lists, matrix multiplication is not straight forward as desired."
   ]
  },
  {
   "cell_type": "markdown",
   "id": "0ab92d91",
   "metadata": {},
   "source": [
    "### Working with matrices can be made easier in Python by using NumPy package"
   ]
  },
  {
   "cell_type": "markdown",
   "id": "a1dfc0ec",
   "metadata": {},
   "source": [
    "NumPy is a library consisting of mutlidimensional array objects and package of functions for processing those array. NumPy stands for Numerical Python. The following operations can be performed using NumPy \n",
    "1. Mathematical and logical operations on arrays.\n",
    "2. Fourier tranforms and routines for shape manipulation.\n",
    "3. Operations related to linear algebra.\n",
    "We can import the NumPy package using one of the following syntax - <br>\n",
    "import numpy <br>\n",
    "import numpy as np (preferred)<br>\n",
    "from numpy import*"
   ]
  },
  {
   "cell_type": "code",
   "execution_count": 2,
   "id": "7163b15b",
   "metadata": {},
   "outputs": [],
   "source": [
    "import numpy as np"
   ]
  },
  {
   "cell_type": "markdown",
   "id": "30a050cb",
   "metadata": {},
   "source": [
    "NumPy provides the function array() and matrix() to define a matrix."
   ]
  },
  {
   "cell_type": "code",
   "execution_count": 32,
   "id": "f2ff6f05",
   "metadata": {},
   "outputs": [
    {
     "name": "stdout",
     "output_type": "stream",
     "text": [
      "[[1 2 3]\n",
      " [2 3 4]\n",
      " [3 4 5]]\n"
     ]
    }
   ],
   "source": [
    "A1 = np.array([[1,2,3],[2,3,4],[3,4,5]])\n",
    "print(A1)"
   ]
  },
  {
   "cell_type": "code",
   "execution_count": 33,
   "id": "af0d607f",
   "metadata": {},
   "outputs": [
    {
     "name": "stdout",
     "output_type": "stream",
     "text": [
      "[[1 2 3]\n",
      " [3 4 5]\n",
      " [5 6 7]]\n"
     ]
    }
   ],
   "source": [
    "M1 = np.matrix([[1,2,3],[3,4,5],[5,6,7]])\n",
    "print(M1)"
   ]
  },
  {
   "cell_type": "markdown",
   "id": "27a6bac7",
   "metadata": {},
   "source": [
    "### The differences between np.array() and np.matrix() are the following:"
   ]
  },
  {
   "cell_type": "markdown",
   "id": "cff4dc8c",
   "metadata": {},
   "source": [
    "1. np.array() provides an n-dimensional array while np.matrix() is strictly 2-D\n",
    "2. The * and ** operators performs element wise operations in array while in matrix they are used for multiplication and finding powers."
   ]
  },
  {
   "cell_type": "markdown",
   "id": "241e0163",
   "metadata": {},
   "source": [
    "We will use np.matrix() to work with matrices."
   ]
  },
  {
   "cell_type": "markdown",
   "id": "f20a422a",
   "metadata": {},
   "source": [
    "### Frequent errors while defining a matrix are shown below"
   ]
  },
  {
   "cell_type": "code",
   "execution_count": 34,
   "id": "82fdac8e",
   "metadata": {},
   "outputs": [],
   "source": [
    "N = np.matrix([[1,2,3],[3,4,5],[5,6,7]]) # The package isn't imported"
   ]
  },
  {
   "cell_type": "code",
   "execution_count": 36,
   "id": "8c78d98f",
   "metadata": {},
   "outputs": [
    {
     "ename": "TypeError",
     "evalue": "Field elements must be 2- or 3-tuples, got '3'",
     "output_type": "error",
     "traceback": [
      "\u001b[1;31m---------------------------------------------------------------------------\u001b[0m",
      "\u001b[1;31mTypeError\u001b[0m                                 Traceback (most recent call last)",
      "\u001b[1;32m<ipython-input-36-04a74db0dbbd>\u001b[0m in \u001b[0;36m<module>\u001b[1;34m\u001b[0m\n\u001b[0;32m      1\u001b[0m \u001b[1;32mimport\u001b[0m \u001b[0mnumpy\u001b[0m \u001b[1;32mas\u001b[0m \u001b[0mnp\u001b[0m\u001b[1;33m\u001b[0m\u001b[1;33m\u001b[0m\u001b[0m\n\u001b[1;32m----> 2\u001b[1;33m \u001b[0mN\u001b[0m \u001b[1;33m=\u001b[0m \u001b[0mnp\u001b[0m\u001b[1;33m.\u001b[0m\u001b[0mmatrix\u001b[0m\u001b[1;33m(\u001b[0m\u001b[1;33m[\u001b[0m\u001b[1;36m1\u001b[0m\u001b[1;33m,\u001b[0m\u001b[1;36m2\u001b[0m\u001b[1;33m,\u001b[0m\u001b[1;36m3\u001b[0m\u001b[1;33m]\u001b[0m\u001b[1;33m,\u001b[0m\u001b[1;33m[\u001b[0m\u001b[1;36m3\u001b[0m\u001b[1;33m,\u001b[0m\u001b[1;36m4\u001b[0m\u001b[1;33m,\u001b[0m\u001b[1;36m5\u001b[0m\u001b[1;33m]\u001b[0m\u001b[1;33m,\u001b[0m\u001b[1;33m[\u001b[0m\u001b[1;36m5\u001b[0m\u001b[1;33m,\u001b[0m\u001b[1;36m6\u001b[0m\u001b[1;33m,\u001b[0m\u001b[1;36m7\u001b[0m\u001b[1;33m]\u001b[0m\u001b[1;33m)\u001b[0m \u001b[1;31m# Another square bracket missing\u001b[0m\u001b[1;33m\u001b[0m\u001b[1;33m\u001b[0m\u001b[0m\n\u001b[0m",
      "\u001b[1;32m~\\anaconda3\\lib\\site-packages\\numpy\\matrixlib\\defmatrix.py\u001b[0m in \u001b[0;36m__new__\u001b[1;34m(subtype, data, dtype, copy)\u001b[0m\n\u001b[0;32m    143\u001b[0m \u001b[1;33m\u001b[0m\u001b[0m\n\u001b[0;32m    144\u001b[0m         \u001b[1;31m# now convert data to an array\u001b[0m\u001b[1;33m\u001b[0m\u001b[1;33m\u001b[0m\u001b[1;33m\u001b[0m\u001b[0m\n\u001b[1;32m--> 145\u001b[1;33m         \u001b[0marr\u001b[0m \u001b[1;33m=\u001b[0m \u001b[0mN\u001b[0m\u001b[1;33m.\u001b[0m\u001b[0marray\u001b[0m\u001b[1;33m(\u001b[0m\u001b[0mdata\u001b[0m\u001b[1;33m,\u001b[0m \u001b[0mdtype\u001b[0m\u001b[1;33m=\u001b[0m\u001b[0mdtype\u001b[0m\u001b[1;33m,\u001b[0m \u001b[0mcopy\u001b[0m\u001b[1;33m=\u001b[0m\u001b[0mcopy\u001b[0m\u001b[1;33m)\u001b[0m\u001b[1;33m\u001b[0m\u001b[1;33m\u001b[0m\u001b[0m\n\u001b[0m\u001b[0;32m    146\u001b[0m         \u001b[0mndim\u001b[0m \u001b[1;33m=\u001b[0m \u001b[0marr\u001b[0m\u001b[1;33m.\u001b[0m\u001b[0mndim\u001b[0m\u001b[1;33m\u001b[0m\u001b[1;33m\u001b[0m\u001b[0m\n\u001b[0;32m    147\u001b[0m         \u001b[0mshape\u001b[0m \u001b[1;33m=\u001b[0m \u001b[0marr\u001b[0m\u001b[1;33m.\u001b[0m\u001b[0mshape\u001b[0m\u001b[1;33m\u001b[0m\u001b[1;33m\u001b[0m\u001b[0m\n",
      "\u001b[1;31mTypeError\u001b[0m: Field elements must be 2- or 3-tuples, got '3'"
     ]
    }
   ],
   "source": [
    "import numpy as np\n",
    "N = np.matrix([1,2,3],[3,4,5],[5,6,7]) # Another square bracket missing"
   ]
  },
  {
   "cell_type": "code",
   "execution_count": 37,
   "id": "f9bba266",
   "metadata": {},
   "outputs": [
    {
     "data": {
      "text/plain": [
       "matrix([[1, 2, 3],\n",
       "        [3, 4, 5],\n",
       "        [5, 6, 7]])"
      ]
     },
     "execution_count": 37,
     "metadata": {},
     "output_type": "execute_result"
    }
   ],
   "source": [
    "N = np.matrix([[1,2,3],[3,4,5],[5,6,7]])\n",
    "N"
   ]
  },
  {
   "cell_type": "markdown",
   "id": "705e2b3c",
   "metadata": {},
   "source": [
    "### Matrix Manipulation"
   ]
  },
  {
   "cell_type": "markdown",
   "id": "cafe7d51",
   "metadata": {},
   "source": [
    "The order of the matrix can be found using shape function."
   ]
  },
  {
   "cell_type": "code",
   "execution_count": 38,
   "id": "0d90d6e0",
   "metadata": {},
   "outputs": [
    {
     "data": {
      "text/plain": [
       "(3, 3)"
      ]
     },
     "execution_count": 38,
     "metadata": {},
     "output_type": "execute_result"
    }
   ],
   "source": [
    "M1.shape"
   ]
  },
  {
   "cell_type": "code",
   "execution_count": 39,
   "id": "e6e4c6ee",
   "metadata": {},
   "outputs": [
    {
     "data": {
      "text/plain": [
       "3"
      ]
     },
     "execution_count": 39,
     "metadata": {},
     "output_type": "execute_result"
    }
   ],
   "source": [
    "M1.shape[0] # Number of rows"
   ]
  },
  {
   "cell_type": "code",
   "execution_count": 40,
   "id": "cadc1d08",
   "metadata": {},
   "outputs": [
    {
     "data": {
      "text/plain": [
       "3"
      ]
     },
     "execution_count": 40,
     "metadata": {},
     "output_type": "execute_result"
    }
   ],
   "source": [
    "M1.shape[1] # Number of columns"
   ]
  },
  {
   "cell_type": "markdown",
   "id": "7b46d29a",
   "metadata": {},
   "source": [
    "The number of elements in the matrix is given by size function."
   ]
  },
  {
   "cell_type": "code",
   "execution_count": 41,
   "id": "095611e3",
   "metadata": {},
   "outputs": [
    {
     "data": {
      "text/plain": [
       "9"
      ]
     },
     "execution_count": 41,
     "metadata": {},
     "output_type": "execute_result"
    }
   ],
   "source": [
    "M1.size # Number of rows X number of columns"
   ]
  },
  {
   "cell_type": "code",
   "execution_count": 42,
   "id": "1ba16c3c",
   "metadata": {},
   "outputs": [
    {
     "data": {
      "text/plain": [
       "9"
      ]
     },
     "execution_count": 42,
     "metadata": {},
     "output_type": "execute_result"
    }
   ],
   "source": [
    "N.size # Number of rows X number of columns"
   ]
  },
  {
   "cell_type": "markdown",
   "id": "f0a2f1dc",
   "metadata": {},
   "source": [
    "The function zeros creates an array of zeros."
   ]
  },
  {
   "cell_type": "code",
   "execution_count": 43,
   "id": "a6e0b738",
   "metadata": {},
   "outputs": [
    {
     "data": {
      "text/plain": [
       "array([[0., 0., 0., 0.],\n",
       "       [0., 0., 0., 0.],\n",
       "       [0., 0., 0., 0.],\n",
       "       [0., 0., 0., 0.]])"
      ]
     },
     "execution_count": 43,
     "metadata": {},
     "output_type": "execute_result"
    }
   ],
   "source": [
    "np.zeros((4,4))"
   ]
  },
  {
   "cell_type": "code",
   "execution_count": 44,
   "id": "aa9b8762",
   "metadata": {},
   "outputs": [
    {
     "data": {
      "text/plain": [
       "array([[1., 1., 1., 1.],\n",
       "       [1., 1., 1., 1.],\n",
       "       [1., 1., 1., 1.],\n",
       "       [1., 1., 1., 1.]])"
      ]
     },
     "execution_count": 44,
     "metadata": {},
     "output_type": "execute_result"
    }
   ],
   "source": [
    "np.ones((4,4))"
   ]
  },
  {
   "cell_type": "markdown",
   "id": "d88f2640",
   "metadata": {},
   "source": [
    "By default the zeros() and ones() function gives font value, so the output is 0 or 1, if np.zeros((4,4) dtype=int) or simply(np.zeros(4,4),int) is given that we get it as ) or 1"
   ]
  },
  {
   "cell_type": "markdown",
   "id": "9b8a42f7",
   "metadata": {},
   "source": [
    "Note that zeros produces an array of zeros rather than a matrix."
   ]
  },
  {
   "cell_type": "markdown",
   "id": "9b32a7e6",
   "metadata": {},
   "source": [
    "### Matrix Operations"
   ]
  },
  {
   "cell_type": "markdown",
   "id": "ecc05514",
   "metadata": {},
   "source": [
    "The + operator and the function add() can be used to add corresponding elements of two matrices."
   ]
  },
  {
   "cell_type": "code",
   "execution_count": 5,
   "id": "197711d4",
   "metadata": {},
   "outputs": [
    {
     "name": "stdout",
     "output_type": "stream",
     "text": [
      "The matrix D =  [[1 2 3]\n",
      " [3 4 5]\n",
      " [5 6 7]]\n",
      "The matrix E =  [[3 2 9]\n",
      " [3 8 1]\n",
      " [1 0 7]]\n",
      "The matrix F=  [[11  2  3]\n",
      " [ 3 10  7]\n",
      " [ 5  8  2]]\n"
     ]
    }
   ],
   "source": [
    "D = np.matrix([[1,2,3],[3,4,5],[5,6,7]]) # defining 3 matrices\n",
    "print(\"The matrix D = \",D)\n",
    "E = np.matrix([[3,2,9],[3,8,1],[1,0,7]])\n",
    "print(\"The matrix E = \",E)\n",
    "F = np.matrix([[11,2,3],[3,10,7],[5,8,2]])\n",
    "print(\"The matrix F= \",F)"
   ]
  },
  {
   "cell_type": "code",
   "execution_count": 47,
   "id": "fc34e47d",
   "metadata": {},
   "outputs": [
    {
     "data": {
      "text/plain": [
       "matrix([[ 4,  4, 12],\n",
       "        [ 6, 12,  6],\n",
       "        [ 6,  6, 14]])"
      ]
     },
     "execution_count": 47,
     "metadata": {},
     "output_type": "execute_result"
    }
   ],
   "source": [
    "D+E"
   ]
  },
  {
   "cell_type": "code",
   "execution_count": 48,
   "id": "37679ac5",
   "metadata": {},
   "outputs": [
    {
     "data": {
      "text/plain": [
       "matrix([[ 4,  4, 12],\n",
       "        [ 6, 12,  6],\n",
       "        [ 6,  6, 14]])"
      ]
     },
     "execution_count": 48,
     "metadata": {},
     "output_type": "execute_result"
    }
   ],
   "source": [
    "np.add(D,E)"
   ]
  },
  {
   "cell_type": "markdown",
   "id": "e0348fd7",
   "metadata": {},
   "source": [
    "The - operator and the function subtract() can be used to subtract corresponding elements of the second matrix from the first."
   ]
  },
  {
   "cell_type": "code",
   "execution_count": 49,
   "id": "37f5c172",
   "metadata": {},
   "outputs": [
    {
     "data": {
      "text/plain": [
       "matrix([[-2,  0, -6],\n",
       "        [ 0, -4,  4],\n",
       "        [ 4,  6,  0]])"
      ]
     },
     "execution_count": 49,
     "metadata": {},
     "output_type": "execute_result"
    }
   ],
   "source": [
    "D-E"
   ]
  },
  {
   "cell_type": "code",
   "execution_count": 50,
   "id": "4bf3a5e8",
   "metadata": {},
   "outputs": [
    {
     "data": {
      "text/plain": [
       "matrix([[-2,  0, -6],\n",
       "        [ 0, -4,  4],\n",
       "        [ 4,  6,  0]])"
      ]
     },
     "execution_count": 50,
     "metadata": {},
     "output_type": "execute_result"
    }
   ],
   "source": [
    "np.subtract(D,E)"
   ]
  },
  {
   "cell_type": "markdown",
   "id": "f52646f0",
   "metadata": {},
   "source": [
    "The multiply() function is used for elementwise multiplication and * operator and .dot() function can be used for matrix multiplication."
   ]
  },
  {
   "cell_type": "code",
   "execution_count": 51,
   "id": "8a536f53",
   "metadata": {},
   "outputs": [
    {
     "data": {
      "text/plain": [
       "matrix([[ 3,  4, 27],\n",
       "        [ 9, 32,  5],\n",
       "        [ 5,  0, 49]])"
      ]
     },
     "execution_count": 51,
     "metadata": {},
     "output_type": "execute_result"
    }
   ],
   "source": [
    "np.multiply(D,E)"
   ]
  },
  {
   "cell_type": "code",
   "execution_count": 52,
   "id": "f86edf0b",
   "metadata": {},
   "outputs": [
    {
     "data": {
      "text/plain": [
       "matrix([[ 12,  18,  32],\n",
       "        [ 26,  38,  66],\n",
       "        [ 40,  58, 100]])"
      ]
     },
     "execution_count": 52,
     "metadata": {},
     "output_type": "execute_result"
    }
   ],
   "source": [
    "D*E"
   ]
  },
  {
   "cell_type": "code",
   "execution_count": 53,
   "id": "0b31163c",
   "metadata": {},
   "outputs": [
    {
     "data": {
      "text/plain": [
       "matrix([[ 12,  18,  32],\n",
       "        [ 26,  38,  66],\n",
       "        [ 40,  58, 100]])"
      ]
     },
     "execution_count": 53,
     "metadata": {},
     "output_type": "execute_result"
    }
   ],
   "source": [
    "D.dot(E)"
   ]
  },
  {
   "cell_type": "markdown",
   "id": "d02a73da",
   "metadata": {},
   "source": [
    "The / operator and the function divide can be used for element wise matrix division."
   ]
  },
  {
   "cell_type": "code",
   "execution_count": 54,
   "id": "5d139987",
   "metadata": {},
   "outputs": [
    {
     "data": {
      "text/plain": [
       "matrix([[3. , 1. , 3. ],\n",
       "        [1. , 2. , 0.2],\n",
       "        [0.2, 0. , 1. ]])"
      ]
     },
     "execution_count": 54,
     "metadata": {},
     "output_type": "execute_result"
    }
   ],
   "source": [
    "E/D"
   ]
  },
  {
   "cell_type": "code",
   "execution_count": 55,
   "id": "ad984b3a",
   "metadata": {},
   "outputs": [
    {
     "data": {
      "text/plain": [
       "matrix([[3. , 1. , 3. ],\n",
       "        [1. , 2. , 0.2],\n",
       "        [0.2, 0. , 1. ]])"
      ]
     },
     "execution_count": 55,
     "metadata": {},
     "output_type": "execute_result"
    }
   ],
   "source": [
    "np.divide(E,D)"
   ]
  }
 ],
 "metadata": {
  "kernelspec": {
   "display_name": "Python 3 (ipykernel)",
   "language": "python",
   "name": "python3"
  },
  "language_info": {
   "codemirror_mode": {
    "name": "ipython",
    "version": 3
   },
   "file_extension": ".py",
   "mimetype": "text/x-python",
   "name": "python",
   "nbconvert_exporter": "python",
   "pygments_lexer": "ipython3",
   "version": "3.9.7"
  }
 },
 "nbformat": 4,
 "nbformat_minor": 5
}
