{
 "cells": [
  {
   "cell_type": "code",
   "execution_count": 3,
   "id": "0ac79431",
   "metadata": {},
   "outputs": [
    {
     "name": "stdout",
     "output_type": "stream",
     "text": [
      "Something went wrong\n"
     ]
    }
   ],
   "source": [
    "try:\n",
    "    x='a'\n",
    "    print(\"Hello the result is:\", 100/x)\n",
    "except:\n",
    "    print(\"Something went wrong\")\n",
    "else:\n",
    "    print(\"Nothing went wrong\")"
   ]
  },
  {
   "cell_type": "code",
   "execution_count": 8,
   "id": "68355056",
   "metadata": {},
   "outputs": [
    {
     "name": "stdout",
     "output_type": "stream",
     "text": [
      "Value received invalid literal for int() with base 10: 'four'\n",
      "Value printed\n"
     ]
    }
   ],
   "source": [
    "def f():\n",
    "    x = int(\"four\")\n",
    "#x = int(4)\n",
    "try:\n",
    "    f()\n",
    "except ValueError as e:\n",
    "    print(\"Value received\", e)\n",
    "finally:\n",
    "    print(\"Value printed\")"
   ]
  },
  {
   "cell_type": "code",
   "execution_count": 7,
   "id": "4992983c",
   "metadata": {},
   "outputs": [
    {
     "name": "stdout",
     "output_type": "stream",
     "text": [
      "enter x value: shifa\n",
      "Something went wrong\n",
      "The value of X you entered is: shifa\n"
     ]
    }
   ],
   "source": [
    "try:\n",
    "    x=input(\"enter x value: \")\n",
    "    x=int(x)\n",
    "    print(\"Answer:\", 100/x)\n",
    "except:\n",
    "    print(\"Something went wrong\")\n",
    "else:\n",
    "    print(\"Nothing went wrong\")\n",
    "finally:\n",
    "    print(\"The value of X you entered is:\", x)"
   ]
  },
  {
   "cell_type": "code",
   "execution_count": 13,
   "id": "85af3d1a",
   "metadata": {},
   "outputs": [
    {
     "name": "stdout",
     "output_type": "stream",
     "text": [
      "The entry is: a\n",
      "Oops! invalid literal for int() with base 10: 'a' occured.\n",
      "Next entry.\n",
      "\n",
      "The entry is: 0\n",
      "Oops! division by zero occured.\n",
      "Next entry.\n",
      "\n",
      "The entry is: 2\n",
      "The reciprocal of 2 is 0.5\n"
     ]
    }
   ],
   "source": [
    "# import module sys to get the type of exception\n",
    "import sys\n",
    "randomList = ['a', 0, 2]\n",
    "for entry in randomList:\n",
    "    try:\n",
    "        print(\"The entry is:\", entry)\n",
    "        r = 1/int(entry)\n",
    "        break\n",
    "    except:\n",
    "        print(\"Oops!\",sys.exc_info()[1],\"occured.\") ####Try to change the number here in sys.exc_info\n",
    "        print(\"Next entry.\")\n",
    "        print()\n",
    "print(\"The reciprocal of\",entry,\"is\",r)"
   ]
  },
  {
   "cell_type": "code",
   "execution_count": null,
   "id": "c67f01cc",
   "metadata": {},
   "outputs": [],
   "source": []
  }
 ],
 "metadata": {
  "kernelspec": {
   "display_name": "Python 3 (ipykernel)",
   "language": "python",
   "name": "python3"
  },
  "language_info": {
   "codemirror_mode": {
    "name": "ipython",
    "version": 3
   },
   "file_extension": ".py",
   "mimetype": "text/x-python",
   "name": "python",
   "nbconvert_exporter": "python",
   "pygments_lexer": "ipython3",
   "version": "3.9.7"
  }
 },
 "nbformat": 4,
 "nbformat_minor": 5
}
