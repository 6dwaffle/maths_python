{
 "cells": [
  {
   "cell_type": "markdown",
   "id": "44ffd176",
   "metadata": {},
   "source": [
    "F(x) =$x^2 -5$"
   ]
  },
  {
   "cell_type": "markdown",
   "id": "a7e15d48",
   "metadata": {},
   "source": [
    "Solving a non-linear equation involves first putting it in the form f(x)=0\n",
    "We know the function f and we want to find the value of x that gives f(x)=0\n",
    "To solves this do the following:\n",
    "- Define the fuction f(x)\n",
    "- Set an iitial guess for x\n",
    "- We need to import a library: from scipy.optimize import fsolve\n",
    "- Call the fsolve function: x = fsolve(f,x1)\n",
    "- f is the name of the function you are solving and x1 is your initial guess"
   ]
  },
  {
   "cell_type": "code",
   "execution_count": 1,
   "id": "42d59271",
   "metadata": {},
   "outputs": [],
   "source": [
    "import numpy as np\n",
    "import matplotlib.pyplot as plt\n",
    "%matplotlib inline\n",
    "from scipy.optimize import fsolve"
   ]
  },
  {
   "cell_type": "markdown",
   "id": "777caaa3",
   "metadata": {},
   "source": [
    "### Function in One Variable"
   ]
  },
  {
   "cell_type": "markdown",
   "id": "27e3b724",
   "metadata": {},
   "source": [
    "### $x^2 -4$"
   ]
  },
  {
   "cell_type": "code",
   "execution_count": 5,
   "id": "5c6938da",
   "metadata": {},
   "outputs": [
    {
     "name": "stdout",
     "output_type": "stream",
     "text": [
      "[2.] [1.77635684e-15]\n"
     ]
    }
   ],
   "source": [
    "from scipy.optimize import fsolve\n",
    "def f(x):\n",
    "    return x**2 -4\n",
    "\n",
    "x=fsolve(f,4)\n",
    "print(x,f(x))"
   ]
  },
  {
   "cell_type": "markdown",
   "id": "cce8bed8",
   "metadata": {},
   "source": [
    "### Function in Multiple Variable"
   ]
  },
  {
   "cell_type": "markdown",
   "id": "11082909",
   "metadata": {},
   "source": [
    "#### Q2. Solve the function $x^2 + y^2 =16$"
   ]
  },
  {
   "cell_type": "code",
   "execution_count": 9,
   "id": "b8ca4c4c",
   "metadata": {},
   "outputs": [
    {
     "name": "stdout",
     "output_type": "stream",
     "text": [
      "[3.87298335 1.        ]\n"
     ]
    }
   ],
   "source": [
    "def myFunction(z):\n",
    "    x=z[0]\n",
    "    y=z[1]\n",
    "    \n",
    "    f=np.empty((2))\n",
    "    f[0]=x**2+ y**2 -16\n",
    "    return f\n",
    "\n",
    "zGuess =np.array([1,1])\n",
    "z=fsolve(myFunction, zGuess)\n",
    "print(z)"
   ]
  },
  {
   "cell_type": "markdown",
   "id": "9df08259",
   "metadata": {},
   "source": [
    "$x^2 + x + 1=3 $"
   ]
  },
  {
   "cell_type": "code",
   "execution_count": 24,
   "id": "ed1d9b92",
   "metadata": {},
   "outputs": [
    {
     "name": "stdout",
     "output_type": "stream",
     "text": [
      "[5.]\n"
     ]
    }
   ],
   "source": [
    "def myFunction(z):\n",
    "    f=x**2+ x -2\n",
    "    return f\n",
    "\n",
    "z=fsolve(myFunction,5)\n",
    "print(z)"
   ]
  },
  {
   "cell_type": "markdown",
   "id": "17d6454b",
   "metadata": {},
   "source": [
    "y + $cos y = 0$"
   ]
  },
  {
   "cell_type": "code",
   "execution_count": null,
   "id": "19c76a7d",
   "metadata": {},
   "outputs": [],
   "source": [
    "def myFunction(z):\n",
    "    x=z[0]\n",
    "    y=z[1]\n",
    "    w=z[2]\n",
    "    \n",
    "    f=np.empty((3))\n",
    "    f[0]=x**2+ y**2 -16\n",
    "    return f\n",
    "\n",
    "zGuess =np.array([1,1])\n",
    "z=fsolve(myFunction, zGuess)\n",
    "print(z)"
   ]
  },
  {
   "cell_type": "code",
   "execution_count": null,
   "id": "d9f0d998",
   "metadata": {},
   "outputs": [],
   "source": []
  }
 ],
 "metadata": {
  "kernelspec": {
   "display_name": "Python 3 (ipykernel)",
   "language": "python",
   "name": "python3"
  },
  "language_info": {
   "codemirror_mode": {
    "name": "ipython",
    "version": 3
   },
   "file_extension": ".py",
   "mimetype": "text/x-python",
   "name": "python",
   "nbconvert_exporter": "python",
   "pygments_lexer": "ipython3",
   "version": "3.9.7"
  }
 },
 "nbformat": 4,
 "nbformat_minor": 5
}
