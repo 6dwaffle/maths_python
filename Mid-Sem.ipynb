{
 "cells": [
  {
   "cell_type": "code",
   "execution_count": 4,
   "id": "bd37f52d",
   "metadata": {},
   "outputs": [
    {
     "name": "stdout",
     "output_type": "stream",
     "text": [
      "Matrix A:\n",
      " [[1 2 3]\n",
      " [3 4 5]\n",
      " [6 7 8]]\n",
      "Matrix B:\n",
      " [[1 8 3]\n",
      " [8 1 5]\n",
      " [1 3 8]]\n",
      "Enter your choice5\n",
      "Transpose of Matrix [[1 3 6]\n",
      " [2 4 7]\n",
      " [3 5 8]]\n"
     ]
    }
   ],
   "source": [
    "import numpy as np\n",
    "A=np.matrix([[1,2,3],[3,4,5],[6,7,8]])\n",
    "B=np.matrix([[1,8,3],[8,1,5],[1,3,8]])\n",
    "print('Matrix A:\\n', A)\n",
    "print('Matrix B:\\n', B)\n",
    "ch=int(input(\"Enter your choice\"))\n",
    "if ch==1:\n",
    "    q=A+B\n",
    "    print(\"Sum of Matrices\", q)\n",
    "if ch==2:\n",
    "    q=A-B\n",
    "    print(\"Difference of Matrices\",q)\n",
    "if ch==3:\n",
    "    q=A*B\n",
    "    print(\"Product of Matrices\",q)\n",
    "if ch==4:\n",
    "    q=np.linalg.det(A)\n",
    "    print(\"Determinanat of Matrix A\", q)\n",
    "if ch==5:\n",
    "    q=np.transpose(A)\n",
    "    print(\"Transpose of Matrix\", q)"
   ]
  },
  {
   "cell_type": "code",
   "execution_count": 9,
   "id": "3a7eacff",
   "metadata": {},
   "outputs": [
    {
     "name": "stdout",
     "output_type": "stream",
     "text": [
      "1.6593131612670047 -972.7785618780803 [0.50664033 1.68137368]\n"
     ]
    }
   ],
   "source": [
    "import numpy as np\n",
    "from scipy.optimize import fsolve\n",
    "def f(xyz):\n",
    "    x=xyz[0]\n",
    "    y=xyz[0]\n",
    "    f0= x**2 + y**2 -5\n",
    "    f1= y -3*x +5\n",
    "    \n",
    "    return np.array([f0,f1])\n",
    "xyz0=np.array([1,1])\n",
    "\n",
    "xyz=fsolve(f,xyz0)\n",
    "x=xyz[0]\n",
    "y=xyz[1]\n",
    "\n",
    "print(x,y, f(xyz))"
   ]
  },
  {
   "cell_type": "code",
   "execution_count": null,
   "id": "3082a0e7",
   "metadata": {},
   "outputs": [],
   "source": []
  }
 ],
 "metadata": {
  "kernelspec": {
   "display_name": "Python 3 (ipykernel)",
   "language": "python",
   "name": "python3"
  },
  "language_info": {
   "codemirror_mode": {
    "name": "ipython",
    "version": 3
   },
   "file_extension": ".py",
   "mimetype": "text/x-python",
   "name": "python",
   "nbconvert_exporter": "python",
   "pygments_lexer": "ipython3",
   "version": "3.9.7"
  }
 },
 "nbformat": 4,
 "nbformat_minor": 5
}
