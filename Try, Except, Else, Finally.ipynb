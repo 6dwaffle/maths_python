{
 "cells": [
  {
   "cell_type": "markdown",
   "id": "8d41674c",
   "metadata": {},
   "source": [
    "#### Try: This block will test the excpected error to occur\n",
    "#### Except:  Here you can handle the error\n",
    "#### Else: If there is no exception then this block will be executed\n",
    "#### Finally: Finally block always gets executed either exception is generated or not"
   ]
  },
  {
   "cell_type": "code",
   "execution_count": 11,
   "id": "cc497558",
   "metadata": {
    "scrolled": false
   },
   "outputs": [
    {
     "name": "stdout",
     "output_type": "stream",
     "text": [
      "--------------HDFC BANK PERCENTAGE ANALYSIS--------------------\n",
      "Enter the number of managers who are included in analysis: 2\n",
      "\n",
      " Enter the salary of the manager in thousands: 2000\n",
      "The salaries of the manager are correctly recorded.\n",
      "\n",
      " Enter the salary of the manager in thousands: 3000\n",
      "The salaries of the manager are correctly recorded.\n",
      "\n",
      " The salaries of different managers are: \n",
      "2000 3000 \n",
      "\n",
      " Total =  5000\n",
      "\n",
      "NO ERROR FOUND!!! Percentage spent by bank on managers salary can be calculated!\n",
      "\n",
      "The percentage spent by HDFC Bank on manager's salary is:  2500.0 %\n"
     ]
    },
    {
     "ename": "Exception",
     "evalue": "Exception: Sorry!! but the Bank had to revise the salaries of the manager!!",
     "output_type": "error",
     "traceback": [
      "\u001b[1;31m---------------------------------------------------------------------------\u001b[0m",
      "\u001b[1;31mException\u001b[0m                                 Traceback (most recent call last)",
      "\u001b[1;32m~\\AppData\\Local\\Temp/ipykernel_17992/2656734173.py\u001b[0m in \u001b[0;36m<module>\u001b[1;34m\u001b[0m\n\u001b[0;32m     27\u001b[0m         \u001b[0mprint\u001b[0m\u001b[1;33m(\u001b[0m\u001b[1;34m\"\\nThe percentage spent by HDFC Bank on manager's salary is: \"\u001b[0m\u001b[1;33m,\u001b[0m\u001b[0mpercentage\u001b[0m\u001b[1;33m,\u001b[0m\u001b[1;34m\"%\"\u001b[0m\u001b[1;33m)\u001b[0m\u001b[1;33m\u001b[0m\u001b[1;33m\u001b[0m\u001b[0m\n\u001b[0;32m     28\u001b[0m \u001b[1;32mif\u001b[0m \u001b[0mpercentage\u001b[0m \u001b[1;33m>\u001b[0m\u001b[1;36m50\u001b[0m\u001b[1;33m:\u001b[0m\u001b[1;33m\u001b[0m\u001b[1;33m\u001b[0m\u001b[0m\n\u001b[1;32m---> 29\u001b[1;33m     \u001b[1;32mraise\u001b[0m \u001b[0mException\u001b[0m\u001b[1;33m(\u001b[0m\u001b[1;34m\"Exception: Sorry!! but the Bank had to revise the salaries of the manager!!\"\u001b[0m\u001b[1;33m)\u001b[0m\u001b[1;33m\u001b[0m\u001b[1;33m\u001b[0m\u001b[0m\n\u001b[0m\u001b[0;32m     30\u001b[0m \u001b[0mprint\u001b[0m\u001b[1;33m(\u001b[0m\u001b[1;34m\"\\n----------------------------------------------------------\\n\"\u001b[0m\u001b[1;33m)\u001b[0m\u001b[1;33m\u001b[0m\u001b[1;33m\u001b[0m\u001b[0m\n",
      "\u001b[1;31mException\u001b[0m: Exception: Sorry!! but the Bank had to revise the salaries of the manager!!"
     ]
    }
   ],
   "source": [
    "print(\"--------------HDFC BANK PERCENTAGE ANALYSIS--------------------\")\n",
    "n = int(input(\"Enter the number of managers who are included in analysis: \"))\n",
    "salary = []\n",
    "for i in range (1,n+1):\n",
    "    try:\n",
    "        s = int(input(\"\\n Enter the salary of the manager in thousands: \"))\n",
    "    except ValueError:\n",
    "        print(\"The Error is VALUE ERROR\")\n",
    "        break\n",
    "    else:\n",
    "        print(\"The salaries of the manager are correctly recorded.\")\n",
    "    salary.append(s)\n",
    "if(n!=0):\n",
    "    print(\"\\n The salaries of different managers are: \")\n",
    "    for j in salary:\n",
    "        print(j,end=\" \")\n",
    "total = sum(salary)\n",
    "print(\"\\n\\n Total = \",total)\n",
    "try:\n",
    "    percentage = float((total/(n*100))*100)\n",
    "except ZeroDivisionError:\n",
    "    print(\"The error is DIVISION BY ZERO\")\n",
    "else:\n",
    "    print(\"\\nNO ERROR FOUND!!! Percentage spent by bank on managers salary can be calculated!\")\n",
    "finally:\n",
    "    if(n!=0):\n",
    "        print(\"\\nThe percentage spent by HDFC Bank on manager's salary is: \",percentage,\"%\")\n",
    "if percentage >50:\n",
    "    raise Exception(\"Exception: Sorry!! but the Bank had to revise the salaries of the manager!!\")\n",
    "print(\"\\n----------------------------------------------------------\\n\")    "
   ]
  },
  {
   "cell_type": "markdown",
   "id": "03409fc3",
   "metadata": {},
   "source": [
    "## Implementing Division by Zero Error"
   ]
  },
  {
   "cell_type": "code",
   "execution_count": 13,
   "id": "be314dbd",
   "metadata": {
    "scrolled": true
   },
   "outputs": [
    {
     "name": "stdout",
     "output_type": "stream",
     "text": [
      "--------------HDFC BANK PERCENTAGE ANALYSIS--------------------\n",
      "Enter the number of managers who are included in analysis: 0\n",
      "\n",
      "\n",
      " Total =  0\n",
      "The error is DIVISION BY ZERO\n"
     ]
    }
   ],
   "source": [
    "print(\"--------------HDFC BANK PERCENTAGE ANALYSIS--------------------\")\n",
    "n = int(input(\"Enter the number of managers who are included in analysis: \"))\n",
    "salary = []\n",
    "for i in range (1,n+1):\n",
    "    try:\n",
    "        s = int(input(\"\\n Enter the salary of the manager in thousands: \"))\n",
    "    except ValueError:\n",
    "        print(\"The Error is VALUE ERROR\")\n",
    "        break\n",
    "    else:\n",
    "        print(\"The salaries is correctly recorded!!!\")\n",
    "    salary.append(s)\n",
    "if(n!=0):\n",
    "    print(\"\\n The salaries of different doctors are: \")\n",
    "    for j in salary:\n",
    "        print(j,end=\" \")\n",
    "total = sum(salary)\n",
    "print(\"\\n\\n Total = \",total)\n",
    "try:\n",
    "    percentage = float((total/(n*100))*100)\n",
    "except ZeroDivisionError:\n",
    "    print(\"The error is DIVISION BY ZERO\")\n",
    "else:\n",
    "    print(\"\\nNO ERROR FOUND!!! Percentage spent by HDFC Bank on managers salary can be calculated!\")\n",
    "finally:\n",
    "    if(n!=0):\n",
    "        print(\"\\nThe percentage spent by HDFC Bank on managers salary is: \",percentage,\"%\")"
   ]
  },
  {
   "cell_type": "code",
   "execution_count": 17,
   "id": "08a76fd2",
   "metadata": {},
   "outputs": [
    {
     "name": "stdout",
     "output_type": "stream",
     "text": [
      "--------------HDFC BANK PERCENTAGE ANALYSIS--------------------\n",
      "Enter the number of managers who are included in analysis: 2\n",
      "\n",
      " Enter the salary of the manager in thousands: 3\n",
      "The salaries is correctly recorded!!!\n",
      "\n",
      " Enter the salary of the manager in thousands: 5\n",
      "The salaries is correctly recorded!!!\n",
      "\n",
      " The salaries of different managers are: \n",
      "3 5 \n",
      "\n",
      " Total =  8\n",
      "\n",
      "NO ERROR FOUND!!! Percentage spent by HDFC Bank on managers salary can be calculated!\n",
      "\n",
      "The percentage spent by HDFC Bank on managers's salary is:  4.0 %\n",
      "\n",
      "----------------------------------------------------------\n",
      "\n"
     ]
    }
   ],
   "source": [
    "print(\"--------------HDFC BANK PERCENTAGE ANALYSIS--------------------\")\n",
    "n = int(input(\"Enter the number of managers who are included in analysis: \"))\n",
    "salary = []\n",
    "for i in range (1,n+1):\n",
    "    try:\n",
    "        s = int(input(\"\\n Enter the salary of the manager in thousands: \"))\n",
    "    except ValueError:\n",
    "        print(\"The Error is VALUE ERROR\")\n",
    "        break\n",
    "    else:\n",
    "        print(\"The salaries is correctly recorded!!!\")\n",
    "    salary.append(s)\n",
    "if(n!=0):\n",
    "    print(\"\\n The salaries of different managers are: \")\n",
    "    for j in salary:\n",
    "        print(j,end=\" \")\n",
    "total = sum(salary)\n",
    "print(\"\\n\\n Total = \",total)\n",
    "try:\n",
    "    percentage = float((total/(n*100))*100)\n",
    "except ZeroDivisionError:\n",
    "    print(\"The error is DIVISION BY ZERO\")\n",
    "else:\n",
    "    print(\"\\nNO ERROR FOUND!!! Percentage spent by HDFC Bank on managers salary can be calculated!\")\n",
    "finally:\n",
    "    if(n!=0):\n",
    "        print(\"\\nThe percentage spent by HDFC Bank on managers's salary is: \",percentage,\"%\")\n",
    "if percentage >50:\n",
    "    raise Exception(\"Exception: Sorry!! but the BANK had to revise the salaries of the Manager!!\")\n",
    "print(\"\\n----------------------------------------------------------\\n\")        \n",
    "        "
   ]
  },
  {
   "cell_type": "markdown",
   "id": "85dd7e49",
   "metadata": {},
   "source": [
    "##### Implementing IO Error"
   ]
  },
  {
   "cell_type": "code",
   "execution_count": 2,
   "id": "cf0ea724",
   "metadata": {},
   "outputs": [
    {
     "name": "stdout",
     "output_type": "stream",
     "text": [
      "Written content in the file successfully\n"
     ]
    }
   ],
   "source": [
    "try:\n",
    "    fh = open(\"testfile333\", \"a\")\n",
    "    fh.write(\"Employee Details\")\n",
    "except IOError:\n",
    "    print(\"Error: can\\'t find file or read data\")\n",
    "else:\n",
    "    print(\"Written content in the file successfully\")\n",
    "    fh.close()"
   ]
  },
  {
   "cell_type": "markdown",
   "id": "85315f2f",
   "metadata": {},
   "source": [
    "## Implementing Name Error"
   ]
  },
  {
   "cell_type": "code",
   "execution_count": 1,
   "id": "9ec255a3",
   "metadata": {},
   "outputs": [
    {
     "name": "stdout",
     "output_type": "stream",
     "text": [
      "Enter Salary of the Employee: shifa\n",
      "That is not a  valid number\n"
     ]
    }
   ],
   "source": [
    "try:\n",
    "    x = int(input(\"Enter Salary of the Employee: \"))\n",
    "except ValueError:\n",
    "    print(\"That is not a  valid number\")"
   ]
  },
  {
   "cell_type": "code",
   "execution_count": 2,
   "id": "f52b81c7",
   "metadata": {},
   "outputs": [
    {
     "name": "stdout",
     "output_type": "stream",
     "text": [
      "Income after deduction is:  9500\n",
      "Executing Finally\n"
     ]
    }
   ],
   "source": [
    "class MyError(Exception):\n",
    "    def income(self, income,deduction ):\n",
    "        self.income = income\n",
    "        self.deduction = deduction\n",
    "        try:\n",
    "            final_income =  self.income-self.deduction\n",
    "        except (TypeError):\n",
    "            print(\"Datatype Mismatch\")\n",
    "        else:\n",
    "            print(\"Income after deduction is: \", final_income)\n",
    "        finally:\n",
    "            print(\"Executing Finally\")\n",
    "d=MyError()\n",
    "## Calling Fuction\n",
    "d.income(10000,500)"
   ]
  },
  {
   "cell_type": "code",
   "execution_count": 2,
   "id": "e8a6026c",
   "metadata": {},
   "outputs": [
    {
     "name": "stdout",
     "output_type": "stream",
     "text": [
      "Get age for: amar\n",
      "amar's age is unknown.\n"
     ]
    }
   ],
   "source": [
    "##KeyError\n",
    "names = {'Amar': 30, 'Akbar': 28, 'Anthony': 33}\n",
    "person = input('Get age for: ')\n",
    "try:\n",
    "    print(f'{person} is {names[person]} years old.')\n",
    "except KeyError:\n",
    "    print(f\"{person}'s age is unknown.\")"
   ]
  },
  {
   "cell_type": "markdown",
   "id": "2e7c3bbf",
   "metadata": {},
   "source": [
    "### Extracting the name of the positions in the bank from the emails"
   ]
  },
  {
   "cell_type": "code",
   "execution_count": 7,
   "id": "2b80028e",
   "metadata": {},
   "outputs": [
    {
     "name": "stdout",
     "output_type": "stream",
     "text": [
      "manager.\n",
      "accountant.\n",
      "clerk.\n"
     ]
    }
   ],
   "source": [
    "import re\n",
    "hos = \"\\w+@(\\w+\\.)+(com|org|net|edu|in)\"\n",
    "h1=re.match(hos, \"abhishikt@manager.in\")\n",
    "h2=re.match(hos, \"pratyush@accountant.in\")\n",
    "h3=re.match(hos, \"palak@clerk.in\")\n",
    "print(h1.group(1))\n",
    "print(h2.group(1))\n",
    "print(h3.group(1))"
   ]
  },
  {
   "cell_type": "markdown",
   "id": "1a5d45a0",
   "metadata": {},
   "source": [
    "### Extracting name and the branch of the bank from the Email"
   ]
  },
  {
   "cell_type": "code",
   "execution_count": 8,
   "id": "301ef9b3",
   "metadata": {},
   "outputs": [
    {
     "name": "stdout",
     "output_type": "stream",
     "text": [
      "Hdfc\n",
      "fatehabadroad.in\n"
     ]
    }
   ],
   "source": [
    "import re\n",
    "pal1 = \"(?P<name>\\w+)@(?P<branch>(\\w+\\.)+(com|org|net|edu|in))\"\n",
    "k3 = re.match(pal1,\"Hdfc@fatehabadroad.in\")\n",
    "print(k3.group('name'))\n",
    "print(k3.group('branch'))"
   ]
  }
 ],
 "metadata": {
  "kernelspec": {
   "display_name": "Python 3 (ipykernel)",
   "language": "python",
   "name": "python3"
  },
  "language_info": {
   "codemirror_mode": {
    "name": "ipython",
    "version": 3
   },
   "file_extension": ".py",
   "mimetype": "text/x-python",
   "name": "python",
   "nbconvert_exporter": "python",
   "pygments_lexer": "ipython3",
   "version": "3.9.7"
  }
 },
 "nbformat": 4,
 "nbformat_minor": 5
}
