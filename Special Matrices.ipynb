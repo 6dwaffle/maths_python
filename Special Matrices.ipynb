{
 "cells": [
  {
   "cell_type": "markdown",
   "id": "31e85af6",
   "metadata": {},
   "source": [
    "## Identity Matrix\n",
    "### Verify the following properties by suitable examples:\n",
    " #### Symmetric-Transpose of identity matrix is itself\n",
    " #### Identity Matrix is nonsingular\n",
    " ####   Inverse of Identity Matrix is itself\n",
    " ####   EigenValues are all 1's\n",
    " ####  Multiplying any matrix by the unit matrix, gives the matrix itself.\n",
    " ####   We always get an identity Matrix after multiplying two inverse matrices."
   ]
  },
  {
   "cell_type": "code",
   "execution_count": 2,
   "id": "666a08c9",
   "metadata": {},
   "outputs": [
    {
     "name": "stdout",
     "output_type": "stream",
     "text": [
      "Identity Matrix [[1 0 0]\n",
      " [0 1 0]\n",
      " [0 0 1]]\n",
      "Transpose Matrix [[1 0 0]\n",
      " [0 1 0]\n",
      " [0 0 1]]\n",
      "Determinant 1.0\n",
      "Inverse [[1. 0. 0.]\n",
      " [0. 1. 0.]\n",
      " [0. 0. 1.]]\n",
      "Eigen Values [1. 1. 1.]\n",
      "A=\n",
      " [[1 0 0]\n",
      " [0 5 0]\n",
      " [0 0 9]]\n",
      "A*I=\n",
      " [[1 0 0]\n",
      " [0 5 0]\n",
      " [0 0 9]]\n",
      "A*A^-1 =\n",
      " [[1. 0. 0.]\n",
      " [0. 1. 0.]\n",
      " [0. 0. 1.]]\n"
     ]
    }
   ],
   "source": [
    "import numpy as np\n",
    "I=np.matrix([[1,0,0],[0,1,0],[0,0,1]])\n",
    "print(\"Identity Matrix\", I)\n",
    "trans=np.transpose(I)\n",
    "print(\"Transpose Matrix\", trans)\n",
    "determinant=np.linalg.det(I)\n",
    "print(\"Determinant\", determinant)\n",
    "inv=np.linalg.inv(I)\n",
    "print(\"Inverse\", inv)\n",
    "eigen_values=np.linalg.eigvals(I)\n",
    "print(\"Eigen Values\", eigen_values)\n",
    "A=np.matrix([[1,0,0],[0,5,0],[0,0,9]])\n",
    "print(\"A=\\n\", A)\n",
    "print(\"A*I=\\n\", A*I)\n",
    "A_i=np.linalg.inv(A)\n",
    "B=A*(A_i)\n",
    "print(\"A*A^-1 =\\n\", B)"
   ]
  },
  {
   "cell_type": "markdown",
   "id": "14103c1e",
   "metadata": {},
   "source": [
    "## Diagonal Matrix"
   ]
  },
  {
   "cell_type": "markdown",
   "id": "8f6de62b",
   "metadata": {},
   "source": [
    "### Verify the following properties by suitable examples:\n",
    "###    Addition, Multiplication of diagonal matrix gives a diagonal Matrix again:\n",
    "###       diag(a1,...,an) + diag(b1,...,bn)= diag(a1+b1,...,an+bn)\n",
    "### diag(a1,...,an) * diag(b1,...,bn)= diag(a1*b1,...,an*bn)\n",
    "### Symmetric-Transpose of Diagonal matrix is itself\n",
    "### Determinant of diag(a1, ..., \n",
    "### Identity Matrix is nonsingular if diagonal entries are all non-zero\n",
    "### Eigen Values are diagonal Entries"
   ]
  },
  {
   "cell_type": "code",
   "execution_count": 6,
   "id": "8934f2c2",
   "metadata": {},
   "outputs": [
    {
     "name": "stdout",
     "output_type": "stream",
     "text": [
      "D1=\n",
      " [[1 0 0]\n",
      " [0 1 0]\n",
      " [0 0 1]]\n",
      "D2=\n",
      " [[4 0 0]\n",
      " [0 5 0]\n",
      " [0 0 6]]\n",
      "D1+D2 =\n",
      " [[5 0 0]\n",
      " [0 6 0]\n",
      " [0 0 7]]\n",
      "D1*D2 =\n",
      " [[5 0 0]\n",
      " [0 6 0]\n",
      " [0 0 7]]\n",
      "Transpose Matrix [[1 0 0]\n",
      " [0 1 0]\n",
      " [0 0 1]]\n",
      "Determinant 1.0\n",
      "Inverse [[1. 0. 0.]\n",
      " [0. 1. 0.]\n",
      " [0. 0. 1.]]\n",
      "Eigen Values [1. 1. 1.]\n"
     ]
    }
   ],
   "source": [
    "D1=np.matrix([[1,0,0],[0,1,0],[0,0,1]])\n",
    "D2=np.matrix([[4,0,0],[0,5,0],[0,0,6]])\n",
    "print(\"D1=\\n\", D1)\n",
    "print(\"D2=\\n\", D2)\n",
    "D=D1+D2\n",
    "C=D1+D2\n",
    "print(\"D1+D2 =\\n\", D)\n",
    "print(\"D1*D2 =\\n\", C)\n",
    "trans=np.transpose(D1)\n",
    "print(\"Transpose Matrix\", trans)\n",
    "determinant=np.linalg.det(D1)\n",
    "print(\"Determinant\", determinant)\n",
    "inv=np.linalg.inv(D1)\n",
    "print(\"Inverse\", inv)\n",
    "eigen_values=np.linalg.eigvals(D1)\n",
    "print(\"Eigen Values\", eigen_values)"
   ]
  },
  {
   "cell_type": "markdown",
   "id": "a3b412e9",
   "metadata": {},
   "source": [
    "### On adding two upper triangle matrices, the result will be an upper triangular matrix itself\n",
    "### Multiplying two upper triangular matrices, the result will be an upper triangular matrix.\n",
    "### The transpose of an upper triangular matrix will be a lower triangular matrix\n",
    "### The upper triangular matrix will remain an upper triangular matrix if inversed\n",
    "### Determinant of diag(a1,... an)= a1*a2 ... an\n",
    "### Upper triangular matrix is non-singular if diagonal entries are non-zero\n",
    "### Eigen Values are diagonal Entries"
   ]
  },
  {
   "cell_type": "code",
   "execution_count": 8,
   "id": "5c304ac4",
   "metadata": {},
   "outputs": [
    {
     "name": "stdout",
     "output_type": "stream",
     "text": [
      "U1=\n",
      " [[1 0 0]\n",
      " [0 1 0]\n",
      " [0 0 1]]\n",
      "U2=\n",
      " [[4 0 0]\n",
      " [0 5 0]\n",
      " [0 0 6]]\n",
      "U1+U2 =\n",
      " [[2 4 5]\n",
      " [0 3 6]\n",
      " [0 0 4]]\n",
      "U1*U2 =\n",
      " [[2 4 5]\n",
      " [0 3 6]\n",
      " [0 0 4]]\n",
      "Transpose Matrix [[1 0 0]\n",
      " [4 2 0]\n",
      " [5 6 3]]\n",
      "Determinant 6.0\n",
      "Inverse [[ 1.         -2.          2.33333333]\n",
      " [ 0.          0.5        -1.        ]\n",
      " [ 0.          0.          0.33333333]]\n",
      "Eigen Values [1. 2. 3.]\n"
     ]
    }
   ],
   "source": [
    "U1=np.matrix([[1,4,5],[0,2,6],[0,0,3]])\n",
    "U2=np.matrix([[1,0,0],[0,1,0],[0,0,1]])\n",
    "print(\"U1=\\n\", D1)\n",
    "print(\"U2=\\n\", D2)\n",
    "U=U1+U2\n",
    "V=U1+U2\n",
    "print(\"U1+U2 =\\n\", U)\n",
    "print(\"U1*U2 =\\n\", V)\n",
    "trans=np.transpose(U1)\n",
    "print(\"Transpose Matrix\", trans)\n",
    "determinant=np.linalg.det(U1)\n",
    "print(\"Determinant\", determinant)\n",
    "inv=np.linalg.inv(U1)\n",
    "print(\"Inverse\", inv)\n",
    "eigen_values=np.linalg.eigvals(U1)\n",
    "print(\"Eigen Values\", eigen_values)"
   ]
  },
  {
   "cell_type": "markdown",
   "id": "d4986189",
   "metadata": {},
   "source": [
    "## Singular Matrix "
   ]
  },
  {
   "cell_type": "markdown",
   "id": "0957cd0d",
   "metadata": {},
   "source": [
    "### The determinant of a singular matrix is zero\n",
    "### A non-invertible matrix is referred to as singular matrix, i.e., when the determinant of a matrix is zero multiplicative inverse for this matrix\n",
    "### Product of singular and non-singular matrix gives singular matrix\n"
   ]
  },
  {
   "cell_type": "code",
   "execution_count": null,
   "id": "073a3e4f",
   "metadata": {},
   "outputs": [],
   "source": [
    "s=np.matrix[[1,4,7],[1,4,2],[2,3,0]]\n",
    "print(\"Singular Matrix =\\n\", s)\n",
    "trans=np.transpose(s)\n",
    "print(\"Transpose Matrix =\\n\", trans)\n"
   ]
  },
  {
   "cell_type": "markdown",
   "id": "85247aa2",
   "metadata": {},
   "source": [
    "### RANK OF A MATRIX"
   ]
  },
  {
   "cell_type": "markdown",
   "id": "beb09fcf",
   "metadata": {},
   "source": [
    "linalg.matrix_rank(A) # Returns the matrix rank"
   ]
  },
  {
   "cell_type": "code",
   "execution_count": 5,
   "id": "06266a47",
   "metadata": {},
   "outputs": [
    {
     "name": "stdout",
     "output_type": "stream",
     "text": [
      "[[1. 0. 0. 0.]\n",
      " [0. 1. 0. 0.]\n",
      " [0. 0. 1. 0.]\n",
      " [0. 0. 0. 1.]]\n",
      "Rank 4\n"
     ]
    }
   ],
   "source": [
    "from numpy.linalg import matrix_rank\n",
    "I=np.eye(4)\n",
    "print(I)\n",
    "r=matrix_rank(I)\n",
    "print(\"Rank\", r)"
   ]
  },
  {
   "cell_type": "code",
   "execution_count": 15,
   "id": "f4fd7657",
   "metadata": {},
   "outputs": [
    {
     "name": "stdout",
     "output_type": "stream",
     "text": [
      "[[ 1  2  3  4]\n",
      " [ 0 -1  0 -1]\n",
      " [ 2  4  6  8]]\n",
      "Rank 2\n"
     ]
    }
   ],
   "source": [
    "o=np.matrix([[1,2,3,4],[0,-1,0,-1],[2,4,6,8]])\n",
    "print(o)\n",
    "rank=matrix_rank(o)\n",
    "print(\"Rank\", rank)"
   ]
  },
  {
   "cell_type": "markdown",
   "id": "d68e1470",
   "metadata": {},
   "source": [
    "### Find the rank of the matrix A by using the row echelon form"
   ]
  },
  {
   "cell_type": "code",
   "execution_count": 18,
   "id": "a8589cce",
   "metadata": {},
   "outputs": [
    {
     "name": "stdout",
     "output_type": "stream",
     "text": [
      "[[ 1  2  3]\n",
      " [ 2 -1  4]\n",
      " [ 3  0  5]]\n",
      "Rank 3\n"
     ]
    }
   ],
   "source": [
    "A=np.matrix([[1,2,3],[2,-1,4],[3,0,5]])\n",
    "print(A)\n",
    "rank=matrix_rank(A)\n",
    "print(\"Rank\", rank)"
   ]
  },
  {
   "cell_type": "code",
   "execution_count": 19,
   "id": "e7aed327",
   "metadata": {},
   "outputs": [
    {
     "name": "stdout",
     "output_type": "stream",
     "text": [
      "[[1 2 3]\n",
      " [2 3 4]\n",
      " [3 5 4]]\n",
      "Rank  3\n"
     ]
    }
   ],
   "source": [
    "A=np.matrix([[1,2,3],[2,3,4],[3,5,4]])\n",
    "print(A)\n",
    "rank=matrix_rank(A)\n",
    "print(\"Rank \", rank)"
   ]
  },
  {
   "cell_type": "code",
   "execution_count": 20,
   "id": "4e00a09b",
   "metadata": {},
   "outputs": [
    {
     "name": "stdout",
     "output_type": "stream",
     "text": [
      "[[5 6]\n",
      " [7 8]]\n",
      "Rank 2\n"
     ]
    }
   ],
   "source": [
    "A=np.matrix([[5,6],[7,8]])\n",
    "print(A)\n",
    "rank=matrix_rank(A)\n",
    "print(\"Rank\", rank)"
   ]
  },
  {
   "cell_type": "code",
   "execution_count": 22,
   "id": "fd0c6419",
   "metadata": {},
   "outputs": [
    {
     "name": "stdout",
     "output_type": "stream",
     "text": [
      "[[1. 0. 0. 0.]\n",
      " [0. 1. 0. 0.]\n",
      " [0. 0. 1. 0.]\n",
      " [0. 0. 0. 0.]]\n",
      "Rank 3\n"
     ]
    }
   ],
   "source": [
    "I=np.eye(4);\n",
    "I[3,3]=0\n",
    "print(I)\n",
    "r=matrix_rank(I)\n",
    "print(\"Rank\", r)"
   ]
  },
  {
   "cell_type": "code",
   "execution_count": 23,
   "id": "a582f02b",
   "metadata": {},
   "outputs": [
    {
     "data": {
      "text/plain": [
       "0"
      ]
     },
     "execution_count": 23,
     "metadata": {},
     "output_type": "execute_result"
    }
   ],
   "source": [
    "matrix_rank(np.ones((4,)))\n",
    "1\n",
    "matrix_rank(np.zeros((4,)))"
   ]
  },
  {
   "cell_type": "code",
   "execution_count": null,
   "id": "0174181c",
   "metadata": {},
   "outputs": [],
   "source": []
  }
 ],
 "metadata": {
  "kernelspec": {
   "display_name": "Python 3 (ipykernel)",
   "language": "python",
   "name": "python3"
  },
  "language_info": {
   "codemirror_mode": {
    "name": "ipython",
    "version": 3
   },
   "file_extension": ".py",
   "mimetype": "text/x-python",
   "name": "python",
   "nbconvert_exporter": "python",
   "pygments_lexer": "ipython3",
   "version": "3.9.7"
  }
 },
 "nbformat": 4,
 "nbformat_minor": 5
}
