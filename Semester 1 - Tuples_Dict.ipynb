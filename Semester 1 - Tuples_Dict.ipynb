{
 "cells": [
  {
   "cell_type": "code",
   "execution_count": 1,
   "id": "746c0fa9",
   "metadata": {},
   "outputs": [
    {
     "name": "stdout",
     "output_type": "stream",
     "text": [
      "[6, 7, 8]\n"
     ]
    },
    {
     "data": {
      "text/plain": [
       "matrix([[1, 2, 3],\n",
       "        [3, 4, 5],\n",
       "        [6, 7, 8]])"
      ]
     },
     "execution_count": 1,
     "metadata": {},
     "output_type": "execute_result"
    }
   ],
   "source": [
    "list=[[1,2,3],[3,4,5],[6,7,8]]\n",
    "print(list[2])\n",
    "import numpy as np\n",
    "np.matrix(list)\n",
    "#np.array(list)"
   ]
  },
  {
   "cell_type": "code",
   "execution_count": null,
   "id": "08ec9e68",
   "metadata": {},
   "outputs": [],
   "source": []
  },
  {
   "cell_type": "code",
   "execution_count": 2,
   "id": "02f86c33",
   "metadata": {},
   "outputs": [
    {
     "data": {
      "text/plain": [
       "array([[[ 1,  2,  3],\n",
       "        [ 1, 42,  3],\n",
       "        [ 1,  1,  1]],\n",
       "\n",
       "       [[ 1,  2,  3],\n",
       "        [12,  3,  3],\n",
       "        [ 2,  3,  4]]])"
      ]
     },
     "execution_count": 2,
     "metadata": {},
     "output_type": "execute_result"
    }
   ],
   "source": [
    "import numpy as np\n",
    "np.array([[[1,2,3],[1,42,3],[1,1,1]],[[1,2,3],[12,3,3],[2,3,4]]])"
   ]
  },
  {
   "cell_type": "code",
   "execution_count": 3,
   "id": "45128c63",
   "metadata": {},
   "outputs": [
    {
     "name": "stdout",
     "output_type": "stream",
     "text": [
      "[9, 8, 7]\n"
     ]
    }
   ],
   "source": [
    "list=[]\n",
    "list.extend((9,8,7))\n",
    "print(list)"
   ]
  },
  {
   "cell_type": "code",
   "execution_count": 1,
   "id": "4b7b9256",
   "metadata": {},
   "outputs": [
    {
     "data": {
      "text/plain": [
       "[1, 2, 3, 4, 5]"
      ]
     },
     "execution_count": 1,
     "metadata": {},
     "output_type": "execute_result"
    }
   ],
   "source": [
    "x = [1, 2, 3]\n",
    "x.extend([4, 5])#to add 4 and 5 to the list\n",
    "x"
   ]
  },
  {
   "cell_type": "code",
   "execution_count": 5,
   "id": "caa25fc0",
   "metadata": {},
   "outputs": [
    {
     "data": {
      "text/plain": [
       "[1, 2, 3, 67]"
      ]
     },
     "execution_count": 5,
     "metadata": {},
     "output_type": "execute_result"
    }
   ],
   "source": [
    "x = [1, 2, 3]\n",
    "x.insert(3,67) #insert 67 at 3rd position\n",
    "x"
   ]
  },
  {
   "cell_type": "code",
   "execution_count": 6,
   "id": "84e8eef1",
   "metadata": {},
   "outputs": [
    {
     "data": {
      "text/plain": [
       "[1, 2]"
      ]
     },
     "execution_count": 6,
     "metadata": {},
     "output_type": "execute_result"
    }
   ],
   "source": [
    "x = [1, 2, 3]\n",
    "x.pop(2) #pop the element present at the 2nd position\n",
    "x"
   ]
  },
  {
   "cell_type": "code",
   "execution_count": 7,
   "id": "deee1131",
   "metadata": {},
   "outputs": [
    {
     "data": {
      "text/plain": [
       "[1, 3, 4, 5, 6, 8]"
      ]
     },
     "execution_count": 7,
     "metadata": {},
     "output_type": "execute_result"
    }
   ],
   "source": [
    "x = [1, 2, 3,4,5,6,8]\n",
    "x.remove(2) #deletes 2\n",
    "x"
   ]
  },
  {
   "cell_type": "code",
   "execution_count": 2,
   "id": "0da84823",
   "metadata": {},
   "outputs": [
    {
     "data": {
      "text/plain": [
       "[1, 2, 3, 4, 5]"
      ]
     },
     "execution_count": 2,
     "metadata": {},
     "output_type": "execute_result"
    }
   ],
   "source": [
    "x[1:2] #slicing\n",
    "x"
   ]
  },
  {
   "cell_type": "code",
   "execution_count": 9,
   "id": "e158243a",
   "metadata": {},
   "outputs": [
    {
     "name": "stdout",
     "output_type": "stream",
     "text": [
      "6\n",
      "4\n",
      "[4, 5, 6]\n"
     ]
    }
   ],
   "source": [
    "l=[1,2,3,4,5,6]\n",
    "print(len(l))\n",
    "print(l[3])\n",
    "print(l[-3:])"
   ]
  },
  {
   "cell_type": "code",
   "execution_count": 10,
   "id": "a0073623",
   "metadata": {},
   "outputs": [
    {
     "name": "stdout",
     "output_type": "stream",
     "text": [
      "[3, 4, 5, 6]\n"
     ]
    }
   ],
   "source": [
    "print(l[2:])"
   ]
  },
  {
   "cell_type": "code",
   "execution_count": 3,
   "id": "dda00f8f",
   "metadata": {},
   "outputs": [
    {
     "name": "stdout",
     "output_type": "stream",
     "text": [
      "Range3\n",
      "Enter a number1\n",
      "Enter a number2\n",
      "Enter a number4\n"
     ]
    }
   ],
   "source": [
    "no=int(input(\"Range\"))\n",
    "no1=[]\n",
    "for i in range(no):\n",
    "    element=int(input(\"Enter a number\"))\n",
    "    no1.append(element)"
   ]
  },
  {
   "cell_type": "code",
   "execution_count": null,
   "id": "031b9a11",
   "metadata": {},
   "outputs": [],
   "source": [
    "print(no1)\n",
    "print(no1[::-1])"
   ]
  },
  {
   "cell_type": "code",
   "execution_count": null,
   "id": "ba9fdb41",
   "metadata": {},
   "outputs": [],
   "source": [
    "print(max(no1))\n",
    "print(min(no1))"
   ]
  },
  {
   "cell_type": "code",
   "execution_count": null,
   "id": "abb673d1",
   "metadata": {},
   "outputs": [],
   "source": [
    "print(\"sum of items in the list\",sum(no1))"
   ]
  },
  {
   "cell_type": "code",
   "execution_count": null,
   "id": "8d0b0589",
   "metadata": {},
   "outputs": [],
   "source": [
    "check=0\n",
    "if check in no1:\n",
    "    print(\"its present\", no1.index(0))\n",
    "else:\n",
    "    print(\"not present\")"
   ]
  },
  {
   "cell_type": "code",
   "execution_count": 1,
   "id": "5f131b4e",
   "metadata": {},
   "outputs": [
    {
     "name": "stdout",
     "output_type": "stream",
     "text": [
      "[0, 1, 0, 1, 0]\n"
     ]
    }
   ],
   "source": [
    "l=[2,3,4,5,6]\n",
    "for i in l:\n",
    "    if(i%2==0):\n",
    "        l[l.index(i)]=0\n",
    "    else:\n",
    "        l[l.index(i)]=1\n",
    "print(l)"
   ]
  },
  {
   "cell_type": "code",
   "execution_count": null,
   "id": "3617f108",
   "metadata": {},
   "outputs": [],
   "source": [
    "l=[12,45,67,98,0]\n",
    "l.sort()\n",
    "l"
   ]
  },
  {
   "cell_type": "code",
   "execution_count": 10,
   "id": "13fef187",
   "metadata": {},
   "outputs": [
    {
     "name": "stdout",
     "output_type": "stream",
     "text": [
      "Range5\n",
      "Enter a number23\n",
      "Enter a number78\n",
      "Enter a number65\n",
      "Enter a number34\n",
      "Enter a number98\n"
     ]
    }
   ],
   "source": [
    "li=int(input(\"Range\"));\n",
    "l=[]\n",
    "for i in range(li):\n",
    "    element=int(input(\"Enter a number\"))\n",
    "    l.append(element)"
   ]
  },
  {
   "cell_type": "code",
   "execution_count": 3,
   "id": "9f82634a",
   "metadata": {},
   "outputs": [
    {
     "name": "stdout",
     "output_type": "stream",
     "text": [
      "34.0\n"
     ]
    }
   ],
   "source": [
    "avg=sum(l)/li\n",
    "print(avg)"
   ]
  },
  {
   "cell_type": "code",
   "execution_count": 11,
   "id": "80e1485e",
   "metadata": {},
   "outputs": [
    {
     "data": {
      "text/plain": [
       "[23, 34, 65, 78, 98]"
      ]
     },
     "execution_count": 11,
     "metadata": {},
     "output_type": "execute_result"
    }
   ],
   "source": [
    "l.sort()\n",
    "l\n"
   ]
  },
  {
   "cell_type": "code",
   "execution_count": 8,
   "id": "f8ebbda2",
   "metadata": {},
   "outputs": [
    {
     "data": {
      "text/plain": [
       "[12, 23]"
      ]
     },
     "execution_count": 8,
     "metadata": {},
     "output_type": "execute_result"
    }
   ],
   "source": [
    "l[0:2]"
   ]
  },
  {
   "cell_type": "code",
   "execution_count": 25,
   "id": "1811e741",
   "metadata": {},
   "outputs": [
    {
     "name": "stdout",
     "output_type": "stream",
     "text": [
      "Enter a number7\n",
      "the month name is july\n"
     ]
    }
   ],
   "source": [
    "months=[\"jan\",\"feb\",\"march\",\"april\",\"may\",\"june\",\"july\",\"august\",\"sep\",\"october\",\"nov\",\"dec\"]\n",
    "n=int(input(\"Enter a number\"))\n",
    "print ( \"the month name is\", months[n-1] )"
   ]
  },
  {
   "cell_type": "code",
   "execution_count": 2,
   "id": "4f132df9",
   "metadata": {},
   "outputs": [
    {
     "name": "stdout",
     "output_type": "stream",
     "text": [
      "[1, 2, 2, 3, 3, 3, 4, 4, 4, 4, 5, 5, 5, 5, 5, 6, 6, 6, 6, 6, 6, 7, 7, 7, 7, 7, 7, 7, 8, 8, 8, 8, 8, 8, 8, 8, 9, 9, 9, 9, 9, 9, 9, 9, 9, 10, 10, 10, 10, 10, 10, 10, 10, 10, 10]\n"
     ]
    }
   ],
   "source": [
    "patt=[]\n",
    "for i in range(1,11):\n",
    "    for j in range(0,i):\n",
    "        patt.append(i)\n",
    "print(patt)"
   ]
  },
  {
   "cell_type": "code",
   "execution_count": 3,
   "id": "1a6e79f6",
   "metadata": {},
   "outputs": [
    {
     "name": "stdout",
     "output_type": "stream",
     "text": [
      "[1, 2, 2, 3, 3, 3, 4, 4, 4, 4, 5, 5, 5, 5, 5, 6, 6, 6, 6, 6, 6, 7, 7, 7, 7, 7, 7, 7, 8, 8, 8, 8, 8, 8, 8, 8, 9, 9, 9, 9, 9, 9, 9, 9, 9, 10, 10, 10, 10, 10, 10, 10, 10, 10, 10]\n"
     ]
    }
   ],
   "source": [
    "L = []\n",
    "for i in range(1, 11):\n",
    "    L += [i]*i\n",
    "print(L)"
   ]
  },
  {
   "cell_type": "code",
   "execution_count": null,
   "id": "063b4ca9",
   "metadata": {},
   "outputs": [],
   "source": [
    "list=[1,2,3,4,5]\n",
    "for i in list:\n",
    "    list=i*i\n",
    "    print(list)"
   ]
  },
  {
   "cell_type": "code",
   "execution_count": 10,
   "id": "7b1aa65d",
   "metadata": {},
   "outputs": [
    {
     "name": "stdout",
     "output_type": "stream",
     "text": [
      "[1, 4, 9, 16, 25]\n"
     ]
    }
   ],
   "source": [
    "list=[1,2,3,4,5]\n",
    "for i in range (0,len(list)):\n",
    "    list[i]=list[i]*list[i]\n",
    "print(list)"
   ]
  },
  {
   "cell_type": "code",
   "execution_count": 4,
   "id": "543e78d7",
   "metadata": {},
   "outputs": [
    {
     "name": "stdout",
     "output_type": "stream",
     "text": [
      "[1, 72900, 16, 25, 90000]\n"
     ]
    }
   ],
   "source": [
    "lst = [1, 270, 4, 5, 300]\n",
    "for i in range(0, len(lst)):\n",
    "    lst[i] = (lst[i])*(lst[i])\n",
    "print(lst)"
   ]
  },
  {
   "cell_type": "code",
   "execution_count": 3,
   "id": "bee8b281",
   "metadata": {},
   "outputs": [
    {
     "name": "stdout",
     "output_type": "stream",
     "text": [
      "New list [44, 62, 56, 87]\n"
     ]
    }
   ],
   "source": [
    "#Given two lists, create a list by going element-by-element and taking the larger one from the two lists.\n",
    "l1=[12,34,56,87]\n",
    "l2=[44,62,11,20]\n",
    "l3=[]\n",
    "for i in range (0,len(l1)):\n",
    "    if(l1[i]<l2[i]):\n",
    "        l3.append(l2[i])\n",
    "    else:\n",
    "        l3.append(l1[i])\n",
    "print(\"New list\", l3)"
   ]
  },
  {
   "cell_type": "code",
   "execution_count": 5,
   "id": "683f20a6",
   "metadata": {},
   "outputs": [
    {
     "name": "stdout",
     "output_type": "stream",
     "text": [
      "[1, 3, 6, 10, 15]\n"
     ]
    }
   ],
   "source": [
    "#Given list, create a list of cumulative sums from it\n",
    "l=[1,2,3,4,5]\n",
    "l1=[]\n",
    "sum=0\n",
    "for i in l:\n",
    "    sum=sum+i\n",
    "    l1.append(sum)\n",
    "print(l1)"
   ]
  },
  {
   "cell_type": "code",
   "execution_count": 1,
   "id": "0156a891",
   "metadata": {},
   "outputs": [
    {
     "name": "stdout",
     "output_type": "stream",
     "text": [
      "Range5\n",
      "Enter a number5\n",
      "Enter a number3\n",
      "Enter a number2\n",
      "Enter a number3\n",
      "Enter a number3\n",
      "[5, 8, 10, 13, 16]\n"
     ]
    }
   ],
   "source": [
    "#List of triangular numbers any of the series of numbers (1, 3, 6, 10, 15, etc.) obtained by continued summation of the natural numbers\n",
    "li=int(input(\"Range\"));\n",
    "l=[]\n",
    "new=[]\n",
    "for i in range(li):\n",
    "    element=int(input(\"Enter a number\"))\n",
    "    l.append(element)\n",
    "sum=0\n",
    "for i in l:\n",
    "    sum=sum+i\n",
    "    new.append(sum)\n",
    "print(new)"
   ]
  },
  {
   "cell_type": "markdown",
   "id": "5681c5ad",
   "metadata": {},
   "source": [
    "#### Rotate items in a list left."
   ]
  },
  {
   "cell_type": "code",
   "execution_count": 18,
   "id": "3e771330",
   "metadata": {},
   "outputs": [
    {
     "name": "stdout",
     "output_type": "stream",
     "text": [
      "[5, 2, 3, 4]\n"
     ]
    }
   ],
   "source": [
    "lst =[2,3,4,5]\n",
    "t=lst[-1]\n",
    "for i in reversed(range(1,len(lst))):\n",
    "  lst[i]=lst[i-1]\n",
    "lst[0]=t\n",
    "print(lst)"
   ]
  },
  {
   "cell_type": "code",
   "execution_count": 1,
   "id": "8a5109ba",
   "metadata": {},
   "outputs": [
    {
     "name": "stdout",
     "output_type": "stream",
     "text": [
      "('jan', 'feb', 'march')\n",
      "('jan', 'feb', 'march') <class 'tuple'>\n",
      "Enter the tuple: 1,2,'shifa',0.9\n",
      "(1, 2, 'shifa', 0.9)\n",
      "<class 'tuple'>\n",
      "(1, 2, 'shifa', 0.9)\n"
     ]
    }
   ],
   "source": [
    "Tup1=(\"jan\",\"feb\",\"march\")\n",
    "Tup2='jan','feb','march'\n",
    "print(Tup1)\n",
    "print(Tup2,type(Tup2))\n",
    "T=eval(input(\"Enter the tuple: \"))\n",
    "print(T)\n",
    "print(type(T))\n",
    "t=tuple((1,2,'shifa',0.9))\n",
    "print(t)"
   ]
  },
  {
   "cell_type": "code",
   "execution_count": 5,
   "id": "9cbb9cec",
   "metadata": {},
   "outputs": [
    {
     "name": "stdout",
     "output_type": "stream",
     "text": [
      "['apple', 'banana', 'cherry']\n",
      "strawberry\n",
      "raspberry\n"
     ]
    }
   ],
   "source": [
    "fruits=(\"apple\",\"banana\",\"cherry\",\"strawberry\",\"raspberry\")\n",
    "(*green,yellow,red)=fruits\n",
    "print(green)\n",
    "print(yellow)\n",
    "print(red)"
   ]
  },
  {
   "cell_type": "code",
   "execution_count": 6,
   "id": "a1a32831",
   "metadata": {},
   "outputs": [
    {
     "name": "stdout",
     "output_type": "stream",
     "text": [
      "a is bigger\n"
     ]
    }
   ],
   "source": [
    "#case1\n",
    "a=(5,6)\n",
    "b=(5,4)\n",
    "if (a>b):print(\"a is bigger\")\n",
    "else: print(\"b is bigger\")"
   ]
  },
  {
   "cell_type": "code",
   "execution_count": 7,
   "id": "66006076",
   "metadata": {},
   "outputs": [
    {
     "name": "stdout",
     "output_type": "stream",
     "text": [
      "a is bigger\n"
     ]
    }
   ],
   "source": [
    "#case2\n",
    "a=(5,6)\n",
    "b=(1,4)\n",
    "if (a>b):print(\"a is bigger\")\n",
    "else: print(\"b is bigger\")"
   ]
  },
  {
   "cell_type": "code",
   "execution_count": 8,
   "id": "fdc901ed",
   "metadata": {},
   "outputs": [
    {
     "name": "stdout",
     "output_type": "stream",
     "text": [
      "b is bigger\n"
     ]
    }
   ],
   "source": [
    "#case3\n",
    "a=(5,6)\n",
    "b=(6,4)\n",
    "if (a>b):print(\"a is bigger\")\n",
    "else: print(\"b is bigger\")"
   ]
  },
  {
   "cell_type": "markdown",
   "id": "5ee62295",
   "metadata": {},
   "source": [
    "### Using tuples as keys in dictionaries"
   ]
  },
  {
   "cell_type": "code",
   "execution_count": 1,
   "id": "afabdfbb",
   "metadata": {},
   "outputs": [
    {
     "name": "stdout",
     "output_type": "stream",
     "text": [
      "100\n",
      "200\n",
      "[('x', 100), (1, 200)]\n"
     ]
    }
   ],
   "source": [
    "a={'x':100, 1:200}\n",
    "print(a['x'])\n",
    "print(a[1])\n",
    "b=list(a.items())\n",
    "print(b)"
   ]
  },
  {
   "cell_type": "code",
   "execution_count": 12,
   "id": "ab6f624d",
   "metadata": {},
   "outputs": [
    {
     "name": "stdout",
     "output_type": "stream",
     "text": [
      "100\n",
      "200\n"
     ]
    }
   ],
   "source": [
    "a={'x':100 , (1,0):200}\n",
    "print(a['x'])\n",
    "print(a[(1,0)])"
   ]
  },
  {
   "cell_type": "code",
   "execution_count": 2,
   "id": "d59d471a",
   "metadata": {},
   "outputs": [
    {
     "name": "stdout",
     "output_type": "stream",
     "text": [
      "first two min [3, 5]\n",
      "first two max [8, 20]\n"
     ]
    }
   ],
   "source": [
    "tup = (5, 20, 3, 7, 6, 8)\n",
    "\n",
    "print(\"first two min\", sorted(tup)[:2:])\n",
    "print(\"first two max\", sorted(tup)[-2::])"
   ]
  },
  {
   "cell_type": "code",
   "execution_count": 4,
   "id": "509a3bb4",
   "metadata": {},
   "outputs": [
    {
     "name": "stdout",
     "output_type": "stream",
     "text": [
      "Orginial Tupple is:  (5, 20, 3, 7, 6, 8)\n",
      "Extracted values (3, 5, 8, 20)\n"
     ]
    }
   ],
   "source": [
    "#print the maximum and minimum k elements of a tuple\n",
    "tup = (5, 20, 3, 7, 6, 8)\n",
    "#printing original tuple\n",
    "print(\"Orginial Tupple is: \", tup)\n",
    "#initializing k\n",
    "k=2\n",
    "#Maximum and minimum K elements in Tuple\n",
    "#using slicing+ sorted()\n",
    "tup=list(tup)\n",
    "temp=sorted(tup)\n",
    "res=tuple(temp[:k] + temp[-k:])\n",
    "print(\"Extracted values\", res)"
   ]
  },
  {
   "cell_type": "markdown",
   "id": "efa56689",
   "metadata": {},
   "source": [
    "### Write a program to sort a list of tuples by the second item"
   ]
  },
  {
   "cell_type": "code",
   "execution_count": 10,
   "id": "f1161320",
   "metadata": {},
   "outputs": [
    {
     "name": "stdout",
     "output_type": "stream",
     "text": [
      "[('banana', 5), ('orange', 10), ('blueberry', 15), ('cherry', 20), ('apple', 24), ('pineapple', 28)]\n"
     ]
    }
   ],
   "source": [
    "tup =[('apple', 24), ('orange', 10), ('pineapple', 28), \n",
    "      ('banana', 5), ('cherry', 20), ('blueberry', 15)]\n",
    "def Sort_Tuple(tup):\n",
    "    lst=len(tup)\n",
    "    for i in range(0,lst):\n",
    "        for j in range (0,lst-i-1):\n",
    "            if(tup[j][1] > tup[j+1][1]):\n",
    "                temp=tup[j]\n",
    "                tup[j]=tup[j+1]\n",
    "                tup[j+1]=temp\n",
    "    return tup\n",
    "print(Sort_Tuple(tup))"
   ]
  },
  {
   "cell_type": "code",
   "execution_count": null,
   "id": "11de8398",
   "metadata": {},
   "outputs": [],
   "source": []
  },
  {
   "cell_type": "code",
   "execution_count": 11,
   "id": "310ec8e3",
   "metadata": {},
   "outputs": [
    {
     "name": "stdout",
     "output_type": "stream",
     "text": [
      "The original list [(1, 3, 4), (2, 4, 6), (3, 8, 1)]\n",
      "list after bulk update [(5, 7, 8), (6, 8, 10), (7, 12, 5)]\n"
     ]
    }
   ],
   "source": [
    "#initialise list\n",
    "lst = [(1, 3, 4), (2, 4, 6), (3, 8, 1)]\n",
    "#printing original list\n",
    "print(\"The original list\", lst)\n",
    "#initialise add\n",
    "add_ele=4\n",
    "res=[tuple(j+ add_ele for j in sub) for sub in lst]\n",
    "# printing result\n",
    "print(\"list after bulk update\", res)"
   ]
  },
  {
   "cell_type": "markdown",
   "id": "9a13ceb4",
   "metadata": {},
   "source": [
    "### Write a program to create "
   ]
  },
  {
   "cell_type": "markdown",
   "id": "88b431b7",
   "metadata": {},
   "source": [
    "## Python Dictionary"
   ]
  },
  {
   "cell_type": "markdown",
   "id": "9199a3d9",
   "metadata": {},
   "source": [
    "#### A dictionary is a more general version of a list.  Here is a list that contains the number of days in the months of the year."
   ]
  },
  {
   "cell_type": "code",
   "execution_count": 1,
   "id": "974baa53",
   "metadata": {},
   "outputs": [],
   "source": [
    "days=[31,28,31,30,31,30,31,31,30,31,30,31]"
   ]
  },
  {
   "cell_type": "markdown",
   "id": "39b059ab",
   "metadata": {},
   "source": [
    "### If we want the number of days in january"
   ]
  },
  {
   "cell_type": "code",
   "execution_count": 2,
   "id": "fee49c12",
   "metadata": {},
   "outputs": [
    {
     "data": {
      "text/plain": [
       "31"
      ]
     },
     "execution_count": 2,
     "metadata": {},
     "output_type": "execute_result"
    }
   ],
   "source": [
    "days[0]"
   ]
  },
  {
   "cell_type": "code",
   "execution_count": 3,
   "id": "f3f77b10",
   "metadata": {},
   "outputs": [
    {
     "data": {
      "text/plain": [
       "31"
      ]
     },
     "execution_count": 3,
     "metadata": {},
     "output_type": "execute_result"
    }
   ],
   "source": [
    "days[11]"
   ]
  },
  {
   "cell_type": "code",
   "execution_count": 4,
   "id": "922e1a55",
   "metadata": {},
   "outputs": [],
   "source": [
    "days={ 'january':31, 'february': 28,'march':31,'april':30,'may':31,'june':30,'july':31,'august':31,'september':30,'october':31,'november':30,'december':31}"
   ]
  },
  {
   "cell_type": "code",
   "execution_count": 2,
   "id": "c62d6164",
   "metadata": {},
   "outputs": [],
   "source": [
    "d={'A':100,'B':200}"
   ]
  },
  {
   "cell_type": "markdown",
   "id": "4bfd85a8",
   "metadata": {},
   "source": [
    "### Creating dictionaries "
   ]
  },
  {
   "cell_type": "markdown",
   "id": "8f5adf4d",
   "metadata": {},
   "source": [
    "#### to declare a dictionary we enclose it in curly braces. each entry consists of a apaor seperated by colon"
   ]
  },
  {
   "cell_type": "markdown",
   "id": "48935b5d",
   "metadata": {},
   "source": [
    "#### to change d['A'] to 400, do"
   ]
  },
  {
   "cell_type": "code",
   "execution_count": 3,
   "id": "ba33309b",
   "metadata": {},
   "outputs": [
    {
     "data": {
      "text/plain": [
       "{'A': 400, 'B': 200}"
      ]
     },
     "execution_count": 3,
     "metadata": {},
     "output_type": "execute_result"
    }
   ],
   "source": [
    "d['A']=400 \n",
    "d"
   ]
  },
  {
   "cell_type": "code",
   "execution_count": 8,
   "id": "a69473f4",
   "metadata": {},
   "outputs": [
    {
     "data": {
      "text/plain": [
       "{'A': 400, 'B': 200, 'C': 500}"
      ]
     },
     "execution_count": 8,
     "metadata": {},
     "output_type": "execute_result"
    }
   ],
   "source": [
    "d['C']=500 #to add a new entry to the dictionary\n",
    "d"
   ]
  },
  {
   "cell_type": "code",
   "execution_count": 9,
   "id": "2d0b38d7",
   "metadata": {},
   "outputs": [
    {
     "data": {
      "text/plain": [
       "{'B': 200, 'C': 500}"
      ]
     },
     "execution_count": 9,
     "metadata": {},
     "output_type": "execute_result"
    }
   ],
   "source": [
    "#to delete an entry from a dictionary \n",
    "del d['A']\n",
    "d"
   ]
  },
  {
   "cell_type": "markdown",
   "id": "e457c8a4",
   "metadata": {},
   "source": [
    "#### empty dictionary is{} which is the dictionary equivalent of [] for lists or ' ' for strings"
   ]
  },
  {
   "cell_type": "code",
   "execution_count": 3,
   "id": "8eac258c",
   "metadata": {},
   "outputs": [
    {
     "ename": "NameError",
     "evalue": "name 'A' is not defined",
     "output_type": "error",
     "traceback": [
      "\u001b[1;31m---------------------------------------------------------------------------\u001b[0m",
      "\u001b[1;31mNameError\u001b[0m                                 Traceback (most recent call last)",
      "\u001b[1;32m<ipython-input-3-36d5c18400bb>\u001b[0m in \u001b[0;36m<module>\u001b[1;34m\u001b[0m\n\u001b[1;32m----> 1\u001b[1;33m \u001b[0md\u001b[0m\u001b[1;33m=\u001b[0m\u001b[1;33m{\u001b[0m\u001b[1;34m'shifa'\u001b[0m\u001b[1;33m:\u001b[0m \u001b[0mA\u001b[0m\u001b[1;33m,\u001b[0m \u001b[1;34m'adrita'\u001b[0m\u001b[1;33m:\u001b[0m \u001b[0mB\u001b[0m\u001b[1;33m,\u001b[0m \u001b[1;34m'shuja'\u001b[0m\u001b[1;33m:\u001b[0m \u001b[0mC\u001b[0m\u001b[1;33m}\u001b[0m\u001b[1;33m\u001b[0m\u001b[1;33m\u001b[0m\u001b[0m\n\u001b[0m\u001b[0;32m      2\u001b[0m \u001b[0mword\u001b[0m\u001b[1;33m=\u001b[0m\u001b[0minput\u001b[0m\u001b[1;33m(\u001b[0m\u001b[1;34m'enter a word'\u001b[0m\u001b[1;33m)\u001b[0m\u001b[1;33m\u001b[0m\u001b[1;33m\u001b[0m\u001b[0m\n",
      "\u001b[1;31mNameError\u001b[0m: name 'A' is not defined"
     ]
    }
   ],
   "source": [
    "d={'shifa': A, 'adrita': B, 'shuja': C}\n",
    "word=input('enter a word')\n"
   ]
  },
  {
   "cell_type": "code",
   "execution_count": 16,
   "id": "55d20524",
   "metadata": {},
   "outputs": [
    {
     "ename": "SyntaxError",
     "evalue": "invalid syntax (<ipython-input-16-ebb8cab54f0e>, line 1)",
     "output_type": "error",
     "traceback": [
      "\u001b[1;36m  File \u001b[1;32m\"<ipython-input-16-ebb8cab54f0e>\"\u001b[1;36m, line \u001b[1;32m1\u001b[0m\n\u001b[1;33m    d=dict(['A': 100],['B':200])\u001b[0m\n\u001b[1;37m               ^\u001b[0m\n\u001b[1;31mSyntaxError\u001b[0m\u001b[1;31m:\u001b[0m invalid syntax\n"
     ]
    }
   ],
   "source": [
    "d=dict(['A': 100],['B':200])"
   ]
  },
  {
   "cell_type": "code",
   "execution_count": 20,
   "id": "7e7ac187",
   "metadata": {},
   "outputs": [
    {
     "name": "stdout",
     "output_type": "stream",
     "text": [
      "('shifa', 100)\n",
      "('palak', 800)\n",
      "('shuja', 300)\n"
     ]
    }
   ],
   "source": [
    "d={'shifa': 100, 'palak': 800, 'shuja': 300}\n",
    "items=list(d.items())\n",
    "items.sort\n",
    "for i in items:\n",
    "    print(i)"
   ]
  },
  {
   "cell_type": "code",
   "execution_count": 22,
   "id": "2606e2ed",
   "metadata": {},
   "outputs": [
    {
     "data": {
      "text/plain": [
       "{'shifa': 100, 'palak': 800, 'shuja': 300, 'cocunut': {150, 200, 250, 300}}"
      ]
     },
     "execution_count": 22,
     "metadata": {},
     "output_type": "execute_result"
    }
   ],
   "source": [
    "d[\"cocunut\"]={150,200,250,300}\n",
    "d"
   ]
  },
  {
   "cell_type": "code",
   "execution_count": 23,
   "id": "dc1fd52c",
   "metadata": {},
   "outputs": [
    {
     "name": "stdout",
     "output_type": "stream",
     "text": [
      "(100, 'shifa')\n",
      "(800, 'palak')\n",
      "(300, 'shuja')\n"
     ]
    }
   ],
   "source": [
    "d={'shifa': 100, 'palak': 800, 'shuja': 300}\n",
    "items=list(d.items())\n",
    "items=[(i[1],i[0]) for i in items]\n",
    "items.sort\n",
    "for i in items:\n",
    "    print(i)"
   ]
  },
  {
   "cell_type": "code",
   "execution_count": 24,
   "id": "5d33b3a4",
   "metadata": {},
   "outputs": [
    {
     "data": {
      "text/plain": [
       "dict_keys(['shifa', 'palak', 'shuja'])"
      ]
     },
     "execution_count": 24,
     "metadata": {},
     "output_type": "execute_result"
    }
   ],
   "source": [
    "d.keys()"
   ]
  },
  {
   "cell_type": "code",
   "execution_count": 25,
   "id": "950f05f2",
   "metadata": {},
   "outputs": [
    {
     "data": {
      "text/plain": [
       "dict_values([100, 800, 300])"
      ]
     },
     "execution_count": 25,
     "metadata": {},
     "output_type": "execute_result"
    }
   ],
   "source": [
    "d.values()"
   ]
  },
  {
   "cell_type": "markdown",
   "id": "6d23b4ad",
   "metadata": {},
   "source": [
    "##### copy() - returns shallow copy of the dictionary\n",
    "#### items()- returns a new object of the dictionary items in (key,value) format\n",
    "#### update[other]- updates the dictionary with the key/value pairs from other,overwriting existing keys.\n",
    "#### len()- returns the length[number of items] in the dictionary\n",
    "#### cmp()-compares items of 2 dictionaries\n",
    "#### sort()- return a new sorted list of keys in the dictionary"
   ]
  },
  {
   "cell_type": "code",
   "execution_count": 27,
   "id": "dfcc3587",
   "metadata": {},
   "outputs": [],
   "source": [
    "sq={0:0,1:1,3:9,5:25,7:49,9:81}"
   ]
  },
  {
   "cell_type": "code",
   "execution_count": 28,
   "id": "6fb19df1",
   "metadata": {},
   "outputs": [
    {
     "name": "stdout",
     "output_type": "stream",
     "text": [
      "6\n"
     ]
    }
   ],
   "source": [
    "print(len(sq))"
   ]
  },
  {
   "cell_type": "code",
   "execution_count": 34,
   "id": "75b42845",
   "metadata": {},
   "outputs": [
    {
     "data": {
      "text/plain": [
       "{'one': 1, 'two': 2, 'three': 3}"
      ]
     },
     "execution_count": 34,
     "metadata": {},
     "output_type": "execute_result"
    }
   ],
   "source": [
    "x={'one': 0, 'two': 2}\n",
    "y={'one': 1, 'three': 3}\n",
    "x.update(y)\n",
    "x"
   ]
  },
  {
   "cell_type": "code",
   "execution_count": 35,
   "id": "bd591594",
   "metadata": {},
   "outputs": [
    {
     "name": "stdout",
     "output_type": "stream",
     "text": [
      "dict_items([('one', 0), ('two', 2)])\n"
     ]
    }
   ],
   "source": [
    "x={'one': 0, 'two': 2}\n",
    "print(x.items())"
   ]
  },
  {
   "cell_type": "code",
   "execution_count": 41,
   "id": "09bbb3e1",
   "metadata": {},
   "outputs": [
    {
     "name": "stdout",
     "output_type": "stream",
     "text": [
      "new {}\n",
      "original {1: 'a', 2: 'b'}\n"
     ]
    }
   ],
   "source": [
    "original={1:'a', 2: 'b'}\n",
    "new=original.copy()\n",
    "\n",
    "new.clear()\n",
    "\n",
    "print(\"new\",  new)\n",
    "print(\"original\",  original)"
   ]
  },
  {
   "cell_type": "code",
   "execution_count": 43,
   "id": "396ea338",
   "metadata": {},
   "outputs": [
    {
     "name": "stdout",
     "output_type": "stream",
     "text": [
      "given dictionary {10: 'a', 20: [1, 2, 3], 30: 'c'}\n",
      "new copy {10: 'a', 20: [1, 2, 3], 30: 'c'}\n",
      "updated dictionary {10: 10, 20: [1, 2, '45'], 30: 'c'}\n"
     ]
    }
   ],
   "source": [
    "dict1={10: 'a', 20: [1,2,3], 30: 'c'}\n",
    "print(\"given dictionary\",  dict1)\n",
    "dict2=dict1.copy()\n",
    "print(\"new copy\",  dict2)\n",
    "dict2[10]=10\n",
    "dict2[20][2]='45'\n",
    "print(\"updated dictionary\",  dict2)"
   ]
  },
  {
   "cell_type": "markdown",
   "id": "0993a210",
   "metadata": {},
   "source": [
    "### using = operator to copy dictionaries"
   ]
  },
  {
   "cell_type": "code",
   "execution_count": 44,
   "id": "c2e83951",
   "metadata": {},
   "outputs": [
    {
     "name": "stdout",
     "output_type": "stream",
     "text": [
      "new {1: 'a', 2: 'b'}\n",
      "original {1: 'a', 2: 'b'}\n"
     ]
    }
   ],
   "source": [
    "original={1:'a', 2: 'b'}\n",
    "new=original\n",
    "print(\"new\",  new)\n",
    "print(\"original\",  original)"
   ]
  },
  {
   "cell_type": "markdown",
   "id": "3f8a8b28",
   "metadata": {},
   "source": [
    "### cmp is not supported in python "
   ]
  },
  {
   "cell_type": "code",
   "execution_count": 45,
   "id": "418b087c",
   "metadata": {},
   "outputs": [
    {
     "ename": "NameError",
     "evalue": "name 'cmp' is not defined",
     "output_type": "error",
     "traceback": [
      "\u001b[1;31m---------------------------------------------------------------------------\u001b[0m",
      "\u001b[1;31mNameError\u001b[0m                                 Traceback (most recent call last)",
      "\u001b[1;32m<ipython-input-45-8a65e29fea4d>\u001b[0m in \u001b[0;36m<module>\u001b[1;34m\u001b[0m\n\u001b[0;32m      1\u001b[0m \u001b[0mboys\u001b[0m\u001b[1;33m=\u001b[0m\u001b[1;33m{\u001b[0m\u001b[1;34m'tim'\u001b[0m\u001b[1;33m:\u001b[0m \u001b[1;36m18\u001b[0m\u001b[1;33m,\u001b[0m \u001b[1;34m'charlie'\u001b[0m\u001b[1;33m:\u001b[0m \u001b[1;36m12\u001b[0m\u001b[1;33m,\u001b[0m \u001b[1;34m'robert'\u001b[0m\u001b[1;33m:\u001b[0m \u001b[1;36m25\u001b[0m\u001b[1;33m}\u001b[0m\u001b[1;33m\u001b[0m\u001b[1;33m\u001b[0m\u001b[0m\n\u001b[0;32m      2\u001b[0m \u001b[0mgirls\u001b[0m\u001b[1;33m=\u001b[0m\u001b[1;33m{\u001b[0m\u001b[1;34m'shifa'\u001b[0m\u001b[1;33m:\u001b[0m\u001b[1;36m22\u001b[0m\u001b[1;33m}\u001b[0m\u001b[1;33m\u001b[0m\u001b[1;33m\u001b[0m\u001b[0m\n\u001b[1;32m----> 3\u001b[1;33m \u001b[0mprint\u001b[0m \u001b[1;33m(\u001b[0m\u001b[0mcmp\u001b[0m\u001b[1;33m(\u001b[0m\u001b[0mgirls\u001b[0m\u001b[1;33m,\u001b[0m\u001b[0mboys\u001b[0m\u001b[1;33m)\u001b[0m\u001b[1;33m)\u001b[0m\u001b[1;33m\u001b[0m\u001b[1;33m\u001b[0m\u001b[0m\n\u001b[0m",
      "\u001b[1;31mNameError\u001b[0m: name 'cmp' is not defined"
     ]
    }
   ],
   "source": [
    "boys={'tim': 18, 'charlie': 12, 'robert': 25}\n",
    "girls={'shifa':22}\n",
    "print (cmp(girls,boys))"
   ]
  },
  {
   "cell_type": "code",
   "execution_count": 1,
   "id": "dd60beec",
   "metadata": {},
   "outputs": [],
   "source": [
    "#import pandas\n",
    "import pandas as pd\n"
   ]
  },
  {
   "cell_type": "code",
   "execution_count": 8,
   "id": "d5af214d",
   "metadata": {},
   "outputs": [
    {
     "data": {
      "text/html": [
       "<div>\n",
       "<style scoped>\n",
       "    .dataframe tbody tr th:only-of-type {\n",
       "        vertical-align: middle;\n",
       "    }\n",
       "\n",
       "    .dataframe tbody tr th {\n",
       "        vertical-align: top;\n",
       "    }\n",
       "\n",
       "    .dataframe thead th {\n",
       "        text-align: right;\n",
       "    }\n",
       "</style>\n",
       "<table border=\"1\" class=\"dataframe\">\n",
       "  <thead>\n",
       "    <tr style=\"text-align: right;\">\n",
       "      <th></th>\n",
       "      <th>Age</th>\n",
       "      <th>Gender</th>\n",
       "      <th>Salary</th>\n",
       "    </tr>\n",
       "  </thead>\n",
       "  <tbody>\n",
       "    <tr>\n",
       "      <th>0</th>\n",
       "      <td>45</td>\n",
       "      <td>Male</td>\n",
       "      <td>40000</td>\n",
       "    </tr>\n",
       "    <tr>\n",
       "      <th>1</th>\n",
       "      <td>12</td>\n",
       "      <td>Male</td>\n",
       "      <td>0</td>\n",
       "    </tr>\n",
       "    <tr>\n",
       "      <th>2</th>\n",
       "      <td>54</td>\n",
       "      <td>Female</td>\n",
       "      <td>150000</td>\n",
       "    </tr>\n",
       "    <tr>\n",
       "      <th>3</th>\n",
       "      <td>26</td>\n",
       "      <td>Male</td>\n",
       "      <td>30000</td>\n",
       "    </tr>\n",
       "    <tr>\n",
       "      <th>4</th>\n",
       "      <td>64</td>\n",
       "      <td>Female</td>\n",
       "      <td>15000</td>\n",
       "    </tr>\n",
       "    <tr>\n",
       "      <th>5</th>\n",
       "      <td>21</td>\n",
       "      <td>Female</td>\n",
       "      <td>25600</td>\n",
       "    </tr>\n",
       "  </tbody>\n",
       "</table>\n",
       "</div>"
      ],
      "text/plain": [
       "   Age  Gender  Salary\n",
       "0   45    Male   40000\n",
       "1   12    Male       0\n",
       "2   54  Female  150000\n",
       "3   26    Male   30000\n",
       "4   64  Female   15000\n",
       "5   21  Female   25600"
      ]
     },
     "execution_count": 8,
     "metadata": {},
     "output_type": "execute_result"
    }
   ],
   "source": [
    "df1=pd.read_excel('employee_info.xlsx')\n",
    "df1"
   ]
  },
  {
   "cell_type": "code",
   "execution_count": 1,
   "id": "48c01efe",
   "metadata": {},
   "outputs": [
    {
     "data": {
      "text/plain": [
       "{'Shifa': ['Shifa', 'Ali', 29, [87, 76, 79]],\n",
       " 'Adrita': ['Adrita', 'Sikdar', 60, [98, 77, 63]],\n",
       " 'Antusa': ['Antusa', 'DasGupta', 20, [66, 91, 62]],\n",
       " 'Shuja': ['Shuja', 'Ali', 22, [79, 55, 100]],\n",
       " 'Akil': ['Akil', 'Ali', 12, [79, 30, 88]]}"
      ]
     },
     "execution_count": 1,
     "metadata": {},
     "output_type": "execute_result"
    }
   ],
   "source": [
    "data={\"Shifa\": [\"Shifa\",\"Ali\",29, [87,76,79]],\n",
    "     \"Adrita\" :[\"Adrita\", \"Sikdar\", 60, [98,77,63]],\n",
    "      \"Antusa\" :[\"Antusa\",\"DasGupta\", 20,[66,91,62]],\n",
    "      \"Shuja\":[\"Shuja\",\"Ali\",22,[79,55,100]],\n",
    "      \"Akil\" :[\"Akil\",\"Ali\", 12,[79,30,88]]}\n",
    "data"
   ]
  },
  {
   "cell_type": "code",
   "execution_count": 9,
   "id": "df7676d5",
   "metadata": {
    "scrolled": true
   },
   "outputs": [
    {
     "name": "stdout",
     "output_type": "stream",
     "text": [
      "Enter the nameShifa\n",
      "['Shifa', 'Ali', 29, [87, 76, 79]]\n"
     ]
    }
   ],
   "source": [
    "n=input(\"Enter the name\")\n",
    "for i in data.keys():\n",
    "    if i==n:\n",
    "        print(data[i])"
   ]
  },
  {
   "cell_type": "code",
   "execution_count": 10,
   "id": "ba96f9a2",
   "metadata": {},
   "outputs": [
    {
     "data": {
      "text/plain": [
       "('d', 9)"
      ]
     },
     "execution_count": 10,
     "metadata": {},
     "output_type": "execute_result"
    }
   ],
   "source": [
    "d={\"a\":10,\"b\":(6,9), \"c\": (\"d\",9)}\n",
    "d['c']"
   ]
  },
  {
   "cell_type": "code",
   "execution_count": 2,
   "id": "53416721",
   "metadata": {},
   "outputs": [
    {
     "name": "stdout",
     "output_type": "stream",
     "text": [
      "Range2\n",
      "Enter element78\n",
      "Enter element45\n",
      "[78, 45]\n"
     ]
    }
   ],
   "source": [
    "li=int(input(\"Range\"))\n",
    "l=[]\n",
    "for i in range(li):\n",
    "    element=int(input(\"Enter element\"))\n",
    "    l.append(element)\n",
    "print(l)"
   ]
  },
  {
   "cell_type": "code",
   "execution_count": 12,
   "id": "aa2e6563",
   "metadata": {},
   "outputs": [
    {
     "name": "stdout",
     "output_type": "stream",
     "text": [
      "Enter range4\n",
      "enter elementshifa\n",
      "enter elementfrdrg\n",
      "enter elementtgreg\n",
      "enter elementgergeg\n",
      "['shifa', 'frdrg', 'tgreg', 'gergeg']\n"
     ]
    }
   ],
   "source": [
    "li=int(input(\"Enter range\"))\n",
    "l=[]\n",
    "for i in range(li):\n",
    "    ele=input(\"enter element\")\n",
    "    l.append(ele)\n",
    "print(l)\n",
    "    \n",
    "    \n",
    "    \n",
    "    \n",
    "    \n"
   ]
  },
  {
   "cell_type": "code",
   "execution_count": 2,
   "id": "e340d97d",
   "metadata": {},
   "outputs": [
    {
     "name": "stdout",
     "output_type": "stream",
     "text": [
      "Enter range3\n",
      "enter element45\n",
      "enter element78\n",
      "enter element96\n",
      "[45, 78, 96]\n"
     ]
    }
   ],
   "source": [
    "li=int(input(\"Enter range\"))\n",
    "l=[]\n",
    "for i in range(li):\n",
    "    ele=int(input(\"enter element\"))\n",
    "    l.append(ele)\n",
    "print(l)\n",
    "    "
   ]
  },
  {
   "cell_type": "code",
   "execution_count": 3,
   "id": "bf122c66",
   "metadata": {},
   "outputs": [
    {
     "data": {
      "text/plain": [
       "[45, 78, 96, 1, 2]"
      ]
     },
     "execution_count": 3,
     "metadata": {},
     "output_type": "execute_result"
    }
   ],
   "source": [
    "l.extend([1,2])\n",
    "l"
   ]
  },
  {
   "cell_type": "code",
   "execution_count": 4,
   "id": "48756b14",
   "metadata": {},
   "outputs": [
    {
     "data": {
      "text/plain": [
       "96"
      ]
     },
     "execution_count": 4,
     "metadata": {},
     "output_type": "execute_result"
    }
   ],
   "source": [
    "l.pop(2)"
   ]
  },
  {
   "cell_type": "code",
   "execution_count": 5,
   "id": "7b0ec9e1",
   "metadata": {},
   "outputs": [
    {
     "data": {
      "text/plain": [
       "[45, 78, 1, 2]"
      ]
     },
     "execution_count": 5,
     "metadata": {},
     "output_type": "execute_result"
    }
   ],
   "source": [
    "l"
   ]
  },
  {
   "cell_type": "code",
   "execution_count": 6,
   "id": "54c9142f",
   "metadata": {},
   "outputs": [
    {
     "data": {
      "text/plain": [
       "[78, 1, 2]"
      ]
     },
     "execution_count": 6,
     "metadata": {},
     "output_type": "execute_result"
    }
   ],
   "source": [
    "l.remove(45)\n",
    "l"
   ]
  },
  {
   "cell_type": "code",
   "execution_count": 11,
   "id": "c7020a56",
   "metadata": {},
   "outputs": [
    {
     "data": {
      "text/plain": [
       "[78, 1, 2, 2, (2, 4), [2, 4]]"
      ]
     },
     "execution_count": 11,
     "metadata": {},
     "output_type": "execute_result"
    }
   ],
   "source": [
    "l.insert(3,2)\n",
    "l"
   ]
  },
  {
   "cell_type": "code",
   "execution_count": 13,
   "id": "5c17fa7e",
   "metadata": {},
   "outputs": [
    {
     "data": {
      "text/plain": [
       "[78, 1, 2, 2, (2, 4), [2, 4]]"
      ]
     },
     "execution_count": 13,
     "metadata": {},
     "output_type": "execute_result"
    }
   ],
   "source": [
    "import numpy as np\n",
    "np.matrix(l)\n",
    "l\n"
   ]
  },
  {
   "cell_type": "code",
   "execution_count": 17,
   "id": "d8396eab",
   "metadata": {},
   "outputs": [
    {
     "data": {
      "text/plain": [
       "[78, 1, 2, 2, [2, 4]]"
      ]
     },
     "execution_count": 17,
     "metadata": {},
     "output_type": "execute_result"
    }
   ],
   "source": [
    "l.pop(4)\n",
    "l"
   ]
  },
  {
   "cell_type": "code",
   "execution_count": 9,
   "id": "8cb283e5",
   "metadata": {},
   "outputs": [
    {
     "name": "stdout",
     "output_type": "stream",
     "text": [
      "Enter Upper Range3\n",
      "EnterLower Range5\n"
     ]
    },
    {
     "ename": "ValueError",
     "evalue": "3 is not in list",
     "output_type": "error",
     "traceback": [
      "\u001b[1;31m---------------------------------------------------------------------------\u001b[0m",
      "\u001b[1;31mValueError\u001b[0m                                Traceback (most recent call last)",
      "\u001b[1;32m~\\AppData\\Local\\Temp/ipykernel_1732/291080968.py\u001b[0m in \u001b[0;36m<module>\u001b[1;34m\u001b[0m\n\u001b[0;32m      3\u001b[0m \u001b[0mj\u001b[0m\u001b[1;33m=\u001b[0m\u001b[0mint\u001b[0m\u001b[1;33m(\u001b[0m\u001b[0minput\u001b[0m\u001b[1;33m(\u001b[0m\u001b[1;34m\"EnterLower Range\"\u001b[0m\u001b[1;33m)\u001b[0m\u001b[1;33m)\u001b[0m\u001b[1;33m\u001b[0m\u001b[1;33m\u001b[0m\u001b[0m\n\u001b[0;32m      4\u001b[0m \u001b[1;32mfor\u001b[0m \u001b[0mi\u001b[0m \u001b[1;32min\u001b[0m \u001b[0mrange\u001b[0m\u001b[1;33m(\u001b[0m\u001b[0mk\u001b[0m\u001b[1;33m,\u001b[0m\u001b[0mj\u001b[0m\u001b[1;33m)\u001b[0m\u001b[1;33m:\u001b[0m\u001b[1;33m\u001b[0m\u001b[1;33m\u001b[0m\u001b[0m\n\u001b[1;32m----> 5\u001b[1;33m     \u001b[0mli\u001b[0m\u001b[1;33m.\u001b[0m\u001b[0mpop\u001b[0m\u001b[1;33m(\u001b[0m\u001b[0mli\u001b[0m\u001b[1;33m.\u001b[0m\u001b[0mindex\u001b[0m\u001b[1;33m(\u001b[0m\u001b[0mi\u001b[0m\u001b[1;33m)\u001b[0m\u001b[1;33m)\u001b[0m\u001b[1;33m\u001b[0m\u001b[1;33m\u001b[0m\u001b[0m\n\u001b[0m\u001b[0;32m      6\u001b[0m \u001b[0mli\u001b[0m\u001b[1;33m\u001b[0m\u001b[1;33m\u001b[0m\u001b[0m\n",
      "\u001b[1;31mValueError\u001b[0m: 3 is not in list"
     ]
    }
   ],
   "source": [
    "li=[100,45,67,22,67,23,51]\n",
    "k=int(input(\"Enter Upper Range\"))\n",
    "j=int(input(\"EnterLower Range\"))\n",
    "for i in range(k,j):\n",
    "    li.pop(li.index(i))\n",
    "li"
   ]
  },
  {
   "cell_type": "code",
   "execution_count": 6,
   "id": "44760b9a",
   "metadata": {},
   "outputs": [
    {
     "data": {
      "text/plain": [
       "{1: 'one', 2: {3: 'three'}}"
      ]
     },
     "execution_count": 6,
     "metadata": {},
     "output_type": "execute_result"
    }
   ],
   "source": [
    "dic={1:'one', 2:'two'}\n",
    "dic\n",
    "dic[2]={3:'three'}\n",
    "dic"
   ]
  },
  {
   "cell_type": "code",
   "execution_count": 7,
   "id": "11d1bc19",
   "metadata": {},
   "outputs": [
    {
     "name": "stdout",
     "output_type": "stream",
     "text": [
      "1\n",
      "2\n",
      "3\n",
      "4\n",
      "5\n",
      "6\n"
     ]
    }
   ],
   "source": [
    "tup=(1,2,3,4,5,6)\n",
    "for item in tup:\n",
    "    print(item)\n"
   ]
  },
  {
   "cell_type": "code",
   "execution_count": 11,
   "id": "a4438d5a",
   "metadata": {},
   "outputs": [
    {
     "name": "stdout",
     "output_type": "stream",
     "text": [
      "Enter any number45\n"
     ]
    },
    {
     "data": {
      "text/plain": [
       "[23, 67, 89, 61]"
      ]
     },
     "execution_count": 11,
     "metadata": {},
     "output_type": "execute_result"
    }
   ],
   "source": [
    "l=[23,45,67,89,61]\n",
    "no=int(input(\"Enter any number\"))\n",
    "l.remove(no)\n",
    "l\n",
    "l."
   ]
  },
  {
   "cell_type": "code",
   "execution_count": 13,
   "id": "d6b493f3",
   "metadata": {},
   "outputs": [
    {
     "name": "stdout",
     "output_type": "stream",
     "text": [
      "Enter the range of the list4\n",
      "Enter the range of the list3\n",
      "Enter the range of the list5\n",
      "Enter the range of the list2\n",
      "Enter the range of the list1\n"
     ]
    },
    {
     "data": {
      "text/plain": [
       "[3, 5, 2, 1]"
      ]
     },
     "execution_count": 13,
     "metadata": {},
     "output_type": "execute_result"
    }
   ],
   "source": [
    "len=int(input(\"Enter the range of the list\"))\n",
    "l=[]\n",
    "for i in range(len):\n",
    "    ele=int(input(\"Enter the elements of the list\"))\n",
    "    l.append(ele)\n",
    "l"
   ]
  },
  {
   "cell_type": "markdown",
   "id": "2eb1ce72",
   "metadata": {},
   "source": [
    "## MULTILEVEL INHERITANCE"
   ]
  },
  {
   "cell_type": "code",
   "execution_count": 27,
   "id": "379c9186",
   "metadata": {},
   "outputs": [
    {
     "name": "stdout",
     "output_type": "stream",
     "text": [
      "Enter the name of the cityagra\n",
      "Enter the pincode of the city20200\n",
      "Enter the name of the bankhdfc\n",
      "Enter the IFSC Code of the bank5887325\n",
      "Enter the name of the employeeshifa\n",
      "Enter the age of the employee69\n",
      "The name of the city shifa\n",
      "The pincode of the city 20200\n",
      "The name of the bank shifa\n",
      "The IFSC Code of the Bank 5887325\n",
      "The name of the Employee shifa\n",
      "The age of the Employee 69\n"
     ]
    }
   ],
   "source": [
    "class city:\n",
    "    def __init_(self,name_of_city, pincode):\n",
    "        self.name=name\n",
    "        self.pincode=pincode\n",
    "    \n",
    "    def inputdetails(self):\n",
    "        self.name=input(\"Enter the name of the city\")\n",
    "        self.pincode=int(input(\"Enter the pincode of the city\"))\n",
    "        \n",
    "    def displaydetails(self):\n",
    "        print(\"The name of the city\" , self.name)\n",
    "        print(\"The pincode of the city\", self.pincode)\n",
    "     \n",
    "class bank(city):\n",
    "    \n",
    "    def inputdetails1(self):\n",
    "        self.name=input(\"Enter the name of the bank\")\n",
    "        self.ifsc=int(input(\"Enter the IFSC Code of the bank\"))\n",
    "        \n",
    "    def displaydetails1(self):\n",
    "        print(\"The name of the bank\" , self.name)\n",
    "        print(\"The IFSC Code of the Bank\", self.ifsc)  \n",
    "        \n",
    "class employee(bank):\n",
    "    \n",
    "    def inputdetails2(self):\n",
    "        self.name=input(\"Enter the name of the employee\")\n",
    "        self.age=int(input(\"Enter the age of the employee\"))\n",
    "        \n",
    "    def displaydetails2(self):\n",
    "        print(\"The name of the Employee\" , self.name)\n",
    "        print(\"The age of the Employee\", self.age)         \n",
    "c=employee()    \n",
    "c.inputdetails() \n",
    "c.inputdetails1()\n",
    "c.inputdetails2() \n",
    "c.displaydetails() \n",
    "c.displaydetails1()\n",
    "c.displaydetails2()"
   ]
  },
  {
   "cell_type": "code",
   "execution_count": 33,
   "id": "e803038b",
   "metadata": {},
   "outputs": [
    {
     "name": "stdout",
     "output_type": "stream",
     "text": [
      "Enter length of the list5\n",
      "Enter an element78\n",
      "Enter an element98\n",
      "Enter an element23\n",
      "Enter an element100\n",
      "Enter an element65\n"
     ]
    },
    {
     "data": {
      "text/plain": [
       "[78, 98, 787, 65]"
      ]
     },
     "execution_count": 33,
     "metadata": {},
     "output_type": "execute_result"
    }
   ],
   "source": [
    "len=int(input(\"Enter length of the list\"))\n",
    "l=[]\n",
    "for i in range(len):\n",
    "    ele=int(input(\"Enter an element\"))\n",
    "    l.append(ele)\n",
    "l\n",
    "sorted(l)\n",
    "l.pop(2)\n",
    "l\n",
    "l[2]=787\n",
    "l"
   ]
  },
  {
   "cell_type": "code",
   "execution_count": 41,
   "id": "033a881a",
   "metadata": {},
   "outputs": [
    {
     "name": "stdout",
     "output_type": "stream",
     "text": [
      "10.0\n"
     ]
    }
   ],
   "source": [
    "def percent(m1,m2,m3,m4):\n",
    "    per=(m1+m2+m3+m4)/4\n",
    "    print(per)\n",
    "percent(10,10,10,10)    "
   ]
  },
  {
   "cell_type": "code",
   "execution_count": null,
   "id": "9d4adaa9",
   "metadata": {},
   "outputs": [],
   "source": []
  }
 ],
 "metadata": {
  "kernelspec": {
   "display_name": "Python 3 (ipykernel)",
   "language": "python",
   "name": "python3"
  },
  "language_info": {
   "codemirror_mode": {
    "name": "ipython",
    "version": 3
   },
   "file_extension": ".py",
   "mimetype": "text/x-python",
   "name": "python",
   "nbconvert_exporter": "python",
   "pygments_lexer": "ipython3",
   "version": "3.9.7"
  }
 },
 "nbformat": 4,
 "nbformat_minor": 5
}
