{
 "cells": [
  {
   "cell_type": "markdown",
   "id": "d933b65b",
   "metadata": {},
   "source": [
    "## Transpose of a matrix"
   ]
  },
  {
   "cell_type": "markdown",
   "id": "7673ed31",
   "metadata": {},
   "source": [
    "### Transpose of a matrix can be found using transpose() function and .T operator."
   ]
  },
  {
   "cell_type": "code",
   "execution_count": 6,
   "id": "954a413d",
   "metadata": {},
   "outputs": [
    {
     "data": {
      "text/plain": [
       "matrix([[1, 3, 5],\n",
       "        [2, 4, 6],\n",
       "        [3, 5, 7]])"
      ]
     },
     "execution_count": 6,
     "metadata": {},
     "output_type": "execute_result"
    }
   ],
   "source": [
    "D.transpose()\n"
   ]
  },
  {
   "cell_type": "code",
   "execution_count": 8,
   "id": "a55ad8d1",
   "metadata": {},
   "outputs": [
    {
     "data": {
      "text/plain": [
       "matrix([[1, 3, 5],\n",
       "        [2, 4, 6],\n",
       "        [3, 5, 7]])"
      ]
     },
     "execution_count": 8,
     "metadata": {},
     "output_type": "execute_result"
    }
   ],
   "source": [
    "np.transpose(D)"
   ]
  },
  {
   "cell_type": "code",
   "execution_count": 9,
   "id": "e943cf6e",
   "metadata": {},
   "outputs": [
    {
     "data": {
      "text/plain": [
       "matrix([[1, 3, 5],\n",
       "        [2, 4, 6],\n",
       "        [3, 5, 7]])"
      ]
     },
     "execution_count": 9,
     "metadata": {},
     "output_type": "execute_result"
    }
   ],
   "source": [
    "D.T"
   ]
  },
  {
   "cell_type": "markdown",
   "id": "9073323d",
   "metadata": {},
   "source": [
    "## Upper and Lower Triangular Matrix"
   ]
  },
  {
   "cell_type": "code",
   "execution_count": 2,
   "id": "3dc9cb84",
   "metadata": {},
   "outputs": [
    {
     "name": "stdout",
     "output_type": "stream",
     "text": [
      "The matrix D = \n",
      " [[1 2 3]\n",
      " [3 4 5]\n",
      " [5 6 7]]\n"
     ]
    }
   ],
   "source": [
    "import numpy as np\n",
    "D = np.matrix(([1,2,3,],[3,4,5],[5,6,7])) # defining 3 matrices\n",
    "print(\"The matrix D = \\n\",D)"
   ]
  },
  {
   "cell_type": "code",
   "execution_count": 3,
   "id": "732649d9",
   "metadata": {},
   "outputs": [
    {
     "name": "stdout",
     "output_type": "stream",
     "text": [
      "[[1 2 3]\n",
      " [0 4 5]\n",
      " [0 0 7]]\n"
     ]
    }
   ],
   "source": [
    "UT = np.triu(D) ##  triu() is the function that is used to get the upper triangular matrix of a matrix \n",
    "print(UT)"
   ]
  },
  {
   "cell_type": "code",
   "execution_count": 5,
   "id": "90737065",
   "metadata": {},
   "outputs": [
    {
     "name": "stdout",
     "output_type": "stream",
     "text": [
      "[[1 0 0]\n",
      " [3 4 0]\n",
      " [5 6 7]]\n"
     ]
    }
   ],
   "source": [
    "LT = np.tril(D) ## tril() is the function that is used to get the lower triangular matrix of a matrix\n",
    "print(LT)"
   ]
  },
  {
   "cell_type": "markdown",
   "id": "43380c84",
   "metadata": {},
   "source": [
    "### numpy.linalg\n",
    "\n",
    "NumPy package contains numpy.linalg module that provides various functions required for linear algebra.\n",
    "One can find:\n",
    "\n",
    "$\\bullet$ rank, determinant, trace, inverse etc, of an array <br>\n",
    "$\\bullet$ eigen values of matrices <br>\n",
    "$\\bullet$ matrix and vector products ( dot,inner,outter,etc. product), matrix exponentiation,<br>\n",
    "$\\bullet$ solve linear equations and much more!"
   ]
  },
  {
   "cell_type": "markdown",
   "id": "23c8beac",
   "metadata": {},
   "source": [
    "## Determinant of a Matrix"
   ]
  },
  {
   "cell_type": "code",
   "execution_count": 7,
   "id": "96ff92af",
   "metadata": {},
   "outputs": [
    {
     "name": "stdout",
     "output_type": "stream",
     "text": [
      "The matrix D =  [[1 2 3]\n",
      " [3 4 5]\n",
      " [1 2 4]]\n"
     ]
    }
   ],
   "source": [
    "import numpy as np\n",
    "D = np.matrix(([1,2,3],[3,4,5],[1,2,4]))\n",
    "print(\"The matrix D = \",D)"
   ]
  },
  {
   "cell_type": "code",
   "execution_count": 8,
   "id": "fd88d1f4",
   "metadata": {},
   "outputs": [
    {
     "name": "stdout",
     "output_type": "stream",
     "text": [
      "The determinant of the matrix D is : -2.0000000000000004\n"
     ]
    }
   ],
   "source": [
    "determinant = np.linalg.det(D)\n",
    "print(\"The determinant of the matrix D is :\",determinant)  "
   ]
  },
  {
   "cell_type": "markdown",
   "id": "11303542",
   "metadata": {},
   "source": [
    "# Inverse of a matrix"
   ]
  },
  {
   "cell_type": "code",
   "execution_count": 11,
   "id": "3674fc3a",
   "metadata": {},
   "outputs": [
    {
     "name": "stdout",
     "output_type": "stream",
     "text": [
      "The matrix X =\n",
      " [[1 2]\n",
      " [4 9]]\n",
      "[[ 9. -2.]\n",
      " [-4.  1.]]\n"
     ]
    }
   ],
   "source": [
    "X = np.matrix([[1,2],[4,9]])\n",
    "print(\"The matrix X =\\n\",X)\n",
    "Y = X**-1\n",
    "print(Y)"
   ]
  },
  {
   "cell_type": "code",
   "execution_count": 12,
   "id": "8c4a27de",
   "metadata": {},
   "outputs": [
    {
     "data": {
      "text/plain": [
       "matrix([[-3. ,  1. ,  1. ],\n",
       "        [ 3.5, -0.5, -2. ],\n",
       "        [-1. ,  0. ,  1. ]])"
      ]
     },
     "execution_count": 12,
     "metadata": {},
     "output_type": "execute_result"
    }
   ],
   "source": [
    "D**-1"
   ]
  },
  {
   "cell_type": "code",
   "execution_count": 16,
   "id": "4e132b28",
   "metadata": {},
   "outputs": [
    {
     "name": "stdout",
     "output_type": "stream",
     "text": [
      "The inverse of the matrix X is: \n",
      " [[ 9. -2.]\n",
      " [-4.  1.]]\n"
     ]
    }
   ],
   "source": [
    "I = np.linalg.inv(X)\n",
    "print(\"The inverse of the matrix X is: \\n\",I)"
   ]
  },
  {
   "cell_type": "code",
   "execution_count": 14,
   "id": "7e8fffa9",
   "metadata": {},
   "outputs": [
    {
     "name": "stdout",
     "output_type": "stream",
     "text": [
      "The inverse of the matrix D is:\n",
      " [[-3.   1.   1. ]\n",
      " [ 3.5 -0.5 -2. ]\n",
      " [-1.   0.   1. ]]\n"
     ]
    }
   ],
   "source": [
    "Inverse = np.linalg.inv(D)\n",
    "print(\"The inverse of the matrix D is:\\n\",Inverse)"
   ]
  },
  {
   "cell_type": "markdown",
   "id": "8d163a1d",
   "metadata": {},
   "source": [
    "# Eigen Values"
   ]
  },
  {
   "cell_type": "code",
   "execution_count": 20,
   "id": "99d3815a",
   "metadata": {},
   "outputs": [
    {
     "name": "stdout",
     "output_type": "stream",
     "text": [
      "The matrix D =\n",
      " [[1 2 3]\n",
      " [3 4 5]\n",
      " [5 6 7]]\n",
      "The eigen values of the matrix D is:  [ 1.29282032e+01 -9.28203230e-01  9.10085294e-16]\n"
     ]
    }
   ],
   "source": [
    "import numpy as np\n",
    "D = np.matrix([[1,2,3],[3,4,5],[5,6,7]])\n",
    "print(\"The matrix D =\\n\",D)\n",
    "eigen_values = np.linalg.eigvals(D)\n",
    "print(\"The eigen values of the matrix D is: \",eigen_values)\n"
   ]
  },
  {
   "cell_type": "code",
   "execution_count": 22,
   "id": "dda92fa9",
   "metadata": {},
   "outputs": [
    {
     "name": "stdout",
     "output_type": "stream",
     "text": [
      "The matrix D = \n",
      " [[3 0 0]\n",
      " [0 4 0]\n",
      " [0 0 7]]\n",
      "The eigen values of the matrix D is:  [3. 4. 7.]\n"
     ]
    }
   ],
   "source": [
    "D = np.matrix([[3,0,0],[0,4,0],[0,0,7]])\n",
    "print(\"The matrix D = \\n\",D)\n",
    "eigen_values = np.linalg.eigvals(D)\n",
    "print(\"The eigen values of the matrix D is: \",eigen_values)"
   ]
  },
  {
   "cell_type": "markdown",
   "id": "8e806e94",
   "metadata": {},
   "source": [
    "HW<br>\n",
    "Q) Find the transpose, determinant, eigenvalues of: <br>\n",
    "    1) Identity matrix <br>\n",
    "    2) Any diagonal matrix <br>\n",
    "    3) Any Upper Triangular matrix <br>\n",
    "    4) Any Singular matrix <br>\n",
    "    Analyze their properties."
   ]
  },
  {
   "cell_type": "code",
   "execution_count": 3,
   "id": "edf849f0",
   "metadata": {},
   "outputs": [
    {
     "name": "stdout",
     "output_type": "stream",
     "text": [
      "Identity Matrix \n",
      " [[1 0 0]\n",
      " [0 1 0]\n",
      " [0 0 1]]\n",
      "The eigen values of the identity matrix are:  [1. 1. 1.]\n",
      "The determinant of the identity matrix D is : 1.0\n"
     ]
    },
    {
     "data": {
      "text/plain": [
       "matrix([[1, 0, 0],\n",
       "        [0, 1, 0],\n",
       "        [0, 0, 1]])"
      ]
     },
     "execution_count": 3,
     "metadata": {},
     "output_type": "execute_result"
    }
   ],
   "source": [
    "import numpy as np\n",
    "identity_matrix=np.matrix([[1,0,0],[0,1,0],[0,0,1]])\n",
    "print(\"Identity Matrix \\n\", identity_matrix)\n",
    "eigen_values = np.linalg.eigvals(identity_matrix)\n",
    "print(\"The eigen values of the identity matrix are: \",eigen_values)\n",
    "determinant = np.linalg.det(identity_matrix)\n",
    "print(\"The determinant of the identity matrix D is :\",determinant)\n",
    "identity_matrix.transpose()"
   ]
  },
  {
   "cell_type": "code",
   "execution_count": 4,
   "id": "ca76fe06",
   "metadata": {},
   "outputs": [
    {
     "name": "stdout",
     "output_type": "stream",
     "text": [
      "Diagonal Matrix \n",
      " [[2 0 0]\n",
      " [0 3 0]\n",
      " [0 0 4]]\n",
      "The eigen values of the identity matrix are:  [2. 3. 4.]\n",
      "The determinant of the diagonal matrix is : 23.999999999999993\n"
     ]
    },
    {
     "data": {
      "text/plain": [
       "matrix([[2, 0, 0],\n",
       "        [0, 3, 0],\n",
       "        [0, 0, 4]])"
      ]
     },
     "execution_count": 4,
     "metadata": {},
     "output_type": "execute_result"
    }
   ],
   "source": [
    "diagonal_matrix=np.matrix([[2,0,0],[0,3,0],[0,0,4]])\n",
    "print(\"Diagonal Matrix \\n\", diagonal_matrix)\n",
    "eigen_values = np.linalg.eigvals(diagonal_matrix)\n",
    "print(\"The eigen values of the identity matrix are: \",eigen_values)\n",
    "determinant = np.linalg.det(diagonal_matrix)\n",
    "print(\"The determinant of the diagonal matrix is :\",determinant)\n",
    "diagonal_matrix.transpose()"
   ]
  },
  {
   "cell_type": "code",
   "execution_count": 16,
   "id": "c1dbc82b",
   "metadata": {},
   "outputs": [
    {
     "name": "stdout",
     "output_type": "stream",
     "text": [
      "The matrix = \n",
      " [[1 2 3]\n",
      " [3 4 5]\n",
      " [5 6 7]]\n",
      "Upper triangle =\n",
      "[[1 2 3]\n",
      " [0 4 5]\n",
      " [0 0 7]]\n",
      "The eigen values of the identity matrix are:  [1. 4. 7.]\n",
      "The determinant of the diagonal matrix is : 27.999999999999996\n"
     ]
    },
    {
     "data": {
      "text/plain": [
       "array([[1, 0, 0],\n",
       "       [2, 4, 0],\n",
       "       [3, 5, 7]])"
      ]
     },
     "execution_count": 16,
     "metadata": {},
     "output_type": "execute_result"
    }
   ],
   "source": [
    "D = np.matrix(([1,2,3,],[3,4,5],[5,6,7])) # defining 3 matrices\n",
    "print(\"The matrix = \\n\",D)\n",
    "print(\"Upper triangle =\")\n",
    "UT = np.triu(D) ##  triu() is the function that is used to get the upper triangular matrix of a matrix \n",
    "print(UT)\n",
    "eigen_values = np.linalg.eigvals(UT)\n",
    "print(\"The eigen values of the identity matrix are: \",eigen_values)\n",
    "determinant = np.linalg.det(UT)\n",
    "print(\"The determinant of the diagonal matrix is :\",determinant)\n",
    "UT.transpose()"
   ]
  },
  {
   "cell_type": "code",
   "execution_count": 7,
   "id": "93d3a07c",
   "metadata": {},
   "outputs": [
    {
     "name": "stdout",
     "output_type": "stream",
     "text": [
      "The determinant of the Singular matrix is : 0.0\n",
      "The eigen values of the Singular matrix are:  [2.50000000e+00+5.97913037j 2.50000000e+00-5.97913037j\n",
      " 6.82496752e-17+0.j        ]\n"
     ]
    },
    {
     "data": {
      "text/plain": [
       "matrix([[ 3, -4, -4],\n",
       "        [ 8,  1,  1],\n",
       "        [ 1,  1,  1]])"
      ]
     },
     "execution_count": 7,
     "metadata": {},
     "output_type": "execute_result"
    }
   ],
   "source": [
    "D = np.matrix(([3,8,1],[-4,1,1],[-4,1,1]))\n",
    "determinant = np.linalg.det(D)\n",
    "print(\"The determinant of the Singular matrix is :\",determinant)\n",
    "eigen_values = np.linalg.eigvals(D)\n",
    "print(\"The eigen values of the Singular matrix are: \",eigen_values)\n",
    "D.transpose()"
   ]
  }
 ],
 "metadata": {
  "kernelspec": {
   "display_name": "Python 3 (ipykernel)",
   "language": "python",
   "name": "python3"
  },
  "language_info": {
   "codemirror_mode": {
    "name": "ipython",
    "version": 3
   },
   "file_extension": ".py",
   "mimetype": "text/x-python",
   "name": "python",
   "nbconvert_exporter": "python",
   "pygments_lexer": "ipython3",
   "version": "3.9.7"
  }
 },
 "nbformat": 4,
 "nbformat_minor": 5
}
