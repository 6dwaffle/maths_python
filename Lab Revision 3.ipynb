{
 "cells": [
  {
   "cell_type": "code",
   "execution_count": 8,
   "id": "c797c74e",
   "metadata": {},
   "outputs": [
    {
     "name": "stdout",
     "output_type": "stream",
     "text": [
      "117\n",
      "135\n",
      "144\n",
      "180\n",
      "189\n"
     ]
    }
   ],
   "source": [
    "#Python Program to dispaly all integers within the range 100-200 whose sum of digits is an even number\n",
    "\n",
    "for i in range(100,200):\n",
    "    n=i\n",
    "    s=0\n",
    "    while(n!=0):\n",
    "        d=n%10\n",
    "        s=s+d\n",
    "        n=n/10\n",
    "    if(s%2==0):\n",
    "        print(i)\n",
    "    \n"
   ]
  },
  {
   "cell_type": "markdown",
   "id": "09a5f2a9",
   "metadata": {},
   "source": [
    "#### Write a program to display all elemnts at odd position in a list"
   ]
  },
  {
   "cell_type": "code",
   "execution_count": 17,
   "id": "706e34f0",
   "metadata": {},
   "outputs": [
    {
     "name": "stdout",
     "output_type": "stream",
     "text": [
      "20 40 60 80 100 "
     ]
    }
   ],
   "source": [
    "my_list=[10,20,30,40,50,60,70,80,90,100]\n",
    "for i in my_list[1::2]:\n",
    "    print(i,end=\" \")"
   ]
  },
  {
   "cell_type": "markdown",
   "id": "d7fa025b",
   "metadata": {},
   "source": [
    "#### WAP to print the following pattern\n",
    "### #\n",
    "### ##\n",
    "### ###\n",
    "### ####\n",
    "### #####\n",
    "### ####\n",
    "### ###\n",
    "### ##\n",
    "### #\n",
    "\n",
    " "
   ]
  },
  {
   "cell_type": "code",
   "execution_count": 2,
   "id": "e853399f",
   "metadata": {},
   "outputs": [
    {
     "name": "stdout",
     "output_type": "stream",
     "text": [
      "#\n",
      "##\n",
      "###\n",
      "####\n",
      "#####\n",
      "####\n",
      "###\n",
      "##\n",
      "#\n"
     ]
    }
   ],
   "source": [
    "for i in range(-4, 5):\n",
    "    print(\"#\"*(5-abs(i)))\n",
    "      \n"
   ]
  },
  {
   "cell_type": "markdown",
   "id": "2a96869c",
   "metadata": {},
   "source": [
    "#### Write a program to calculate the sum of series 2+22+222+2222+22222+... upto n terms "
   ]
  },
  {
   "cell_type": "code",
   "execution_count": 3,
   "id": "20171df6",
   "metadata": {},
   "outputs": [
    {
     "name": "stdout",
     "output_type": "stream",
     "text": [
      "2+22+222+2222+22222+\n",
      " Sum of above series is: 24690\n"
     ]
    }
   ],
   "source": [
    "n=5\n",
    "start=2\n",
    "sum_seq=0\n",
    "# run loop n times\n",
    "for i in range(0,n):\n",
    "    print(start,end=\"+\")\n",
    "    sum_seq +=start\n",
    "    #calculate the next term\n",
    "    start=start*10+2\n",
    "print(\"\\n Sum of above series is:\" , sum_seq)"
   ]
  },
  {
   "cell_type": "markdown",
   "id": "85832bce",
   "metadata": {},
   "source": [
    "#### Get total profit of all months and show line plot with the following prioperties:\n",
    "#### Line Styke dotted and Line-color should be red\n",
    "#### Show legend at the lower right location\n",
    "#### X Label name= Month number\n",
    "#### Y Label name= Sold units number\n",
    "#### Add a circle marker\n",
    "#### Line marker color as red\n",
    "#### Line width should be 3"
   ]
  },
  {
   "cell_type": "code",
   "execution_count": 9,
   "id": "a18c4fd5",
   "metadata": {},
   "outputs": [
    {
     "data": {
      "image/png": "[encoded data removed]",
      "text/plain": [
       "<Figure size 432x288 with 1 Axes>"
      ]
     },
     "metadata": {
      "needs_background": "light"
     },
     "output_type": "display_data"
    }
   ],
   "source": [
    "import matplotlib.pyplot as plt\n",
    "profitlist=[405600,206020,940002,506100,900000]\n",
    "monthlist=['Jan', 'Feb','Mar','Apr','May']\n",
    "\n",
    "plt.plot(monthlist,profitlist,label='Profit data of last year', color='r',linewidth=3)\n",
    "plt.xlabel('Month Number')\n",
    "plt.ylabel('Profit in dollar')\n",
    "plt.legend(loc='lower right')\n",
    "plt.title('Company Sales Data of Last year')\n",
    "plt.xticks(monthlist)\n",
    "plt.yticks([100000,200000,300000,400000,500000])\n",
    "plt.show()"
   ]
  },
  {
   "cell_type": "code",
   "execution_count": null,
   "id": "86f71842",
   "metadata": {},
   "outputs": [],
   "source": []
  }
 ],
 "metadata": {
  "kernelspec": {
   "display_name": "Python 3 (ipykernel)",
   "language": "python",
   "name": "python3"
  },
  "language_info": {
   "codemirror_mode": {
    "name": "ipython",
    "version": 3
   },
   "file_extension": ".py",
   "mimetype": "text/x-python",
   "name": "python",
   "nbconvert_exporter": "python",
   "pygments_lexer": "ipython3",
   "version": "3.9.7"
  }
 },
 "nbformat": 4,
 "nbformat_minor": 5
}
