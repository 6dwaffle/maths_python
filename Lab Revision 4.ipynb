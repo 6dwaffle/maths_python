{
 "cells": [
  {
   "cell_type": "markdown",
   "id": "42516b53",
   "metadata": {},
   "source": [
    "\n",
    "\n",
    "#### Write a python program which asks the user to input the basic salary of an employee and calculate the gross salary using the following data:\n",
    " #### Gross Salary = Basic Salary + HRA + DA + PF\n",
    " #### Basic Salary HRA DA   PF\n",
    " #### <=10000         20% 40%  5\n",
    " #### <=20000         25% 50%  5\n",
    " #### >10000           30% 55%  6\n",
    " "
   ]
  },
  {
   "cell_type": "code",
   "execution_count": 2,
   "id": "be4bff28",
   "metadata": {},
   "outputs": [
    {
     "name": "stdout",
     "output_type": "stream",
     "text": [
      "SALARY PROGRAM\n",
      "Enter name of employee:shifa\n",
      "Enter Basic Salary :1234444\n",
      " GROSS PAYMENT :  2380008.032\n"
     ]
    }
   ],
   "source": [
    "print(\"SALARY PROGRAM\")\n",
    "name= str(input(\"Enter name of employee:\"))\n",
    "basic=float(input(\"Enter Basic Salary :\"))\n",
    "if basic<=10000:\n",
    "    da=float(basic*0.40)\n",
    "    hra=float(basic*0.20)\n",
    "    pf=float((basic+da)*0.05)\n",
    "elif basic<=20000:\n",
    "    da=float(basic*0.25)\n",
    "    hra=float(basic*0.50)\n",
    "    pf=float((basic+da)*0.05) \n",
    "else:\n",
    "    da=float(basic*0.30)\n",
    "    hra=float(basic*0.55)\n",
    "    pf=float((basic+da)*0.06)\n",
    "grosspay=float(basic+da+hra+pf)\n",
    "\n",
    "\n",
    "print(\" GROSS PAYMENT : \",grosspay)\n"
   ]
  },
  {
   "cell_type": "markdown",
   "id": "f5451dbe",
   "metadata": {},
   "source": [
    "\n",
    "\n",
    "####  PRINT  \n",
    "####                1 1 1 1 1 \n",
    "####                2 2 2 2 \n",
    "####                  3 3 3 \n",
    "####                  4 4\n",
    "####                   5"
   ]
  },
  {
   "cell_type": "code",
   "execution_count": 6,
   "id": "ce8b6deb",
   "metadata": {},
   "outputs": [
    {
     "name": "stdout",
     "output_type": "stream",
     "text": [
      "1 1 1 1 1 \r\n",
      "2 2 2 2 \r\n",
      "3 3 3 \r\n",
      "4 4 \r\n",
      "5 \r\n"
     ]
    }
   ],
   "source": [
    "rows = 5\n",
    "b = 0\n",
    "# reverse for loop from 5 to 0\n",
    "for i in range(rows, 0, -1):\n",
    "    b += 1\n",
    "    for j in range(1, i + 1):\n",
    "        print(b, end=' ')\n",
    "    print('\\r')"
   ]
  },
  {
   "cell_type": "code",
   "execution_count": 6,
   "id": "d6f7f71f",
   "metadata": {},
   "outputs": [
    {
     "name": "stdout",
     "output_type": "stream",
     "text": [
      "Enter value for x:7\n",
      "Enter value for y:9\n",
      "The answer for x=7.0, y=9.0 is 793253.61 \n"
     ]
    }
   ],
   "source": [
    "from numpy import *\n",
    "from math import *\n",
    "x=float(input('Enter value for x:'))\n",
    "y=float(input('Enter value for y:'))\n",
    "z=(((x**(y-1)+ (y**(x-1)))/((x*y)**(1/2))) + log(x+y+1)**(1/2))\n",
    "print('The answer for x={1}, y={2} is {0:0.2f} ' .format(z,x,y))\n"
   ]
  },
  {
   "cell_type": "markdown",
   "id": "82d0fbed",
   "metadata": {},
   "source": [
    "####  Write a program to calculate area of shapes. The program should be capable of calculating the area of a square, rectangle, triangle and a circle. The user should be presented with options to sleect the shape. Based on the option chosen by the user, the program should ask for the appropriate input and print the resulting area on the screen.\n"
   ]
  },
  {
   "cell_type": "code",
   "execution_count": 3,
   "id": "5b7d0589",
   "metadata": {},
   "outputs": [
    {
     "name": "stdout",
     "output_type": "stream",
     "text": [
      "Calculate Shape Area\n",
      "Enter the name of shape whose area you want to find: square\n",
      "Enter square's side length: 67\n",
      "The area of square is 4489.\n"
     ]
    }
   ],
   "source": [
    "# define a function for calculating\n",
    "# the area of a shapes\n",
    "def calculate_area(name):\\\n",
    "   \n",
    "  # converting all characters\n",
    "  # into lower cases\n",
    "  name = name.lower()\n",
    "\n",
    "  # check for the conditions\n",
    "  if name == \"rectangle\":\n",
    "    l = int(input(\"Enter rectangle's length: \"))\n",
    "    b = int(input(\"Enter rectangle's breadth: \"))\n",
    "     \n",
    "    # calculate area of rectangle\n",
    "    rect_area = l * b\n",
    "    print(f\"The area of rectangle is {rect_area}.\")\n",
    "   \n",
    "  elif name == \"square\":\n",
    "    s = int(input(\"Enter square's side length: \"))\n",
    "       \n",
    "    # calculate area of square\n",
    "    sqt_area = s * s\n",
    "    print(f\"The area of square is {sqt_area}.\")\n",
    " \n",
    "  elif name == \"triangle\":\n",
    "    h = int(input(\"Enter triangle's height length: \"))\n",
    "    b = int(input(\"Enter triangle's breadth length: \"))\n",
    "       \n",
    "    # calculate area of triangle\n",
    "    tri_area = 0.5 * b * h\n",
    "    print(f\"The area of triangle is {tri_area}.\")\n",
    " \n",
    "  elif name == \"circle\":\n",
    "    r = int(input(\"Enter circle's radius length: \"))\n",
    "    pi = 3.14\n",
    "         \n",
    "    # calculate area of circle\n",
    "    circ_area = pi * r * r\n",
    "    print(f\"The area of circle is {circ_area}.\")\n",
    "         \n",
    "  elif name == 'parallelogram':\n",
    "    b = int(input(\"Enter parallelogram's base length: \"))\n",
    "    h = int(input(\"Enter parallelogram's height length: \"))\n",
    "     \n",
    "    # calculate area of parallelogram\n",
    "    para_area = b * h\n",
    "    print(f\"The area of parallelogram is {para_area}.\")\n",
    "     \n",
    "  else:\n",
    "    print(\"Sorry! This shape is not available\")\n",
    " \n",
    "# driver code\n",
    "if __name__ == \"__main__\" :\n",
    "   \n",
    "  print(\"Calculate Shape Area\")\n",
    "  shape_name = input(\"Enter the name of shape whose area you want to find: \")\n",
    "   \n",
    "  # function calling\n",
    "  calculate_area(shape_name)"
   ]
  },
  {
   "cell_type": "markdown",
   "id": "d564b81b",
   "metadata": {},
   "source": [
    "#### Python program to print even length words in a string."
   ]
  },
  {
   "cell_type": "code",
   "execution_count": 3,
   "id": "5ab47c83",
   "metadata": {},
   "outputs": [
    {
     "name": "stdout",
     "output_type": "stream",
     "text": [
      "Enter the string: As a tree it grows lime\n",
      "As\n",
      "tree\n",
      "it\n",
      "lime\n"
     ]
    }
   ],
   "source": [
    "#input string\n",
    "n = input(\"Enter the string: \")\n",
    "#splitting the words in a given string\n",
    "s=n.split(\" \")\n",
    "for i in s:\n",
    "  #checking the length of words\n",
    "  if len(i)%2==0:\n",
    "    print(i)"
   ]
  },
  {
   "cell_type": "markdown",
   "id": "902bedc3",
   "metadata": {},
   "source": [
    "#### Python program to count number of vowels using sets in a string."
   ]
  },
  {
   "cell_type": "code",
   "execution_count": 7,
   "id": "1f642050",
   "metadata": {},
   "outputs": [
    {
     "name": "stdout",
     "output_type": "stream",
     "text": [
      "Enter the String: shifaali\n",
      "No. of vowels : 4\n"
     ]
    }
   ],
   "source": [
    "# Function to count vowel\n",
    "def vowel_count(str):\n",
    "      \n",
    "    # Initializing count variable to 0\n",
    "    count = 0\n",
    "      \n",
    "    # Creating a set of vowels\n",
    "    vowel = set(\"aeiouAEIOU\")\n",
    "      \n",
    "    # Loop to traverse the alphabet\n",
    "    # in the given string\n",
    "    for alphabet in str:\n",
    "      \n",
    "        # If alphabet is present\n",
    "        # in set vowel\n",
    "        if alphabet in vowel:\n",
    "            count = count + 1\n",
    "      \n",
    "    print(\"No. of vowels :\", count)\n",
    "      \n",
    "# Driver code \n",
    "str = input(\"Enter the String: \")\n",
    "  \n",
    "# Function Call\n",
    "vowel_count(str)"
   ]
  }
 ],
 "metadata": {
  "kernelspec": {
   "display_name": "Python 3 (ipykernel)",
   "language": "python",
   "name": "python3"
  },
  "language_info": {
   "codemirror_mode": {
    "name": "ipython",
    "version": 3
   },
   "file_extension": ".py",
   "mimetype": "text/x-python",
   "name": "python",
   "nbconvert_exporter": "python",
   "pygments_lexer": "ipython3",
   "version": "3.9.7"
  }
 },
 "nbformat": 4,
 "nbformat_minor": 5
}
