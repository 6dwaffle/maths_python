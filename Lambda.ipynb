{
 "cells": [
  {
   "cell_type": "code",
   "execution_count": 3,
   "id": "9d009a14",
   "metadata": {},
   "outputs": [
    {
     "name": "stdout",
     "output_type": "stream",
     "text": [
      "25\n"
     ]
    }
   ],
   "source": [
    "x=lambda a: a*a\n",
    "print(x(5))"
   ]
  },
  {
   "cell_type": "code",
   "execution_count": 5,
   "id": "32b7be92",
   "metadata": {},
   "outputs": [
    {
     "name": "stdout",
     "output_type": "stream",
     "text": [
      "13\n"
     ]
    }
   ],
   "source": [
    "o=lambda u: u+12\n",
    "print(o(1))"
   ]
  },
  {
   "cell_type": "code",
   "execution_count": 9,
   "id": "0ace4880",
   "metadata": {},
   "outputs": [
    {
     "name": "stdout",
     "output_type": "stream",
     "text": [
      "[9, 35]\n"
     ]
    },
    {
     "data": {
      "text/plain": [
       "list"
      ]
     },
     "execution_count": 9,
     "metadata": {},
     "output_type": "execute_result"
    }
   ],
   "source": [
    "l=[7,8,6,9,5,14,2,35]\n",
    "op_list=list(filter(lambda x: x%2==1 and x>7,l))\n",
    "print(op_list)\n",
    "type(op_list)"
   ]
  },
  {
   "cell_type": "code",
   "execution_count": 10,
   "id": "97db815c",
   "metadata": {},
   "outputs": [
    {
     "name": "stdout",
     "output_type": "stream",
     "text": [
      "[49, 64, 36, 81, 25, 196, 4, 1225]\n"
     ]
    }
   ],
   "source": [
    "op_list=list(map(lambda x: x**2, l))\n",
    "print(op_list)"
   ]
  },
  {
   "cell_type": "code",
   "execution_count": 17,
   "id": "aa2637e0",
   "metadata": {},
   "outputs": [
    {
     "name": "stdout",
     "output_type": "stream",
     "text": [
      "The candidates name is Lisa Mathew The Serial Number is 456789\n",
      "The candidates name is John Mathew The Serial Number is 897\n"
     ]
    }
   ],
   "source": [
    "def myfun2(fname,slno):\n",
    "    print(\"The candidates name is\", fname, \"Mathew\" , \"The Serial Number is\",slno )\n",
    "myfun2(\"Lisa\",456789)\n",
    "myfun2(\"John\", 897)"
   ]
  },
  {
   "cell_type": "code",
   "execution_count": null,
   "id": "8da7bbbc",
   "metadata": {},
   "outputs": [],
   "source": []
  }
 ],
 "metadata": {
  "kernelspec": {
   "display_name": "Python 3 (ipykernel)",
   "language": "python",
   "name": "python3"
  },
  "language_info": {
   "codemirror_mode": {
    "name": "ipython",
    "version": 3
   },
   "file_extension": ".py",
   "mimetype": "text/x-python",
   "name": "python",
   "nbconvert_exporter": "python",
   "pygments_lexer": "ipython3",
   "version": "3.9.7"
  }
 },
 "nbformat": 4,
 "nbformat_minor": 5
}
