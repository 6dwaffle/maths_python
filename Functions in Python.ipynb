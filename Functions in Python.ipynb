{
 "cells": [
  {
   "cell_type": "markdown",
   "id": "6ddd26de",
   "metadata": {},
   "source": [
    "### A function to display the Name and Role of an employee working in a bank  "
   ]
  },
  {
   "cell_type": "code",
   "execution_count": 36,
   "id": "73fc101b",
   "metadata": {
    "scrolled": true
   },
   "outputs": [
    {
     "name": "stdout",
     "output_type": "stream",
     "text": [
      "The Employee's name is Lisa and the Role is Accounting Clerk.\n",
      "The Employee's name is John and the Role is Loan Officer.\n",
      "The Employee's name is Lisa and the Role is Manager.\n",
      "The Employee's name is John and the Role is Customer Representative.\n"
     ]
    }
   ],
   "source": [
    "def emp(empname,role):\n",
    "    print(\"The Employee's name is\", empname , \"and the Role is\",role )\n",
    "# Now you can call the emp function\n",
    "emp(\"Lisa\",\"Accounting Clerk.\")\n",
    "emp(\"John\", \"Loan Officer.\")\n",
    "emp(\"Lisa\",\"Manager.\")\n",
    "emp(\"John\", \"Customer Representative.\")\n"
   ]
  },
  {
   "cell_type": "markdown",
   "id": "129767ec",
   "metadata": {},
   "source": [
    "### *args for variable number of arguments"
   ]
  },
  {
   "cell_type": "code",
   "execution_count": 37,
   "id": "80dbce5d",
   "metadata": {},
   "outputs": [
    {
     "name": "stdout",
     "output_type": "stream",
     "text": [
      "Enter the amount to deposit: 34000\n",
      "Enter the amount to withdraw: 500\n",
      "34000\n",
      "500\n"
     ]
    }
   ],
   "source": [
    "def bank(*argv):\n",
    "        for arg in argv:\n",
    "            print(arg)\n",
    " \n",
    "a=int(input(\"Enter the amount to deposit: \"))\n",
    "b=int(input(\"Enter the amount to withdraw: \"))\n",
    "bank(a, b)"
   ]
  },
  {
   "cell_type": "markdown",
   "id": "6688786d",
   "metadata": {},
   "source": [
    "### *kwargs for variable number of keyword arguments"
   ]
  },
  {
   "cell_type": "code",
   "execution_count": 38,
   "id": "3fae7273",
   "metadata": {},
   "outputs": [
    {
     "name": "stdout",
     "output_type": "stream",
     "text": [
      "Title_1 = WELCOME\n",
      "T2 = TO\n",
      "Ti_3 = HDFC\n",
      "TITL = BANK\n"
     ]
    }
   ],
   "source": [
    "def role(**kwargs):\n",
    "    for key, value in kwargs.items():\n",
    "        print(\"%s = %s\" % (key, value))\n",
    " \n",
    "\n",
    "role(Title_1='WELCOME', T2='TO', Ti_3='HDFC',TITL ='BANK')"
   ]
  },
  {
   "cell_type": "markdown",
   "id": "68f4abaf",
   "metadata": {},
   "source": [
    "### To demonstrate the concept of functions with Default Parameters"
   ]
  },
  {
   "cell_type": "code",
   "execution_count": 35,
   "id": "229290d3",
   "metadata": {},
   "outputs": [
    {
     "name": "stdout",
     "output_type": "stream",
     "text": [
      "Your Account is Created.\n",
      "Enter the amount to deposit:30000\n",
      "Your New Balance =30020\n",
      "Enter the amount to withdraw:10000\n",
      "Your Remaining Balance =20020\n",
      "Your Balance =20020\n"
     ]
    }
   ],
   "source": [
    "class Account:\n",
    "    def __init__(self):\n",
    "        self.balance=20\n",
    "        print('Your Account is Created.')\n",
    "    def deposit(self):\n",
    "        amount=int(input('Enter the amount to deposit:'))\n",
    "        self.balance=amount+self.balance\n",
    "        print('Your New Balance =%d' %self.balance)\n",
    "    def withdraw(self):\n",
    "        amount=int(input('Enter the amount to withdraw:'))\n",
    "        if(amount>self.balance):\n",
    "            print('Insufficient Balance')\n",
    "        else:\n",
    "            self.balance-=amount\n",
    "            print('Your Remaining Balance =%d' %self.balance)\n",
    "    def enquiry(self):\n",
    "            print('Your Balance =%d' %self.balance)\n",
    "account= Account()\n",
    "account.deposit()\n",
    "account.withdraw()\n",
    "account.enquiry()"
   ]
  },
  {
   "cell_type": "code",
   "execution_count": null,
   "id": "d3eeb64f",
   "metadata": {},
   "outputs": [],
   "source": []
  }
 ],
 "metadata": {
  "kernelspec": {
   "display_name": "Python 3 (ipykernel)",
   "language": "python",
   "name": "python3"
  },
  "language_info": {
   "codemirror_mode": {
    "name": "ipython",
    "version": 3
   },
   "file_extension": ".py",
   "mimetype": "text/x-python",
   "name": "python",
   "nbconvert_exporter": "python",
   "pygments_lexer": "ipython3",
   "version": "3.9.7"
  }
 },
 "nbformat": 4,
 "nbformat_minor": 5
}
