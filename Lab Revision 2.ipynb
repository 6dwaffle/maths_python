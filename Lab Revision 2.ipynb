{
 "cells": [
  {
   "cell_type": "code",
   "execution_count": 1,
   "id": "b9a3e809",
   "metadata": {},
   "outputs": [
    {
     "name": "stdout",
     "output_type": "stream",
     "text": [
      "Select operation.\n",
      "1.Add\n",
      "2.Subtract\n",
      "3.Multiply\n",
      "4.Divide\n",
      "Enter choice(1/2/3/4): 3\n",
      "Enter first number: 34\n",
      "Enter second number: 5\n",
      "34.0 * 5.0 = 170.0\n",
      "Let's do next calculation? (yes/no): no\n"
     ]
    }
   ],
   "source": [
    "#write a calculator program\n",
    "# Program make a simple calculator\n",
    "\n",
    "# This function adds two numbers\n",
    "def add(x, y):\n",
    "    return x + y\n",
    "\n",
    "# This function subtracts two numbers\n",
    "def subtract(x, y):\n",
    "    return x - y\n",
    "\n",
    "# This function multiplies two numbers\n",
    "def multiply(x, y):\n",
    "    return x * y\n",
    "\n",
    "# This function divides two numbers\n",
    "def divide(x, y):\n",
    "    return x / y\n",
    "\n",
    "\n",
    "print(\"Select operation.\")\n",
    "print(\"1.Add\")\n",
    "print(\"2.Subtract\")\n",
    "print(\"3.Multiply\")\n",
    "print(\"4.Divide\")\n",
    "\n",
    "while True:\n",
    "    # take input from the user\n",
    "    choice = input(\"Enter choice(1/2/3/4): \")\n",
    "\n",
    "    # check if choice is one of the four options\n",
    "    if choice in ('1', '2', '3', '4'):\n",
    "        num1 = float(input(\"Enter first number: \"))\n",
    "        num2 = float(input(\"Enter second number: \"))\n",
    "\n",
    "        if choice == '1':\n",
    "            print(num1, \"+\", num2, \"=\", add(num1, num2))\n",
    "\n",
    "        elif choice == '2':\n",
    "            print(num1, \"-\", num2, \"=\", subtract(num1, num2))\n",
    "\n",
    "        elif choice == '3':\n",
    "            print(num1, \"*\", num2, \"=\", multiply(num1, num2))\n",
    "\n",
    "        elif choice == '4':\n",
    "            print(num1, \"/\", num2, \"=\", divide(num1, num2))\n",
    "        \n",
    "        # check if user wants another calculation\n",
    "        # break the while loop if answer is no\n",
    "        next_calculation = input(\"Let's do next calculation? (yes/no): \")\n",
    "        if next_calculation == \"no\":\n",
    "          break\n",
    "    \n",
    "    else:\n",
    "        print(\"Invalid Input\")\n"
   ]
  },
  {
   "cell_type": "code",
   "execution_count": 2,
   "id": "f58bafa9",
   "metadata": {},
   "outputs": [
    {
     "name": "stdout",
     "output_type": "stream",
     "text": [
      "Insert a: 34\n",
      "Insert b: 56\n",
      "Insert c: 5\n",
      "The function has two distinct real roots: -109.51320485125709 and -1794.4867951487429\n"
     ]
    }
   ],
   "source": [
    "#Find roots of a quadratic equation and determine their nature\n",
    "import math\n",
    "a = float(input(\"Insert a: \"))\n",
    "b = float(input(\"Insert b: \"))\n",
    "c = float(input(\"Insert c: \"))\n",
    "\n",
    "discriminant = b**2 - 4 * a * c\n",
    "\n",
    "if discriminant >= 0:\n",
    "    x_1=(-b+math.sqrt(discriminant))/2*a\n",
    "    x_2=(-b-math.sqrt(discriminant))/2*a\n",
    "else:\n",
    "    x_1= complex((-b/(2*a)),math.sqrt(-discriminant)/(2*a))\n",
    "    x_2= complex((-b/(2*a)),-math.sqrt(-discriminant)/(2*a))\n",
    "\n",
    "if discriminant > 0:\n",
    "    print(\"The function has two distinct real roots: {} and {}\".format(x_1,x_2))\n",
    "elif discriminant == 0:\n",
    "    print(\"The function has one double root: \", x_1)\n",
    "else:\n",
    "    print(\"The function has two complex (conjugate) roots: {}  and {}\".format(x_1,x_2))"
   ]
  },
  {
   "cell_type": "code",
   "execution_count": 3,
   "id": "d8c5809d",
   "metadata": {},
   "outputs": [
    {
     "name": "stdout",
     "output_type": "stream",
     "text": [
      "Enter any number: 34\n",
      "The number is not a Perfect number\n"
     ]
    }
   ],
   "source": [
    "#Check if a number is perfect or not\n",
    "n = int(input(\"Enter any number: \"))\n",
    "sum1 = 0\n",
    "for i in range(1, n):\n",
    "    if(n % i == 0):\n",
    "        sum1 = sum1 + i\n",
    "if (sum1 == n):\n",
    "    print(\"The number is a Perfect number\")\n",
    "else:\n",
    "    print(\"The number is not a Perfect number\")"
   ]
  },
  {
   "cell_type": "code",
   "execution_count": 4,
   "id": "1c685f62",
   "metadata": {},
   "outputs": [
    {
     "name": "stdout",
     "output_type": "stream",
     "text": [
      "Enter starting range: 34\n",
      "Enter end range: 56\n",
      "36 49 "
     ]
    }
   ],
   "source": [
    "#Find the perfect square between two given numbers\n",
    " \n",
    "# Function to print all the perfect\n",
    "# squares from the given range\n",
    "def perfectSquares(l, r):\n",
    " \n",
    "    # For every element from the range\n",
    "    for i in range(l, r + 1):\n",
    " \n",
    "        # If current element is\n",
    "        # a perfect square\n",
    "        if (i**(.5) == int(i**(.5))):\n",
    "            print(i, end=\" \")\n",
    "l = int(input(\"Enter starting range: \"))\n",
    "r = int(input(\"Enter end range: \"))\n",
    " \n",
    "perfectSquares(l, r)\n",
    "        "
   ]
  },
  {
   "cell_type": "code",
   "execution_count": null,
   "id": "afc122a9",
   "metadata": {},
   "outputs": [],
   "source": []
  }
 ],
 "metadata": {
  "kernelspec": {
   "display_name": "Python 3 (ipykernel)",
   "language": "python",
   "name": "python3"
  },
  "language_info": {
   "codemirror_mode": {
    "name": "ipython",
    "version": 3
   },
   "file_extension": ".py",
   "mimetype": "text/x-python",
   "name": "python",
   "nbconvert_exporter": "python",
   "pygments_lexer": "ipython3",
   "version": "3.9.7"
  }
 },
 "nbformat": 4,
 "nbformat_minor": 5
}
