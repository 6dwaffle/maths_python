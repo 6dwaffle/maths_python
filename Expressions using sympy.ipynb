{
 "cells": [
  {
   "cell_type": "markdown",
   "id": "8ac49b34",
   "metadata": {},
   "source": [
    "#### Expand"
   ]
  },
  {
   "cell_type": "markdown",
   "id": "2211f729",
   "metadata": {},
   "source": [
    "#### 1"
   ]
  },
  {
   "cell_type": "code",
   "execution_count": 26,
   "id": "d6162fff",
   "metadata": {},
   "outputs": [
    {
     "data": {
      "text/latex": [
       "$\\displaystyle x^{3} - y^{3}$"
      ],
      "text/plain": [
       "x**3 - y**3"
      ]
     },
     "execution_count": 26,
     "metadata": {},
     "output_type": "execute_result"
    }
   ],
   "source": [
    "from sympy import symbols\n",
    "x=symbols('x')\n",
    "y=symbols('y')\n",
    "x,y=symbols('x,y')\n",
    "s=x**3-y**3\n",
    "s"
   ]
  },
  {
   "cell_type": "markdown",
   "id": "82e3b374",
   "metadata": {},
   "source": [
    "#### 2"
   ]
  },
  {
   "cell_type": "code",
   "execution_count": 2,
   "id": "66b0fff5",
   "metadata": {},
   "outputs": [
    {
     "data": {
      "text/latex": [
       "$\\displaystyle \\left(x - y\\right) \\left(x^{2} + x y + y^{2}\\right)$"
      ],
      "text/plain": [
       "(x - y)*(x**2 + x*y + y**2)"
      ]
     },
     "execution_count": 2,
     "metadata": {},
     "output_type": "execute_result"
    }
   ],
   "source": [
    "from sympy import factor\n",
    "factor(s)\n"
   ]
  },
  {
   "cell_type": "markdown",
   "id": "ebcb85ad",
   "metadata": {},
   "source": [
    "#### 3"
   ]
  },
  {
   "cell_type": "code",
   "execution_count": 6,
   "id": "48c8f31c",
   "metadata": {},
   "outputs": [
    {
     "data": {
      "text/latex": [
       "$\\displaystyle 2 x^{2} + 5 x - 12$"
      ],
      "text/plain": [
       "2*x**2 + 5*x - 12"
      ]
     },
     "execution_count": 6,
     "metadata": {},
     "output_type": "execute_result"
    }
   ],
   "source": [
    "exp= 2*(x**2) + 5*x -12\n",
    "exp\n"
   ]
  },
  {
   "cell_type": "code",
   "execution_count": 5,
   "id": "31b3a3e7",
   "metadata": {},
   "outputs": [
    {
     "data": {
      "text/latex": [
       "$\\displaystyle \\left(x + 4\\right) \\left(2 x - 3\\right)$"
      ],
      "text/plain": [
       "(x + 4)*(2*x - 3)"
      ]
     },
     "execution_count": 5,
     "metadata": {},
     "output_type": "execute_result"
    }
   ],
   "source": [
    "factor(exp)"
   ]
  },
  {
   "cell_type": "markdown",
   "id": "fea5df58",
   "metadata": {},
   "source": [
    "#### Expand"
   ]
  },
  {
   "cell_type": "code",
   "execution_count": 7,
   "id": "665514e0",
   "metadata": {},
   "outputs": [
    {
     "data": {
      "text/latex": [
       "$\\displaystyle x^{2} - 3 x - 10$"
      ],
      "text/plain": [
       "x**2 - 3*x - 10"
      ]
     },
     "execution_count": 7,
     "metadata": {},
     "output_type": "execute_result"
    }
   ],
   "source": [
    "w=x**2-3*x-10\n",
    "w"
   ]
  },
  {
   "cell_type": "code",
   "execution_count": 8,
   "id": "40fcbaed",
   "metadata": {},
   "outputs": [
    {
     "data": {
      "text/latex": [
       "$\\displaystyle \\left(x - 5\\right) \\left(x + 2\\right)$"
      ],
      "text/plain": [
       "(x - 5)*(x + 2)"
      ]
     },
     "execution_count": 8,
     "metadata": {},
     "output_type": "execute_result"
    }
   ],
   "source": [
    "factor(w)"
   ]
  },
  {
   "cell_type": "code",
   "execution_count": 12,
   "id": "919a6c19",
   "metadata": {},
   "outputs": [
    {
     "data": {
      "text/latex": [
       "$\\displaystyle x^{3} - y^{3}$"
      ],
      "text/plain": [
       "x**3 - y**3"
      ]
     },
     "execution_count": 12,
     "metadata": {},
     "output_type": "execute_result"
    }
   ],
   "source": [
    "from sympy import expand\n",
    "expand(x**3-y**3)"
   ]
  },
  {
   "cell_type": "code",
   "execution_count": 15,
   "id": "ba93b7f1",
   "metadata": {},
   "outputs": [
    {
     "data": {
      "text/latex": [
       "$\\displaystyle 2 x^{2} + 5 x - 12$"
      ],
      "text/plain": [
       "2*x**2 + 5*x - 12"
      ]
     },
     "execution_count": 15,
     "metadata": {},
     "output_type": "execute_result"
    }
   ],
   "source": [
    "expand((x+4)*((2*x)-3))"
   ]
  },
  {
   "cell_type": "code",
   "execution_count": 16,
   "id": "6b197342",
   "metadata": {},
   "outputs": [
    {
     "data": {
      "text/latex": [
       "$\\displaystyle x^{2} - 3 x - 10$"
      ],
      "text/plain": [
       "x**2 - 3*x - 10"
      ]
     },
     "execution_count": 16,
     "metadata": {},
     "output_type": "execute_result"
    }
   ],
   "source": [
    "expand((x-5)*(x+2))"
   ]
  },
  {
   "cell_type": "markdown",
   "id": "ba73bfad",
   "metadata": {},
   "source": [
    "### Simplify"
   ]
  },
  {
   "cell_type": "code",
   "execution_count": 27,
   "id": "5ccd4616",
   "metadata": {},
   "outputs": [
    {
     "data": {
      "text/latex": [
       "$\\displaystyle \\frac{x^{2} + 2 x + 1}{x - 2}$"
      ],
      "text/plain": [
       "(x**2 + 2*x + 1)/(x - 2)"
      ]
     },
     "execution_count": 27,
     "metadata": {},
     "output_type": "execute_result"
    }
   ],
   "source": [
    "from sympy import *\n",
    "cancel((((x**3) +(3*(x**2))+ 3*x+ 1)/((x**2)-x-2)))"
   ]
  },
  {
   "cell_type": "code",
   "execution_count": 18,
   "id": "549d699a",
   "metadata": {},
   "outputs": [
    {
     "data": {
      "text/latex": [
       "$\\displaystyle \\frac{x - 3}{x + 2}$"
      ],
      "text/plain": [
       "(x - 3)/(x + 2)"
      ]
     },
     "execution_count": 18,
     "metadata": {},
     "output_type": "execute_result"
    }
   ],
   "source": [
    "cancel(((x**2)-9)/((x**2)+5*x+6))"
   ]
  },
  {
   "cell_type": "code",
   "execution_count": 30,
   "id": "2ceac179",
   "metadata": {},
   "outputs": [
    {
     "data": {
      "text/latex": [
       "$\\displaystyle \\frac{x + 3}{x + 5}$"
      ],
      "text/plain": [
       "(x + 3)/(x + 5)"
      ]
     },
     "execution_count": 30,
     "metadata": {},
     "output_type": "execute_result"
    }
   ],
   "source": [
    "cancel(((x**2)+ 3*x)/((x**2)+5*x))"
   ]
  },
  {
   "cell_type": "code",
   "execution_count": null,
   "id": "a9739c58",
   "metadata": {},
   "outputs": [],
   "source": []
  }
 ],
 "metadata": {
  "kernelspec": {
   "display_name": "Python 3 (ipykernel)",
   "language": "python",
   "name": "python3"
  },
  "language_info": {
   "codemirror_mode": {
    "name": "ipython",
    "version": 3
   },
   "file_extension": ".py",
   "mimetype": "text/x-python",
   "name": "python",
   "nbconvert_exporter": "python",
   "pygments_lexer": "ipython3",
   "version": "3.9.7"
  }
 },
 "nbformat": 4,
 "nbformat_minor": 5
}
