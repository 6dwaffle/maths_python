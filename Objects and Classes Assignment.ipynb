{
 "cells": [
  {
   "cell_type": "code",
   "execution_count": 5,
   "id": "5dfd8965",
   "metadata": {},
   "outputs": [],
   "source": [
    "class employee: # Doesnt have any attributes (variables and functions)\n",
    "    pass\n",
    "\n",
    "e1 = employee() # Object of class employee\n",
    "e2 = employee()\n",
    "\n"
   ]
  },
  {
   "cell_type": "code",
   "execution_count": 4,
   "id": "e0b50627",
   "metadata": {},
   "outputs": [
    {
     "name": "stdout",
     "output_type": "stream",
     "text": [
      "Siddhant\n",
      "36\n"
     ]
    }
   ],
   "source": [
    "class employee:\n",
    "    age = 36\n",
    "    name = \"Siddhant\" # variables\n",
    "e = employee()\n",
    "print(e.name)\n",
    "print(e.age)"
   ]
  },
  {
   "cell_type": "code",
   "execution_count": 6,
   "id": "dec43daf",
   "metadata": {},
   "outputs": [
    {
     "name": "stdout",
     "output_type": "stream",
     "text": [
      "Enter Age of the Employee: 45\n",
      "Enter name of the Employee: Arkadyuti Bhattacharjee\n",
      "Enter education of the Employee: High School \n",
      "19\n",
      "Siddhant\n",
      "University-Degree\n",
      "45\n",
      "Arkadyuti Bhattacharjee\n",
      "High School \n"
     ]
    }
   ],
   "source": [
    "class employee:\n",
    "    def inputDetails(s): #member functions\n",
    "        s.age1 = 19\n",
    "        s.name1 = \"Siddhant\" # variables\n",
    "        s.education1= \"University-Degree\"\n",
    "    def inputDetails2(s):\n",
    "        s.age2 = input(\"Enter Age of the Employee: \")\n",
    "        s.name2 = input(\"Enter name of the Employee: \")\n",
    "        s.education2=input(\"Enter education of the Employee: \")\n",
    "    def displayDetails(s):\n",
    "        print(s.age1)\n",
    "        print(s.name1)\n",
    "        print(s.education1)\n",
    "        print(s.age2)\n",
    "        print(s.name2)\n",
    "        print(s.education2)\n",
    "e = employee()\n",
    "\n",
    "e.inputDetails()\n",
    "e.inputDetails2()\n",
    "e.displayDetails()"
   ]
  },
  {
   "cell_type": "code",
   "execution_count": 3,
   "id": "9133a15d",
   "metadata": {},
   "outputs": [
    {
     "name": "stdout",
     "output_type": "stream",
     "text": [
      "The name of the employee is:  Siddhant\n",
      "The age of the employee is:  21\n",
      "The Education of the employee is:  University-Degree\n",
      "The marital status of the employee is:  Married\n",
      "The name of the employee is:  Shuja\n",
      "The age of the empolyee is:  29\n",
      "The Education of the employee is:  University-Degree\n",
      "The marital status of the employee is: Un-Married\n"
     ]
    }
   ],
   "source": [
    "###__init__() is a special function used in classes to intialize the values\n",
    "class employee:\n",
    "    def __init__(s, name, age, edu,mar): #constructor\n",
    "        s.name = name # data variable/ instance variable\n",
    "        s.age = age ### data variable/ instance variable\n",
    "        s.edu = edu\n",
    "        s.mar = mar\n",
    "s1 = employee(\"Siddhant\", 21, \"University-Degree\",\"Married\")\n",
    "print(\"The name of the employee is: \", s1.name)\n",
    "print(\"The age of the employee is: \", s1.age)\n",
    "print(\"The Education of the employee is: \", s1.edu)\n",
    "print(\"The marital status of the employee is: \", s1.mar)\n",
    "s2 = employee(\"Shuja\", 29, \"University-Degree\",\"Un-Married\")\n",
    "print(\"The name of the employee is: \", s2.name)\n",
    "print(\"The age of the empolyee is: \", s2.age)\n",
    "print(\"The Education of the employee is: \", s2.edu)\n",
    "print(\"The marital status of the employee is:\", s2.mar)"
   ]
  },
  {
   "cell_type": "code",
   "execution_count": 1,
   "id": "80d28817",
   "metadata": {},
   "outputs": [
    {
     "name": "stdout",
     "output_type": "stream",
     "text": [
      "Enter Age of the Employee: 45\n",
      "Enter Name of the Employee Siddhant Lama\n",
      "Enter Marital Status of the Employee Married\n",
      "Add Details of more Employee's  y/n?y\n",
      "Enter Age of the Employee: 56\n",
      "Enter Name of the Employee Arkadyuti Bhattacharjee\n",
      "Enter Marital Status of the Employee Un-Married\n",
      "Add Details of more Employee's  y/n?y\n",
      "Enter Age of the Employee: 24\n",
      "Enter Name of the Employee Palak Chawla\n",
      "Enter Marital Status of the Employee Un-Married\n",
      "Add Details of more Employee's  y/n?y\n",
      "Enter Age of the Employee: 29\n",
      "Enter Name of the Employee Shifa Ali\n",
      "Enter Marital Status of the Employee Married\n",
      "Add Details of more Employee's  y/n?n\n",
      "Array : \n",
      "45 Siddhant Lama Married\n",
      "56 Arkadyuti Bhattacharjee Un-Married\n",
      "24 Palak Chawla Un-Married\n",
      "29 Shifa Ali Married\n"
     ]
    }
   ],
   "source": [
    "class Employee:\n",
    "    def GetempInfo(s):\n",
    "        s.age = input(\"Enter Age of the Employee: \")\n",
    "        s.name = input(\"Enter Name of the Employee \")\n",
    "        s.mar=input(\"Enter Marital Status of the Employee \")\n",
    "    def printResult(s):\n",
    "        print(s.age,s.name,s.mar)\n",
    "\n",
    "EmpArray = []\n",
    "while(True):\n",
    "    emp = Employee()\n",
    "    emp.GetempInfo()\n",
    "    EmpArray.append(emp)\n",
    "    ch = input(\"Add Details of more Employee's  y/n?\")\n",
    "    if(ch=='n'):\n",
    "        break\n",
    "print(\"Array : \")\n",
    "for emp in EmpArray:\n",
    "    emp.printResult()"
   ]
  },
  {
   "cell_type": "code",
   "execution_count": null,
   "id": "1305c869",
   "metadata": {},
   "outputs": [],
   "source": []
  }
 ],
 "metadata": {
  "kernelspec": {
   "display_name": "Python 3 (ipykernel)",
   "language": "python",
   "name": "python3"
  },
  "language_info": {
   "codemirror_mode": {
    "name": "ipython",
    "version": 3
   },
   "file_extension": ".py",
   "mimetype": "text/x-python",
   "name": "python",
   "nbconvert_exporter": "python",
   "pygments_lexer": "ipython3",
   "version": "3.9.7"
  }
 },
 "nbformat": 4,
 "nbformat_minor": 5
}
