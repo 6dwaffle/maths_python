{
 "cells": [
  {
   "cell_type": "markdown",
   "id": "bf5f7330",
   "metadata": {},
   "source": [
    "#### Constructor: Initialization of Object\n",
    "#### list[ ]: used to create an empty list\n",
    "#### Frozen Set - Immutable Type - tuple()\n",
    "#### List:Mutable: Indexed: Heterogeneous\n",
    "#### type(a) - gives the data type of the variable a"
   ]
  },
  {
   "cell_type": "code",
   "execution_count": 3,
   "id": "9cfc416d",
   "metadata": {},
   "outputs": [
    {
     "data": {
      "text/plain": [
       "[5.3, 786, True]"
      ]
     },
     "execution_count": 3,
     "metadata": {},
     "output_type": "execute_result"
    }
   ],
   "source": [
    "foo = [\"Another Techs\",52,5.3,786,True]\n",
    "foo[2:5] #slicing"
   ]
  },
  {
   "cell_type": "code",
   "execution_count": 19,
   "id": "fde90e13",
   "metadata": {},
   "outputs": [
    {
     "name": "stdout",
     "output_type": "stream",
     "text": [
      "<class 'str'>\n",
      "tuple t3 is a new variable 1 A 3\n"
     ]
    }
   ],
   "source": [
    "t1 = ('1')\n",
    "t2 =(\" A\")\n",
    "t3 = t1+t2 #not concatenation, but is creating a new tuple because we are not modifying the data of the already existing tuple\n",
    "print(type(t3))\n",
    "print(\"tuple t3 is a new variable\", t3, len(t3))"
   ]
  },
  {
   "cell_type": "code",
   "execution_count": 23,
   "id": "8d1e2c9d",
   "metadata": {},
   "outputs": [
    {
     "data": {
      "text/plain": [
       "('1',)"
      ]
     },
     "execution_count": 23,
     "metadata": {},
     "output_type": "execute_result"
    }
   ],
   "source": [
    "t1 = ('1'),\n",
    "t2 =(\" A\"),\n",
    "q=list(t1) #typecast tuple to List \n",
    "q.pop(0)\n",
    "t1"
   ]
  },
  {
   "cell_type": "code",
   "execution_count": 11,
   "id": "dccf9602",
   "metadata": {},
   "outputs": [
    {
     "ename": "TypeError",
     "evalue": "can only concatenate str (not \"tuple\") to str",
     "output_type": "error",
     "traceback": [
      "\u001b[1;31m---------------------------------------------------------------------------\u001b[0m",
      "\u001b[1;31mTypeError\u001b[0m                                 Traceback (most recent call last)",
      "\u001b[1;32m~\\AppData\\Local\\Temp/ipykernel_11748/884386177.py\u001b[0m in \u001b[0;36m<module>\u001b[1;34m\u001b[0m\n\u001b[0;32m      1\u001b[0m \u001b[0mt1\u001b[0m \u001b[1;33m=\u001b[0m \u001b[1;33m(\u001b[0m\u001b[1;34m'1'\u001b[0m\u001b[1;33m)\u001b[0m\u001b[1;33m\u001b[0m\u001b[1;33m\u001b[0m\u001b[0m\n\u001b[0;32m      2\u001b[0m \u001b[0mt2\u001b[0m \u001b[1;33m=\u001b[0m\u001b[1;33m(\u001b[0m\u001b[1;34m\"A\"\u001b[0m\u001b[1;33m)\u001b[0m\u001b[1;33m,\u001b[0m \u001b[1;31m#use comma after tuple because it will be taken as a string by default\u001b[0m\u001b[1;33m\u001b[0m\u001b[1;33m\u001b[0m\u001b[0m\n\u001b[1;32m----> 3\u001b[1;33m \u001b[0mt1\u001b[0m \u001b[1;33m=\u001b[0m \u001b[0mt1\u001b[0m\u001b[1;33m+\u001b[0m\u001b[0mt2\u001b[0m\u001b[1;33m\u001b[0m\u001b[1;33m\u001b[0m\u001b[0m\n\u001b[0m\u001b[0;32m      4\u001b[0m \u001b[0mprint\u001b[0m\u001b[1;33m(\u001b[0m\u001b[0mtype\u001b[0m\u001b[1;33m(\u001b[0m\u001b[0mt1\u001b[0m\u001b[1;33m)\u001b[0m\u001b[1;33m)\u001b[0m\u001b[1;33m\u001b[0m\u001b[1;33m\u001b[0m\u001b[0m\n\u001b[0;32m      5\u001b[0m \u001b[0mprint\u001b[0m\u001b[1;33m(\u001b[0m\u001b[1;34m\"tuple t3 is a new variable\"\u001b[0m\u001b[1;33m,\u001b[0m \u001b[0mt1\u001b[0m\u001b[1;33m,\u001b[0m \u001b[0mlen\u001b[0m\u001b[1;33m(\u001b[0m\u001b[0mt1\u001b[0m\u001b[1;33m)\u001b[0m\u001b[1;33m)\u001b[0m\u001b[1;33m\u001b[0m\u001b[1;33m\u001b[0m\u001b[0m\n",
      "\u001b[1;31mTypeError\u001b[0m: can only concatenate str (not \"tuple\") to str"
     ]
    }
   ],
   "source": [
    "t1 = ('1')\n",
    "t2 =(\"A\"), #use comma after tuple because it will be taken as a string by default\n",
    "t1 = t1+t2\n",
    "print(type(t1))\n",
    "print(\"tuple t3 is a new variable\", t1, len(t1))"
   ]
  },
  {
   "cell_type": "code",
   "execution_count": 27,
   "id": "69545ece",
   "metadata": {},
   "outputs": [
    {
     "name": "stdout",
     "output_type": "stream",
     "text": [
      "<class 'tuple'>\n"
     ]
    }
   ],
   "source": [
    "f=(1,2,3,4,5)\n",
    "g=list(f)\n",
    "g\n",
    "g.pop(2)\n",
    "g\n",
    "k=tuple(g)\n",
    "k\n",
    "print(type(k))"
   ]
  },
  {
   "cell_type": "markdown",
   "id": "b5426acd",
   "metadata": {},
   "source": [
    "#### Difference between Sort() and Sorted()"
   ]
  },
  {
   "cell_type": "code",
   "execution_count": 30,
   "id": "76571210",
   "metadata": {},
   "outputs": [
    {
     "data": {
      "text/plain": [
       "['__add__',\n",
       " '__class__',\n",
       " '__class_getitem__',\n",
       " '__contains__',\n",
       " '__delattr__',\n",
       " '__dir__',\n",
       " '__doc__',\n",
       " '__eq__',\n",
       " '__format__',\n",
       " '__ge__',\n",
       " '__getattribute__',\n",
       " '__getitem__',\n",
       " '__getnewargs__',\n",
       " '__gt__',\n",
       " '__hash__',\n",
       " '__init__',\n",
       " '__init_subclass__',\n",
       " '__iter__',\n",
       " '__le__',\n",
       " '__len__',\n",
       " '__lt__',\n",
       " '__mul__',\n",
       " '__ne__',\n",
       " '__new__',\n",
       " '__reduce__',\n",
       " '__reduce_ex__',\n",
       " '__repr__',\n",
       " '__rmul__',\n",
       " '__setattr__',\n",
       " '__sizeof__',\n",
       " '__str__',\n",
       " '__subclasshook__',\n",
       " 'count',\n",
       " 'index']"
      ]
     },
     "execution_count": 30,
     "metadata": {},
     "output_type": "execute_result"
    }
   ],
   "source": [
    "dir(k) # gives all the functions of Tuples"
   ]
  },
  {
   "cell_type": "code",
   "execution_count": null,
   "id": "79cd7468",
   "metadata": {},
   "outputs": [],
   "source": []
  }
 ],
 "metadata": {
  "kernelspec": {
   "display_name": "Python 3 (ipykernel)",
   "language": "python",
   "name": "python3"
  },
  "language_info": {
   "codemirror_mode": {
    "name": "ipython",
    "version": 3
   },
   "file_extension": ".py",
   "mimetype": "text/x-python",
   "name": "python",
   "nbconvert_exporter": "python",
   "pygments_lexer": "ipython3",
   "version": "3.9.7"
  }
 },
 "nbformat": 4,
 "nbformat_minor": 5
}
